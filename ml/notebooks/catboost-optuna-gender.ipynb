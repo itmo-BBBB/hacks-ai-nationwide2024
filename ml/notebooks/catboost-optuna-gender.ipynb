{
 "metadata": {
  "kernelspec": {
   "language": "python",
   "display_name": "Python 3",
   "name": "python3"
  },
  "language_info": {
   "name": "python",
   "version": "3.10.14",
   "mimetype": "text/x-python",
   "codemirror_mode": {
    "name": "ipython",
    "version": 3
   },
   "pygments_lexer": "ipython3",
   "nbconvert_exporter": "python",
   "file_extension": ".py"
  },
  "kaggle": {
   "accelerator": "gpu",
   "dataSources": [
    {
     "sourceId": 9500589,
     "sourceType": "datasetVersion",
     "datasetId": 5781834
    }
   ],
   "dockerImageVersionId": 30776,
   "isInternetEnabled": true,
   "language": "python",
   "sourceType": "notebook",
   "isGpuEnabled": true
  }
 },
 "nbformat_minor": 4,
 "nbformat": 4,
 "cells": [
  {
   "cell_type": "code",
   "source": [
    "import optuna\n",
    "\n",
    "import pandas as pd\n",
    "import catboost as cb\n",
    "\n",
    "from catboost import Pool, CatBoostClassifier\n",
    "from sklearn.model_selection import train_test_split\n",
    "from sklearn.metrics import f1_score, accuracy_score, classification_report\n",
    "\n",
    "from typing import List, Tuple\n",
    "\n",
    "random_state = 42"
   ],
   "metadata": {
    "_uuid": "8f2839f25d086af736a60e9eeb907d3b93b6e0e5",
    "_cell_guid": "b1076dfc-b9ad-4769-8c92-a6c4dae69d19",
    "execution": {
     "iopub.status.busy": "2024-09-28T14:26:30.100133Z",
     "iopub.execute_input": "2024-09-28T14:26:30.101194Z",
     "iopub.status.idle": "2024-09-28T14:26:31.198748Z",
     "shell.execute_reply.started": "2024-09-28T14:26:30.101146Z",
     "shell.execute_reply": "2024-09-28T14:26:31.197743Z"
    },
    "trusted": true
   },
   "execution_count": 1,
   "outputs": []
  },
  {
   "cell_type": "code",
   "source": [
    "import os\n",
    "print(os.listdir(\"../input\"))"
   ],
   "metadata": {
    "execution": {
     "iopub.status.busy": "2024-09-28T14:26:31.201014Z",
     "iopub.execute_input": "2024-09-28T14:26:31.201644Z",
     "iopub.status.idle": "2024-09-28T14:26:31.210013Z",
     "shell.execute_reply.started": "2024-09-28T14:26:31.201599Z",
     "shell.execute_reply": "2024-09-28T14:26:31.208944Z"
    },
    "trusted": true
   },
   "execution_count": 2,
   "outputs": [
    {
     "name": "stdout",
     "text": "['catboost_dataset.csv']\n",
     "output_type": "stream"
    }
   ]
  },
  {
   "cell_type": "markdown",
   "source": [
    "## Data processing"
   ],
   "metadata": {}
  },
  {
   "cell_type": "code",
   "source": [
    "# columns\n",
    "target_gender = \"sex\"\n",
    "target_age = \"age_class\"\n",
    "\n",
    "cat_features = [\"region\", \"ua_device_type\", \"ua_client_type\", \"ua_os\", \"ua_client_name\", \"category\"]\n",
    "text_feature = \"title\"\n",
    "date_feature = \"event_timestamp\"\n",
    "\n",
    "drop_feature = \"age\"\n",
    "\n",
    "id_columns = [\"viewer_uid\", \"rutube_video_id\", \"author_id\"]"
   ],
   "metadata": {
    "execution": {
     "iopub.status.busy": "2024-09-28T14:26:31.211391Z",
     "iopub.execute_input": "2024-09-28T14:26:31.211730Z",
     "iopub.status.idle": "2024-09-28T14:26:31.219810Z",
     "shell.execute_reply.started": "2024-09-28T14:26:31.211685Z",
     "shell.execute_reply": "2024-09-28T14:26:31.218914Z"
    },
    "trusted": true
   },
   "execution_count": 3,
   "outputs": []
  },
  {
   "cell_type": "code",
   "source": [
    "dataset = pd.read_csv('/kaggle/input/catboost_dataset.csv').drop(\n",
    "    drop_feature, axis=1\n",
    ").fillna('none')\n",
    "\n",
    "# new feature\n",
    "dataset['videos_per_day'] = dataset.groupby(['viewer_uid', 'day']).transform('size')\n",
    "\n",
    "# drop unimportant old features\n",
    "dataset = dataset.drop([\"second\", \"minute\", \"month\",\"year\"], axis=1)"
   ],
   "metadata": {
    "execution": {
     "iopub.status.busy": "2024-09-28T14:26:31.221799Z",
     "iopub.execute_input": "2024-09-28T14:26:31.222093Z",
     "iopub.status.idle": "2024-09-28T14:26:45.880610Z",
     "shell.execute_reply.started": "2024-09-28T14:26:31.222061Z",
     "shell.execute_reply": "2024-09-28T14:26:45.879667Z"
    },
    "trusted": true
   },
   "execution_count": 4,
   "outputs": []
  },
  {
   "cell_type": "markdown",
   "source": [
    "## Utils"
   ],
   "metadata": {}
  },
  {
   "cell_type": "code",
   "source": [
    "def split_data(data: pd.DataFrame, target: str, test_size: float) -> Tuple[pd.DataFrame, pd.DataFrame]:\n",
    "    \"\"\"\n",
    "    Splits the data into training and testing sets based on the specified test size.\n",
    "    \"\"\"\n",
    "    train, test,= train_test_split(\n",
    "        data, \n",
    "        test_size=test_size, \n",
    "        stratify=data[target],\n",
    "        random_state=random_state\n",
    "    )\n",
    "    return train, test\n",
    "\n",
    "\n",
    "def set_pool(data: pd.DataFrame, target: str, id_columns: List[str]) -> Pool:\n",
    "    \"\"\"\n",
    "    Prepares the data as a CatBoost Pool object, separating features, target, and categorical/text features.\n",
    "    \"\"\"\n",
    "    return Pool(\n",
    "        data=data.drop(id_columns + [target], axis=1),\n",
    "        cat_features=cat_features,\n",
    "        text_features=[text_feature],\n",
    "        label=data[target]\n",
    "    )\n",
    "\n",
    "\n",
    "def fit_model(\n",
    "    train_pool: cb.core.Pool, \n",
    "    test_pool: cb.core.Pool,\n",
    "    verbose: int, \n",
    "    **kwargs\n",
    ") -> cb.core.CatBoostClassifier:\n",
    "    \"\"\"\n",
    "    Trains a CatBoost classifier model on the given training data and evaluates it on the test set.\n",
    "    \"\"\"\n",
    "    eval_metric = 'Accuracy'\n",
    "    loss_function = 'Logloss'\n",
    "        \n",
    "    model = CatBoostClassifier(\n",
    "        task_type='GPU',\n",
    "        eval_metric=eval_metric,\n",
    "        loss_function=loss_function,\n",
    "        od_type='Iter',\n",
    "        od_wait=100,\n",
    "        random_seed=random_state,\n",
    "        **kwargs\n",
    "    )\n",
    "    return model.fit(\n",
    "        train_pool, \n",
    "        eval_set=test_pool, \n",
    "        verbose=verbose,\n",
    "        use_best_model=True,\n",
    "    )\n",
    "\n",
    "\n",
    "def print_classification_result(real: pd.Series, pred: pd.Series, multiclass: bool = True):\n",
    "    \"\"\"\n",
    "    Prints the classification metrics (Accuracy or F1-score) and detailed classification report.\n",
    "    \"\"\"\n",
    "    if not multiclass: \n",
    "        result_score = f'Accuracy: {accuracy_score(real, pred)}'\n",
    "    else:\n",
    "        result_score = f'F1: {f1_score(real, pred, average=\"weighted\")}'\n",
    "    \n",
    "    print(\n",
    "        result_score,\n",
    "        classification_report(real, pred),\n",
    "        sep='\\n'\n",
    "    )\n",
    "    \n",
    "    \n",
    "def aggregate_score_by_user(test: pd.DataFrame, preds: pd.DataFrame):\n",
    "    \"\"\"\n",
    "    Aggregates predictions by user ID by taking the mode of the predicted values.\n",
    "\n",
    "    This function adds the predictions to the test DataFrame and then computes \n",
    "    the most common prediction (mode) for each user based on their viewer_uid.\n",
    "    \"\"\"\n",
    "    test_with_preds = test\n",
    "    test_with_preds['preds'] = preds\n",
    "\n",
    "    value_counts_preds = test_with_preds.groupby('viewer_uid')['preds'].apply(lambda x: x.mode()[0])\n",
    "    value_counts_preds = value_counts_preds.to_dict()\n",
    "    final_preds = test['viewer_uid'].apply(lambda x: value_counts_preds[x])\n",
    "    return final_preds\n",
    "\n",
    "\n",
    "def final_score(\n",
    "    gender_real: pd.DataFrame,\n",
    "    gender_pred: pd.DataFrame, \n",
    "    age_real: pd.DataFrame, \n",
    "    age_pred: pd.DataFrame\n",
    "):\n",
    "    \"\"\"\n",
    "    Computes the final score as a weighted combination of gender accuracy and age F1-score.\n",
    "    \"\"\"\n",
    "    gender = accuracy_score(gender_real, gender_pred)\n",
    "    age = f1_score(age_real, age_pred, average=\"weighted\")\n",
    "    result = 0.3 * gender + 0.7 * age\n",
    "    print(f'Final score: {result}')\n",
    "    return result"
   ],
   "metadata": {
    "execution": {
     "iopub.status.busy": "2024-09-28T14:28:02.947090Z",
     "iopub.execute_input": "2024-09-28T14:28:02.947796Z",
     "iopub.status.idle": "2024-09-28T14:28:02.963729Z",
     "shell.execute_reply.started": "2024-09-28T14:28:02.947748Z",
     "shell.execute_reply": "2024-09-28T14:28:02.962564Z"
    },
    "trusted": true
   },
   "execution_count": 9,
   "outputs": []
  },
  {
   "cell_type": "markdown",
   "source": [
    "## Optuna"
   ],
   "metadata": {}
  },
  {
   "cell_type": "markdown",
   "source": [
    "### Gender model"
   ],
   "metadata": {}
  },
  {
   "cell_type": "code",
   "source": [
    "gender_train, gender_test = split_data(\n",
    "        data=dataset, \n",
    "        target=target_gender,\n",
    "        test_size=0.2,\n",
    "    )\n",
    "\n",
    "gender_train_pool = set_pool(gender_train.drop(target_age, axis=1), target_gender, id_columns)\n",
    "gender_test_pool = set_pool(gender_test.drop(target_age, axis=1), target_gender, id_columns)\n",
    "\n",
    "def gender_objective(trial):\n",
    "    gender_params = {\n",
    "        \"bootstrap_type\": trial.suggest_categorical(\"bootstrap_type\", [\"Bayesian\", \"Bernoulli\", \"Poisson\", None]),\n",
    "        \"auto_class_weights\": trial.suggest_categorical(\"auto_class_weights\", [\"Balanced\", \"SqrtBalanced\", None]),\n",
    "        \"learning_rate\": trial.suggest_float(\"learning_rate\", 0.03, 0.5)\n",
    "    }\n",
    "    \n",
    "    if gender_params[\"bootstrap_type\"] == \"Bayesian\":\n",
    "        gender_params[\"bagging_temperature\"] = trial.suggest_float(\"bagging_temperature\", 0, 10)\n",
    "    elif gender_params[\"bootstrap_type\"] == \"Bernoulli\":\n",
    "        gender_params[\"subsample\"] = trial.suggest_float(\"subsample\", 0.1, 1)\n",
    "    \n",
    "    gender_model = fit_model(\n",
    "        gender_train_pool, \n",
    "        gender_test_pool,\n",
    "        verbose=500,\n",
    "        iterations=1500 ,\n",
    "        tokenizers=[\n",
    "            {\n",
    "                'tokenizer_id': 'Sense',\n",
    "                'separator_type': 'BySense',\n",
    "                'lowercasing': 'True',\n",
    "                'token_types':['Word', 'Number', 'SentenceBreak'],\n",
    "                'sub_tokens_policy':'SeveralTokens'\n",
    "            }      \n",
    "        ],\n",
    "        dictionaries = [\n",
    "            {\n",
    "                'dictionary_id': 'Word',\n",
    "                'dictionary_type': 'Bpe',\n",
    "                'max_dictionary_size': '5000',\n",
    "                'num_bpe_units': 1\n",
    "            }\n",
    "        ],\n",
    "        feature_calcers = [\n",
    "            'BoW:top_tokens_count=5000'\n",
    "        ],\n",
    "        **gender_params\n",
    "    )\n",
    "    \n",
    "    gender_preds = gender_model.predict(gender_test_pool)\n",
    "    gender_final_preds = aggregate_score_by_user(gender_test, gender_preds)\n",
    "    score = f1_score(gender_test[target_gender], gender_final_preds, average=\"weighted\")\n",
    "    \n",
    "    return score"
   ],
   "metadata": {
    "execution": {
     "iopub.status.busy": "2024-09-28T14:28:05.386444Z",
     "iopub.execute_input": "2024-09-28T14:28:05.386864Z",
     "iopub.status.idle": "2024-09-28T14:28:14.293017Z",
     "shell.execute_reply.started": "2024-09-28T14:28:05.386830Z",
     "shell.execute_reply": "2024-09-28T14:28:14.292164Z"
    },
    "trusted": true
   },
   "execution_count": 10,
   "outputs": []
  },
  {
   "cell_type": "code",
   "source": [
    "if __name__ == \"__main__\":\n",
    "    study = optuna.create_study(direction=\"maximize\")\n",
    "    study.optimize(gender_objective, n_trials=50, show_progress_bar=True)\n",
    "\n",
    "    print(\"Number of finished trials: {}\".format(len(study.trials)))\n",
    "    print(\"Best trial:\")\n",
    "    trial = study.best_trial\n",
    "\n",
    "    print(\"  Value: {}\".format(trial.value))\n",
    "\n",
    "    print(\"  Params: \")\n",
    "    for key, value in trial.params.items():\n",
    "        print(\"    {}: {}\".format(key, value))"
   ],
   "metadata": {
    "execution": {
     "iopub.status.busy": "2024-09-28T14:28:14.294677Z",
     "iopub.execute_input": "2024-09-28T14:28:14.295340Z",
     "iopub.status.idle": "2024-09-28T16:03:31.529644Z",
     "shell.execute_reply.started": "2024-09-28T14:28:14.295294Z",
     "shell.execute_reply": "2024-09-28T16:03:31.528634Z"
    },
    "trusted": true
   },
   "execution_count": 11,
   "outputs": [
    {
     "name": "stderr",
     "text": "[I 2024-09-28 14:28:14,298] A new study created in memory with name: no-name-12b2b4b6-93b4-4e09-a47c-8a3953a3da63\n",
     "output_type": "stream"
    },
    {
     "output_type": "display_data",
     "data": {
      "text/plain": "  0%|          | 0/50 [00:00<?, ?it/s]",
      "application/vnd.jupyter.widget-view+json": {
       "version_major": 2,
       "version_minor": 0,
       "model_id": "0b2b1ea05e68437ca9a6789417c60d19"
      }
     },
     "metadata": {}
    },
    {
     "name": "stdout",
     "text": "0:\tlearn: 0.7109818\ttest: 0.7113572\tbest: 0.7113572 (0)\ttotal: 72ms\tremaining: 1m 47s\n500:\tlearn: 0.7904616\ttest: 0.7878487\tbest: 0.7878800 (499)\ttotal: 21.6s\tremaining: 43.1s\n1000:\tlearn: 0.8005670\ttest: 0.7957440\tbest: 0.7957609 (996)\ttotal: 43.7s\tremaining: 21.8s\n1499:\tlearn: 0.8078075\ttest: 0.8009057\tbest: 0.8009057 (1499)\ttotal: 1m 6s\tremaining: 0us\nbestTest = 0.8009056778\nbestIteration = 1499\n[I 2024-09-28 14:30:16,185] Trial 0 finished with value: 0.826623875248326 and parameters: {'bootstrap_type': None, 'auto_class_weights': 'Balanced', 'learning_rate': 0.3450282514286508}. Best is trial 0 with value: 0.826623875248326.\n0:\tlearn: 0.7109818\ttest: 0.7113572\tbest: 0.7113572 (0)\ttotal: 53.5ms\tremaining: 1m 20s\n500:\tlearn: 0.7753572\ttest: 0.7744524\tbest: 0.7744626 (499)\ttotal: 21.1s\tremaining: 42s\n1000:\tlearn: 0.7817469\ttest: 0.7802245\tbest: 0.7802245 (1000)\ttotal: 41.6s\tremaining: 20.7s\n1499:\tlearn: 0.7852265\ttest: 0.7828991\tbest: 0.7829083 (1488)\ttotal: 1m 2s\tremaining: 0us\nbestTest = 0.7829083464\nbestIteration = 1488\nShrink model to first 1489 iterations.\n[I 2024-09-28 14:32:07,750] Trial 1 finished with value: 0.8054187724724373 and parameters: {'bootstrap_type': 'Poisson', 'auto_class_weights': 'Balanced', 'learning_rate': 0.16761701184775973}. Best is trial 0 with value: 0.826623875248326.\n0:\tlearn: 0.7058935\ttest: 0.7070294\tbest: 0.7070294 (0)\ttotal: 52.3ms\tremaining: 1m 18s\n500:\tlearn: 0.7463000\ttest: 0.7463661\tbest: 0.7464030 (492)\ttotal: 19.9s\tremaining: 39.6s\n1000:\tlearn: 0.7538619\ttest: 0.7538234\tbest: 0.7538234 (1000)\ttotal: 38.6s\tremaining: 19.2s\n1499:\tlearn: 0.7581001\ttest: 0.7576692\tbest: 0.7576715 (1495)\ttotal: 57.3s\tremaining: 0us\nbestTest = 0.7576715181\nbestIteration = 1495\nShrink model to first 1496 iterations.\n[I 2024-09-28 14:33:52,947] Trial 2 finished with value: 0.777792275904386 and parameters: {'bootstrap_type': 'Bernoulli', 'auto_class_weights': 'Balanced', 'learning_rate': 0.041928474703274606, 'subsample': 0.7401475231911337}. Best is trial 0 with value: 0.826623875248326.\n0:\tlearn: 0.7053723\ttest: 0.7059350\tbest: 0.7059350 (0)\ttotal: 52ms\tremaining: 1m 17s\n500:\tlearn: 0.7705018\ttest: 0.7701940\tbest: 0.7701940 (500)\ttotal: 22.7s\tremaining: 45.2s\n1000:\tlearn: 0.7761644\ttest: 0.7755184\tbest: 0.7755276 (999)\ttotal: 42.7s\tremaining: 21.3s\n1499:\tlearn: 0.7790557\ttest: 0.7783087\tbest: 0.7783087 (1499)\ttotal: 1m 2s\tremaining: 0us\nbestTest = 0.7783086788\nbestIteration = 1499\n[I 2024-09-28 14:35:43,597] Trial 3 finished with value: 0.7995827184972072 and parameters: {'bootstrap_type': 'Bernoulli', 'auto_class_weights': 'SqrtBalanced', 'learning_rate': 0.05451606393047854, 'subsample': 0.22255945583890757}. Best is trial 0 with value: 0.826623875248326.\n0:\tlearn: 0.7068564\ttest: 0.7070670\tbest: 0.7070670 (0)\ttotal: 57.1ms\tremaining: 1m 25s\n500:\tlearn: 0.7658927\ttest: 0.7650532\tbest: 0.7650565 (498)\ttotal: 20.2s\tremaining: 40.2s\n1000:\tlearn: 0.7701812\ttest: 0.7688768\tbest: 0.7688768 (1000)\ttotal: 40.2s\tremaining: 20s\n1499:\tlearn: 0.7723871\ttest: 0.7703558\tbest: 0.7704946 (1457)\ttotal: 1m\tremaining: 0us\nbestTest = 0.7704945793\nbestIteration = 1457\nShrink model to first 1458 iterations.\n[I 2024-09-28 14:37:32,921] Trial 4 finished with value: 0.7916598398377205 and parameters: {'bootstrap_type': 'Bayesian', 'auto_class_weights': 'Balanced', 'learning_rate': 0.31721418079401487, 'bagging_temperature': 5.397533357347426}. Best is trial 0 with value: 0.826623875248326.\n0:\tlearn: 0.6900236\ttest: 0.6890965\tbest: 0.6890965 (0)\ttotal: 63.4ms\tremaining: 1m 35s\n500:\tlearn: 0.7691199\ttest: 0.7673354\tbest: 0.7673354 (500)\ttotal: 22.1s\tremaining: 44s\n1000:\tlearn: 0.7741424\ttest: 0.7709949\tbest: 0.7709949 (1000)\ttotal: 43.6s\tremaining: 21.7s\n1499:\tlearn: 0.7776379\ttest: 0.7730760\tbest: 0.7730760 (1499)\ttotal: 1m 5s\tremaining: 0us\nbestTest = 0.7730759733\nbestIteration = 1499\n[I 2024-09-28 14:39:26,258] Trial 5 finished with value: 0.797540130576236 and parameters: {'bootstrap_type': 'Bayesian', 'auto_class_weights': 'SqrtBalanced', 'learning_rate': 0.4985894077217746, 'bagging_temperature': 7.945283239429206}. Best is trial 0 with value: 0.826623875248326.\n0:\tlearn: 0.7136696\ttest: 0.7141997\tbest: 0.7141997 (0)\ttotal: 53.8ms\tremaining: 1m 20s\n500:\tlearn: 0.8020767\ttest: 0.7995817\tbest: 0.7995817 (500)\ttotal: 22.2s\tremaining: 44.2s\n1000:\tlearn: 0.8148700\ttest: 0.8090042\tbest: 0.8090042 (1000)\ttotal: 45s\tremaining: 22.4s\n1499:\tlearn: 0.8236553\ttest: 0.8138433\tbest: 0.8138433 (1499)\ttotal: 1m 8s\tremaining: 0us\nbestTest = 0.8138433298\nbestIteration = 1499\n[I 2024-09-28 14:41:22,505] Trial 6 finished with value: 0.828328530071695 and parameters: {'bootstrap_type': 'Bernoulli', 'auto_class_weights': None, 'learning_rate': 0.3552559949969962, 'subsample': 0.9404837672608376}. Best is trial 6 with value: 0.828328530071695.\n0:\tlearn: 0.6336270\ttest: 0.6328875\tbest: 0.6328875 (0)\ttotal: 90.4ms\tremaining: 2m 15s\n500:\tlearn: 0.7444646\ttest: 0.7441169\tbest: 0.7441169 (500)\ttotal: 25s\tremaining: 49.8s\n1000:\tlearn: 0.7527510\ttest: 0.7520204\tbest: 0.7520755 (998)\ttotal: 49s\tremaining: 24.4s\n1499:\tlearn: 0.7577529\ttest: 0.7568147\tbest: 0.7568175 (1498)\ttotal: 1m 13s\tremaining: 0us\nbestTest = 0.7568175185\nbestIteration = 1498\nShrink model to first 1499 iterations.\n[I 2024-09-28 14:43:22,882] Trial 7 finished with value: 0.7785655692296032 and parameters: {'bootstrap_type': 'Bayesian', 'auto_class_weights': 'Balanced', 'learning_rate': 0.04899566164441578, 'bagging_temperature': 8.979373331681566}. Best is trial 6 with value: 0.828328530071695.\n0:\tlearn: 0.6758900\ttest: 0.6752765\tbest: 0.6752765 (0)\ttotal: 91ms\tremaining: 2m 16s\n500:\tlearn: 0.7698602\ttest: 0.7684699\tbest: 0.7684699 (500)\ttotal: 23.5s\tremaining: 46.8s\n1000:\tlearn: 0.7761037\ttest: 0.7736983\tbest: 0.7737011 (998)\ttotal: 45.8s\tremaining: 22.8s\n1499:\tlearn: 0.7800364\ttest: 0.7766648\tbest: 0.7767046 (1490)\ttotal: 1m 8s\tremaining: 0us\nbestTest = 0.7767046294\nbestIteration = 1490\nShrink model to first 1491 iterations.\n[I 2024-09-28 14:45:19,201] Trial 8 finished with value: 0.7886158979381355 and parameters: {'bootstrap_type': 'Bayesian', 'auto_class_weights': None, 'learning_rate': 0.22756893333397696, 'bagging_temperature': 8.722177091475341}. Best is trial 6 with value: 0.828328530071695.\n0:\tlearn: 0.7111725\ttest: 0.7116021\tbest: 0.7116021 (0)\ttotal: 52.7ms\tremaining: 1m 18s\n500:\tlearn: 0.7703377\ttest: 0.7694591\tbest: 0.7694591 (500)\ttotal: 20.7s\tremaining: 41.3s\n1000:\tlearn: 0.7737742\ttest: 0.7722517\tbest: 0.7723084 (994)\ttotal: 41.3s\tremaining: 20.6s\n1499:\tlearn: 0.7758381\ttest: 0.7736662\tbest: 0.7737410 (1466)\ttotal: 1m 1s\tremaining: 0us\nbestTest = 0.7737410163\nbestIteration = 1466\nShrink model to first 1467 iterations.\n[I 2024-09-28 14:47:09,118] Trial 9 finished with value: 0.7958586033684518 and parameters: {'bootstrap_type': 'Bayesian', 'auto_class_weights': 'Balanced', 'learning_rate': 0.270492194189332, 'bagging_temperature': 3.4917118831518756}. Best is trial 6 with value: 0.828328530071695.\n0:\tlearn: 0.7136696\ttest: 0.7141997\tbest: 0.7141997 (0)\ttotal: 52.2ms\tremaining: 1m 18s\n500:\tlearn: 0.8061700\ttest: 0.8028552\tbest: 0.8028751 (499)\ttotal: 22.3s\tremaining: 44.5s\n1000:\tlearn: 0.8190797\ttest: 0.8121327\tbest: 0.8122407 (992)\ttotal: 45.1s\tremaining: 22.5s\n1499:\tlearn: 0.8281471\ttest: 0.8165087\tbest: 0.8165371 (1496)\ttotal: 1m 7s\tremaining: 0us\nbestTest = 0.8165370932\nbestIteration = 1496\nShrink model to first 1497 iterations.\n[I 2024-09-28 14:49:04,983] Trial 10 finished with value: 0.8306034843232688 and parameters: {'bootstrap_type': 'Bernoulli', 'auto_class_weights': None, 'learning_rate': 0.44384271309758105, 'subsample': 0.93836768751286}. Best is trial 10 with value: 0.8306034843232688.\n0:\tlearn: 0.7136696\ttest: 0.7141997\tbest: 0.7141997 (0)\ttotal: 53.2ms\tremaining: 1m 19s\n500:\tlearn: 0.8058645\ttest: 0.8027472\tbest: 0.8027472 (500)\ttotal: 22.3s\tremaining: 44.6s\n1000:\tlearn: 0.8194186\ttest: 0.8121441\tbest: 0.8121640 (985)\ttotal: 45.6s\tremaining: 22.7s\n1499:\tlearn: 0.8294044\ttest: 0.8177874\tbest: 0.8177959 (1496)\ttotal: 1m 9s\tremaining: 0us\nbestTest = 0.8177958877\nbestIteration = 1496\nShrink model to first 1497 iterations.\n[I 2024-09-28 14:51:02,196] Trial 11 finished with value: 0.8332503775648872 and parameters: {'bootstrap_type': 'Bernoulli', 'auto_class_weights': None, 'learning_rate': 0.4491616775493984, 'subsample': 0.987262473339187}. Best is trial 11 with value: 0.8332503775648872.\n0:\tlearn: 0.7136696\ttest: 0.7141997\tbest: 0.7141997 (0)\ttotal: 52.4ms\tremaining: 1m 18s\n500:\tlearn: 0.8060989\ttest: 0.8025113\tbest: 0.8025113 (500)\ttotal: 22.3s\tremaining: 44.4s\n1000:\tlearn: 0.8204018\ttest: 0.8126755\tbest: 0.8126755 (1000)\ttotal: 45.5s\tremaining: 22.7s\n1499:\tlearn: 0.8307137\ttest: 0.8183614\tbest: 0.8184551 (1480)\ttotal: 1m 9s\tremaining: 0us\nbestTest = 0.818455121\nbestIteration = 1480\nShrink model to first 1481 iterations.\n[I 2024-09-28 14:52:59,180] Trial 12 finished with value: 0.8341927527961945 and parameters: {'bootstrap_type': 'Bernoulli', 'auto_class_weights': None, 'learning_rate': 0.48678853590907367, 'subsample': 0.9887397939188028}. Best is trial 12 with value: 0.8341927527961945.\n0:\tlearn: 0.7136696\ttest: 0.7141997\tbest: 0.7141997 (0)\ttotal: 53ms\tremaining: 1m 19s\n500:\tlearn: 0.8053139\ttest: 0.8021419\tbest: 0.8021419 (500)\ttotal: 22.4s\tremaining: 44.8s\n1000:\tlearn: 0.8192715\ttest: 0.8120361\tbest: 0.8120361 (1000)\ttotal: 45.8s\tremaining: 22.8s\n1499:\tlearn: 0.8294187\ttest: 0.8180403\tbest: 0.8180403 (1499)\ttotal: 1m 9s\tremaining: 0us\nbestTest = 0.8180402587\nbestIteration = 1499\n[I 2024-09-28 14:54:56,723] Trial 13 finished with value: 0.8328614773060065 and parameters: {'bootstrap_type': 'Bernoulli', 'auto_class_weights': None, 'learning_rate': 0.43541843607707664, 'subsample': 0.9989782772924175}. Best is trial 12 with value: 0.8341927527961945.\n0:\tlearn: 0.7100552\ttest: 0.7106250\tbest: 0.7106250 (0)\ttotal: 52.5ms\tremaining: 1m 18s\n500:\tlearn: 0.8027786\ttest: 0.7987520\tbest: 0.7987719 (498)\ttotal: 21.9s\tremaining: 43.6s\n1000:\tlearn: 0.8135274\ttest: 0.8059354\tbest: 0.8060121 (995)\ttotal: 43.8s\tremaining: 21.8s\n1499:\tlearn: 0.8211335\ttest: 0.8099959\tbest: 0.8100044 (1495)\ttotal: 1m 6s\tremaining: 0us\nbestTest = 0.8100044328\nbestIteration = 1495\nShrink model to first 1496 iterations.\n[I 2024-09-28 14:56:51,310] Trial 14 finished with value: 0.8249562550050774 and parameters: {'bootstrap_type': 'Poisson', 'auto_class_weights': None, 'learning_rate': 0.4980316904267696}. Best is trial 12 with value: 0.8341927527961945.\n0:\tlearn: 0.7135254\ttest: 0.7135035\tbest: 0.7135035 (0)\ttotal: 52.9ms\tremaining: 1m 19s\n500:\tlearn: 0.7998412\ttest: 0.7968226\tbest: 0.7968226 (500)\ttotal: 21.4s\tremaining: 42.7s\n1000:\tlearn: 0.8115312\ttest: 0.8048215\tbest: 0.8048670 (996)\ttotal: 43.4s\tremaining: 21.6s\n1499:\tlearn: 0.8180113\ttest: 0.8080722\tbest: 0.8081091 (1492)\ttotal: 1m 5s\tremaining: 0us\nbestTest = 0.8081091372\nbestIteration = 1492\nShrink model to first 1493 iterations.\n[I 2024-09-28 14:58:43,802] Trial 15 finished with value: 0.8213035293559723 and parameters: {'bootstrap_type': None, 'auto_class_weights': None, 'learning_rate': 0.4132947892097726}. Best is trial 12 with value: 0.8341927527961945.\n0:\tlearn: 0.7133258\ttest: 0.7133415\tbest: 0.7133415 (0)\ttotal: 52.1ms\tremaining: 1m 18s\n500:\tlearn: 0.8017102\ttest: 0.7987094\tbest: 0.7987094 (500)\ttotal: 21.7s\tremaining: 43.3s\n1000:\tlearn: 0.8124760\ttest: 0.8060377\tbest: 0.8060377 (1000)\ttotal: 43.7s\tremaining: 21.8s\n1499:\tlearn: 0.8204991\ttest: 0.8106722\tbest: 0.8106722 (1499)\ttotal: 1m 6s\tremaining: 0us\nbestTest = 0.8106721906\nbestIteration = 1499\n[I 2024-09-28 15:00:37,944] Trial 16 finished with value: 0.8257149041204307 and parameters: {'bootstrap_type': 'Bernoulli', 'auto_class_weights': None, 'learning_rate': 0.3902817176544732, 'subsample': 0.6293602368292782}. Best is trial 12 with value: 0.8341927527961945.\n0:\tlearn: 0.7137179\ttest: 0.7136598\tbest: 0.7136598 (0)\ttotal: 53.8ms\tremaining: 1m 20s\n500:\tlearn: 0.7993716\ttest: 0.7961435\tbest: 0.7961549 (496)\ttotal: 21.3s\tremaining: 42.4s\n1000:\tlearn: 0.8086677\ttest: 0.8021533\tbest: 0.8021561 (999)\ttotal: 42.6s\tremaining: 21.2s\n1499:\tlearn: 0.8152756\ttest: 0.8059098\tbest: 0.8059098 (1499)\ttotal: 1m 4s\tremaining: 0us\nbestTest = 0.8059097987\nbestIteration = 1499\n[I 2024-09-28 15:02:30,582] Trial 17 finished with value: 0.8198248233557661 and parameters: {'bootstrap_type': 'Bernoulli', 'auto_class_weights': None, 'learning_rate': 0.45909744147822185, 'subsample': 0.36040431274701157}. Best is trial 12 with value: 0.8341927527961945.\n0:\tlearn: 0.7060282\ttest: 0.7065187\tbest: 0.7065187 (0)\ttotal: 53.4ms\tremaining: 1m 20s\n500:\tlearn: 0.7850127\ttest: 0.7837322\tbest: 0.7837322 (500)\ttotal: 21.1s\tremaining: 42.2s\n1000:\tlearn: 0.7932232\ttest: 0.7905237\tbest: 0.7905440 (999)\ttotal: 42s\tremaining: 21s\n1499:\tlearn: 0.7993917\ttest: 0.7956689\tbest: 0.7957082 (1493)\ttotal: 1m 3s\tremaining: 0us\nbestTest = 0.795708249\nbestIteration = 1493\nShrink model to first 1494 iterations.\n[I 2024-09-28 15:04:21,701] Trial 18 finished with value: 0.8178533312634053 and parameters: {'bootstrap_type': 'Bernoulli', 'auto_class_weights': 'SqrtBalanced', 'learning_rate': 0.2064046934962484, 'subsample': 0.7984373273862118}. Best is trial 12 with value: 0.8341927527961945.\n0:\tlearn: 0.7135254\ttest: 0.7135035\tbest: 0.7135035 (0)\ttotal: 53.5ms\tremaining: 1m 20s\n500:\tlearn: 0.7880815\ttest: 0.7871472\tbest: 0.7871472 (500)\ttotal: 21.5s\tremaining: 42.8s\n1000:\tlearn: 0.7971985\ttest: 0.7953763\tbest: 0.7954018 (997)\ttotal: 42.9s\tremaining: 21.4s\n1499:\tlearn: 0.8029363\ttest: 0.7996670\tbest: 0.7996755 (1492)\ttotal: 1m 4s\tremaining: 0us\nbestTest = 0.7996754981\nbestIteration = 1492\nShrink model to first 1493 iterations.\n[I 2024-09-28 15:06:13,882] Trial 19 finished with value: 0.8117231729336013 and parameters: {'bootstrap_type': None, 'auto_class_weights': None, 'learning_rate': 0.14057501524820246}. Best is trial 12 with value: 0.8341927527961945.\n0:\tlearn: 0.7100552\ttest: 0.7106250\tbest: 0.7106250 (0)\ttotal: 52.5ms\tremaining: 1m 18s\n500:\tlearn: 0.7970238\ttest: 0.7946943\tbest: 0.7947057 (497)\ttotal: 21.5s\tremaining: 42.9s\n1000:\tlearn: 0.8067098\ttest: 0.8024090\tbest: 0.8024176 (999)\ttotal: 43.3s\tremaining: 21.6s\n1499:\tlearn: 0.8132752\ttest: 0.8058444\tbest: 0.8059723 (1490)\ttotal: 1m 4s\tremaining: 0us\nbestTest = 0.8059723122\nbestIteration = 1490\nShrink model to first 1491 iterations.\n[I 2024-09-28 15:08:05,979] Trial 20 finished with value: 0.8194781396200761 and parameters: {'bootstrap_type': 'Poisson', 'auto_class_weights': None, 'learning_rate': 0.2919262107841977}. Best is trial 12 with value: 0.8341927527961945.\n0:\tlearn: 0.7136696\ttest: 0.7141997\tbest: 0.7141997 (0)\ttotal: 53.1ms\tremaining: 1m 19s\n500:\tlearn: 0.8057245\ttest: 0.8022442\tbest: 0.8022442 (500)\ttotal: 22.3s\tremaining: 44.5s\n1000:\tlearn: 0.8193525\ttest: 0.8120162\tbest: 0.8120162 (1000)\ttotal: 45.1s\tremaining: 22.5s\n1499:\tlearn: 0.8286600\ttest: 0.8177561\tbest: 0.8177618 (1497)\ttotal: 1m 8s\tremaining: 0us\nbestTest = 0.8177617895\nbestIteration = 1497\nShrink model to first 1498 iterations.\n[I 2024-09-28 15:10:02,810] Trial 21 finished with value: 0.8326053895072053 and parameters: {'bootstrap_type': 'Bernoulli', 'auto_class_weights': None, 'learning_rate': 0.4379906097392781, 'subsample': 0.9858379894300571}. Best is trial 12 with value: 0.8341927527961945.\n0:\tlearn: 0.7139438\ttest: 0.7144156\tbest: 0.7144156 (0)\ttotal: 53.2ms\tremaining: 1m 19s\n500:\tlearn: 0.8031942\ttest: 0.7999142\tbest: 0.7999142 (500)\ttotal: 22s\tremaining: 43.9s\n1000:\tlearn: 0.8154859\ttest: 0.8088309\tbest: 0.8088309 (1000)\ttotal: 44.5s\tremaining: 22.2s\n1499:\tlearn: 0.8241121\ttest: 0.8142554\tbest: 0.8142554 (1499)\ttotal: 1m 7s\tremaining: 0us\nbestTest = 0.8142553506\nbestIteration = 1499\n[I 2024-09-28 15:11:57,437] Trial 22 finished with value: 0.8287335289673962 and parameters: {'bootstrap_type': 'Bernoulli', 'auto_class_weights': None, 'learning_rate': 0.38318765965380563, 'subsample': 0.8295480595775414}. Best is trial 12 with value: 0.8341927527961945.\n0:\tlearn: 0.7136696\ttest: 0.7141997\tbest: 0.7141997 (0)\ttotal: 52.8ms\tremaining: 1m 19s\n500:\tlearn: 0.8069194\ttest: 0.8034661\tbest: 0.8035087 (498)\ttotal: 22.3s\tremaining: 44.4s\n1000:\tlearn: 0.8201290\ttest: 0.8120645\tbest: 0.8120645 (1000)\ttotal: 45.5s\tremaining: 22.7s\n1499:\tlearn: 0.8308273\ttest: 0.8188416\tbest: 0.8188558 (1498)\ttotal: 1m 9s\tremaining: 0us\nbestTest = 0.8188557757\nbestIteration = 1498\nShrink model to first 1499 iterations.\n[I 2024-09-28 15:13:55,403] Trial 23 finished with value: 0.8335841039139802 and parameters: {'bootstrap_type': 'Bernoulli', 'auto_class_weights': None, 'learning_rate': 0.4664025114879126, 'subsample': 0.9989622738432996}. Best is trial 12 with value: 0.8341927527961945.\n0:\tlearn: 0.7137179\ttest: 0.7136598\tbest: 0.7136598 (0)\ttotal: 52ms\tremaining: 1m 17s\n500:\tlearn: 0.8007235\ttest: 0.7974421\tbest: 0.7974733 (497)\ttotal: 21.5s\tremaining: 42.8s\n1000:\tlearn: 0.8117543\ttest: 0.8048755\tbest: 0.8048755 (1000)\ttotal: 43.2s\tremaining: 21.5s\n1499:\tlearn: 0.8189164\ttest: 0.8086689\tbest: 0.8087201 (1488)\ttotal: 1m 5s\tremaining: 0us\nbestTest = 0.8087200646\nbestIteration = 1488\nShrink model to first 1489 iterations.\n[I 2024-09-28 15:15:48,790] Trial 24 finished with value: 0.8225219236254555 and parameters: {'bootstrap_type': 'Bernoulli', 'auto_class_weights': None, 'learning_rate': 0.47546500455846497, 'subsample': 0.4666390392901303}. Best is trial 12 with value: 0.8341927527961945.\n0:\tlearn: 0.7060282\ttest: 0.7065187\tbest: 0.7065187 (0)\ttotal: 53.7ms\tremaining: 1m 20s\n500:\tlearn: 0.7921687\ttest: 0.7892601\tbest: 0.7892601 (500)\ttotal: 21.2s\tremaining: 42.3s\n1000:\tlearn: 0.8026871\ttest: 0.7978608\tbest: 0.7978802 (997)\ttotal: 42.7s\tremaining: 21.3s\n1499:\tlearn: 0.8095778\ttest: 0.8022097\tbest: 0.8022129 (1498)\ttotal: 1m 4s\tremaining: 0us\nbestTest = 0.8022129435\nbestIteration = 1498\nShrink model to first 1499 iterations.\n[I 2024-09-28 15:17:40,899] Trial 25 finished with value: 0.8259614618186732 and parameters: {'bootstrap_type': 'Bernoulli', 'auto_class_weights': 'SqrtBalanced', 'learning_rate': 0.39334809538607796, 'subsample': 0.8477723228225076}. Best is trial 12 with value: 0.8341927527961945.\n0:\tlearn: 0.7135254\ttest: 0.7135035\tbest: 0.7135035 (0)\ttotal: 52.1ms\tremaining: 1m 18s\n500:\tlearn: 0.8037071\ttest: 0.8006047\tbest: 0.8006047 (500)\ttotal: 21.8s\tremaining: 43.5s\n1000:\tlearn: 0.8161544\ttest: 0.8085553\tbest: 0.8086121 (994)\ttotal: 44.3s\tremaining: 22.1s\n1499:\tlearn: 0.8244865\ttest: 0.8131415\tbest: 0.8132267 (1497)\ttotal: 1m 6s\tremaining: 0us\nbestTest = 0.8132267194\nbestIteration = 1497\nShrink model to first 1498 iterations.\n[I 2024-09-28 15:19:35,818] Trial 26 finished with value: 0.8282863075321718 and parameters: {'bootstrap_type': 'Bernoulli', 'auto_class_weights': None, 'learning_rate': 0.46890637043518885, 'subsample': 0.7066352783845037}. Best is trial 12 with value: 0.8341927527961945.\n0:\tlearn: 0.7136696\ttest: 0.7141997\tbest: 0.7141997 (0)\ttotal: 52.9ms\tremaining: 1m 19s\n500:\tlearn: 0.8007433\ttest: 0.7984082\tbest: 0.7984252 (498)\ttotal: 21.9s\tremaining: 43.7s\n1000:\tlearn: 0.8137881\ttest: 0.8078165\tbest: 0.8078562 (997)\ttotal: 44.6s\tremaining: 22.2s\n1499:\tlearn: 0.8224903\ttest: 0.8133091\tbest: 0.8133631 (1493)\ttotal: 1m 7s\tremaining: 0us\nbestTest = 0.8133631125\nbestIteration = 1493\nShrink model to first 1494 iterations.\n[I 2024-09-28 15:21:30,922] Trial 27 finished with value: 0.8272711374515822 and parameters: {'bootstrap_type': 'Bernoulli', 'auto_class_weights': None, 'learning_rate': 0.35387883779821433, 'subsample': 0.8702091062393441}. Best is trial 12 with value: 0.8341927527961945.\n0:\tlearn: 0.7135254\ttest: 0.7135035\tbest: 0.7135035 (0)\ttotal: 52.8ms\tremaining: 1m 19s\n500:\tlearn: 0.8002518\ttest: 0.7969959\tbest: 0.7970357 (493)\ttotal: 21.6s\tremaining: 43s\n1000:\tlearn: 0.8109835\ttest: 0.8042617\tbest: 0.8043299 (997)\ttotal: 43.5s\tremaining: 21.7s\n1499:\tlearn: 0.8184958\ttest: 0.8087939\tbest: 0.8088593 (1493)\ttotal: 1m 5s\tremaining: 0us\nbestTest = 0.8088592992\nbestIteration = 1493\nShrink model to first 1494 iterations.\n[I 2024-09-28 15:23:24,360] Trial 28 finished with value: 0.8223453216285326 and parameters: {'bootstrap_type': None, 'auto_class_weights': None, 'learning_rate': 0.415945614009167}. Best is trial 12 with value: 0.8341927527961945.\n0:\tlearn: 0.7060282\ttest: 0.7065187\tbest: 0.7065187 (0)\ttotal: 52.4ms\tremaining: 1m 18s\n500:\tlearn: 0.7896982\ttest: 0.7869619\tbest: 0.7869619 (500)\ttotal: 21.2s\tremaining: 42.2s\n1000:\tlearn: 0.7974958\ttest: 0.7934888\tbest: 0.7935746 (996)\ttotal: 42.2s\tremaining: 21s\n1499:\tlearn: 0.8031984\ttest: 0.7973351\tbest: 0.7973351 (1499)\ttotal: 1m 3s\tremaining: 0us\nbestTest = 0.7973351352\nbestIteration = 1499\n[I 2024-09-28 15:25:15,619] Trial 29 finished with value: 0.8203222387051773 and parameters: {'bootstrap_type': 'Poisson', 'auto_class_weights': 'SqrtBalanced', 'learning_rate': 0.31914592467888997}. Best is trial 12 with value: 0.8341927527961945.\n0:\tlearn: 0.7135254\ttest: 0.7135035\tbest: 0.7135035 (0)\ttotal: 52.3ms\tremaining: 1m 18s\n500:\tlearn: 0.8012023\ttest: 0.7970585\tbest: 0.7970869 (499)\ttotal: 21.6s\tremaining: 43s\n1000:\tlearn: 0.8126238\ttest: 0.8050630\tbest: 0.8050630 (1000)\ttotal: 43.8s\tremaining: 21.8s\n1499:\tlearn: 0.8196985\ttest: 0.8090582\tbest: 0.8090980 (1486)\ttotal: 1m 5s\tremaining: 0us\nbestTest = 0.8090979871\nbestIteration = 1486\nShrink model to first 1487 iterations.\n[I 2024-09-28 15:27:09,801] Trial 30 finished with value: 0.8234244059355422 and parameters: {'bootstrap_type': None, 'auto_class_weights': None, 'learning_rate': 0.4818254450906956}. Best is trial 12 with value: 0.8341927527961945.\n0:\tlearn: 0.7136696\ttest: 0.7141997\tbest: 0.7141997 (0)\ttotal: 52.6ms\tremaining: 1m 18s\n500:\tlearn: 0.8051811\ttest: 0.8018322\tbest: 0.8018322 (500)\ttotal: 22.6s\tremaining: 45s\n1000:\tlearn: 0.8189441\ttest: 0.8118599\tbest: 0.8118628 (995)\ttotal: 45.5s\tremaining: 22.7s\n1499:\tlearn: 0.8280341\ttest: 0.8170145\tbest: 0.8170770 (1494)\ttotal: 1m 8s\tremaining: 0us\nbestTest = 0.8170769825\nbestIteration = 1494\nShrink model to first 1495 iterations.\n[I 2024-09-28 15:29:06,546] Trial 31 finished with value: 0.8323933901433395 and parameters: {'bootstrap_type': 'Bernoulli', 'auto_class_weights': None, 'learning_rate': 0.42236936766210437, 'subsample': 0.994203395977981}. Best is trial 12 with value: 0.8341927527961945.\n0:\tlearn: 0.7136696\ttest: 0.7141997\tbest: 0.7141997 (0)\ttotal: 52.3ms\tremaining: 1m 18s\n500:\tlearn: 0.8052031\ttest: 0.8014912\tbest: 0.8014912 (498)\ttotal: 22.3s\tremaining: 44.5s\n1000:\tlearn: 0.8191906\ttest: 0.8109052\tbest: 0.8109052 (1000)\ttotal: 45.5s\tremaining: 22.7s\n1499:\tlearn: 0.8286450\ttest: 0.8169150\tbest: 0.8169321 (1492)\ttotal: 1m 8s\tremaining: 0us\nbestTest = 0.8169320649\nbestIteration = 1492\nShrink model to first 1493 iterations.\n[I 2024-09-28 15:31:03,204] Trial 32 finished with value: 0.8317391361423937 and parameters: {'bootstrap_type': 'Bernoulli', 'auto_class_weights': None, 'learning_rate': 0.447726297726571, 'subsample': 0.9754357821975919}. Best is trial 12 with value: 0.8341927527961945.\n0:\tlearn: 0.7136696\ttest: 0.7141997\tbest: 0.7141997 (0)\ttotal: 52.6ms\tremaining: 1m 18s\n500:\tlearn: 0.8024610\ttest: 0.7995988\tbest: 0.7995988 (500)\ttotal: 22.1s\tremaining: 44.1s\n1000:\tlearn: 0.8152970\ttest: 0.8087286\tbest: 0.8087485 (999)\ttotal: 44.9s\tremaining: 22.4s\n1499:\tlearn: 0.8240020\ttest: 0.8136700\tbest: 0.8136700 (1498)\ttotal: 1m 7s\tremaining: 0us\nbestTest = 0.8136699969\nbestIteration = 1498\nShrink model to first 1499 iterations.\n[I 2024-09-28 15:32:58,782] Trial 33 finished with value: 0.82800770730134 and parameters: {'bootstrap_type': 'Bernoulli', 'auto_class_weights': None, 'learning_rate': 0.3746980823401062, 'subsample': 0.8899420808005432}. Best is trial 12 with value: 0.8341927527961945.\n0:\tlearn: 0.7136696\ttest: 0.7141997\tbest: 0.7141997 (0)\ttotal: 52ms\tremaining: 1m 17s\n500:\tlearn: 0.8049041\ttest: 0.8018720\tbest: 0.8018720 (500)\ttotal: 22.4s\tremaining: 44.7s\n1000:\tlearn: 0.8191217\ttest: 0.8120446\tbest: 0.8120674 (999)\ttotal: 45.7s\tremaining: 22.8s\n1499:\tlearn: 0.8289327\ttest: 0.8177476\tbest: 0.8177476 (1499)\ttotal: 1m 9s\tremaining: 0us\nbestTest = 0.8177475819\nbestIteration = 1499\n[I 2024-09-28 15:34:56,311] Trial 34 finished with value: 0.8332924304291742 and parameters: {'bootstrap_type': 'Bernoulli', 'auto_class_weights': None, 'learning_rate': 0.4226321031060099, 'subsample': 0.9997531678835765}. Best is trial 12 with value: 0.8341927527961945.\n0:\tlearn: 0.7030009\ttest: 0.7039959\tbest: 0.7039959 (0)\ttotal: 51.8ms\tremaining: 1m 17s\n500:\tlearn: 0.7698075\ttest: 0.7691188\tbest: 0.7691188 (500)\ttotal: 18.8s\tremaining: 37.6s\n1000:\tlearn: 0.7734768\ttest: 0.7724167\tbest: 0.7724265 (990)\ttotal: 37.7s\tremaining: 18.8s\n1499:\tlearn: 0.7750476\ttest: 0.7737226\tbest: 0.7737619 (1492)\ttotal: 56.6s\tremaining: 0us\nbestTest = 0.7737619422\nbestIteration = 1492\nShrink model to first 1493 iterations.\n[I 2024-09-28 15:36:39,847] Trial 35 finished with value: 0.7964608076974932 and parameters: {'bootstrap_type': 'Bernoulli', 'auto_class_weights': 'Balanced', 'learning_rate': 0.46679620649895975, 'subsample': 0.8948709720912134}. Best is trial 12 with value: 0.8341927527961945.\n0:\tlearn: 0.7137179\ttest: 0.7136598\tbest: 0.7136598 (0)\ttotal: 52.9ms\tremaining: 1m 19s\n500:\tlearn: 0.7849643\ttest: 0.7842318\tbest: 0.7842375 (499)\ttotal: 21.8s\tremaining: 43.5s\n1000:\tlearn: 0.7941141\ttest: 0.7927678\tbest: 0.7927678 (1000)\ttotal: 43.1s\tremaining: 21.5s\n1499:\tlearn: 0.8001608\ttest: 0.7978058\tbest: 0.7978171 (1487)\ttotal: 1m 4s\tremaining: 0us\nbestTest = 0.7978171423\nbestIteration = 1487\nShrink model to first 1488 iterations.\n[I 2024-09-28 15:38:31,669] Trial 36 finished with value: 0.8099309878623231 and parameters: {'bootstrap_type': 'Bernoulli', 'auto_class_weights': None, 'learning_rate': 0.09977968904348583, 'subsample': 0.7746631252995874}. Best is trial 12 with value: 0.8341927527961945.\n0:\tlearn: 0.7109818\ttest: 0.7113572\tbest: 0.7113572 (0)\ttotal: 52.4ms\tremaining: 1m 18s\n500:\tlearn: 0.7831318\ttest: 0.7810481\tbest: 0.7810644 (495)\ttotal: 20.8s\tremaining: 41.5s\n1000:\tlearn: 0.7898807\ttest: 0.7861462\tbest: 0.7861930 (997)\ttotal: 41.3s\tremaining: 20.6s\n1499:\tlearn: 0.7938704\ttest: 0.7892018\tbest: 0.7892423 (1495)\ttotal: 1m 1s\tremaining: 0us\nbestTest = 0.7892423413\nbestIteration = 1495\nShrink model to first 1496 iterations.\n[I 2024-09-28 15:40:21,428] Trial 37 finished with value: 0.8133059458609236 and parameters: {'bootstrap_type': 'Poisson', 'auto_class_weights': 'Balanced', 'learning_rate': 0.4974160238259146}. Best is trial 12 with value: 0.8341927527961945.\n0:\tlearn: 0.7060282\ttest: 0.7065187\tbest: 0.7065187 (0)\ttotal: 52.6ms\tremaining: 1m 18s\n500:\tlearn: 0.7910625\ttest: 0.7887205\tbest: 0.7887295 (498)\ttotal: 21.4s\tremaining: 42.7s\n1000:\tlearn: 0.8010918\ttest: 0.7974031\tbest: 0.7974031 (1000)\ttotal: 42.8s\tremaining: 21.3s\n1499:\tlearn: 0.8075393\ttest: 0.8020644\tbest: 0.8020860 (1497)\ttotal: 1m 4s\tremaining: 0us\nbestTest = 0.8020860313\nbestIteration = 1497\nShrink model to first 1498 iterations.\n[I 2024-09-28 15:42:14,086] Trial 38 finished with value: 0.8247011100979472 and parameters: {'bootstrap_type': 'Bernoulli', 'auto_class_weights': 'SqrtBalanced', 'learning_rate': 0.31989822337952445, 'subsample': 0.9016796694614405}. Best is trial 12 with value: 0.8341927527961945.\n0:\tlearn: 0.7137179\ttest: 0.7136598\tbest: 0.7136598 (0)\ttotal: 53.3ms\tremaining: 1m 19s\n500:\tlearn: 0.8015745\ttest: 0.7987861\tbest: 0.7987861 (500)\ttotal: 21.5s\tremaining: 42.9s\n1000:\tlearn: 0.8124050\ttest: 0.8060831\tbest: 0.8061144 (998)\ttotal: 43.6s\tremaining: 21.7s\n1499:\tlearn: 0.8200217\ttest: 0.8100840\tbest: 0.8101607 (1496)\ttotal: 1m 5s\tremaining: 0us\nbestTest = 0.8101607165\nbestIteration = 1496\nShrink model to first 1497 iterations.\n[I 2024-09-28 15:44:07,861] Trial 39 finished with value: 0.8241420174739252 and parameters: {'bootstrap_type': 'Bernoulli', 'auto_class_weights': None, 'learning_rate': 0.4086514481862604, 'subsample': 0.5910425794603289}. Best is trial 12 with value: 0.8341927527961945.\n0:\tlearn: 0.7109818\ttest: 0.7113572\tbest: 0.7113572 (0)\ttotal: 53.4ms\tremaining: 1m 20s\n500:\tlearn: 0.7865714\ttest: 0.7840322\tbest: 0.7840704 (493)\ttotal: 21.4s\tremaining: 42.6s\n1000:\tlearn: 0.7928705\ttest: 0.7884923\tbest: 0.7885107 (994)\ttotal: 42.9s\tremaining: 21.4s\n1499:\tlearn: 0.7978979\ttest: 0.7921798\tbest: 0.7922073 (1490)\ttotal: 1m 4s\tremaining: 0us\nbestTest = 0.7922073089\nbestIteration = 1490\nShrink model to first 1491 iterations.\n[I 2024-09-28 15:46:01,020] Trial 40 finished with value: 0.8166226552837719 and parameters: {'bootstrap_type': 'Bayesian', 'auto_class_weights': 'Balanced', 'learning_rate': 0.36629140038036867, 'bagging_temperature': 1.715470090505403}. Best is trial 12 with value: 0.8341927527961945.\n0:\tlearn: 0.7136696\ttest: 0.7141997\tbest: 0.7141997 (0)\ttotal: 53.2ms\tremaining: 1m 19s\n500:\tlearn: 0.8049751\ttest: 0.8015907\tbest: 0.8016447 (498)\ttotal: 22.4s\tremaining: 44.6s\n1000:\tlearn: 0.8187082\ttest: 0.8114707\tbest: 0.8114707 (1000)\ttotal: 45.6s\tremaining: 22.7s\n1499:\tlearn: 0.8278984\ttest: 0.8166167\tbest: 0.8166792 (1494)\ttotal: 1m 8s\tremaining: 0us\nbestTest = 0.8166791694\nbestIteration = 1494\nShrink model to first 1495 iterations.\n[I 2024-09-28 15:47:59,386] Trial 41 finished with value: 0.8318500769767264 and parameters: {'bootstrap_type': 'Bernoulli', 'auto_class_weights': None, 'learning_rate': 0.4338062483011248, 'subsample': 0.9895842468731301}. Best is trial 12 with value: 0.8341927527961945.\n0:\tlearn: 0.7136696\ttest: 0.7141997\tbest: 0.7141997 (0)\ttotal: 53.7ms\tremaining: 1m 20s\n500:\tlearn: 0.8065251\ttest: 0.8029347\tbest: 0.8029347 (500)\ttotal: 22.7s\tremaining: 45.2s\n1000:\tlearn: 0.8202405\ttest: 0.8125107\tbest: 0.8125107 (1000)\ttotal: 46s\tremaining: 22.9s\n1499:\tlearn: 0.8298570\ttest: 0.8178243\tbest: 0.8178243 (1499)\ttotal: 1m 9s\tremaining: 0us\nbestTest = 0.817824303\nbestIteration = 1499\n1499:\tlearn: 0.8276846\ttest: 0.8163950\tbest: 0.8164462 (1496)\ttotal: 1m 8s\tremaining: 0us\nbestTest = 0.8164461645\nbestIteration = 1496\nShrink model to first 1497 iterations.\n[I 2024-09-28 15:51:56,769] Trial 43 finished with value: 0.8306490647983915 and parameters: {'bootstrap_type': 'Bernoulli', 'auto_class_weights': None, 'learning_rate': 0.4557448754395977, 'subsample': 0.9151064643529074}. Best is trial 12 with value: 0.8341927527961945.\n0:\tlearn: 0.7136696\ttest: 0.7141997\tbest: 0.7141997 (0)\ttotal: 52.5ms\tremaining: 1m 18s\n500:\tlearn: 0.8060748\ttest: 0.8028324\tbest: 0.8028608 (498)\ttotal: 22.5s\tremaining: 44.9s\n1000:\tlearn: 0.8203371\ttest: 0.8128147\tbest: 0.8128147 (1000)\ttotal: 45.8s\tremaining: 22.8s\n1499:\tlearn: 0.8302860\ttest: 0.8179777\tbest: 0.8180005 (1498)\ttotal: 1m 8s\tremaining: 0us\nbestTest = 0.8180004774\nbestIteration = 1498\nShrink model to first 1499 iterations.\n[I 2024-09-28 15:53:56,102] Trial 44 finished with value: 0.8327031477557809 and parameters: {'bootstrap_type': 'Bernoulli', 'auto_class_weights': None, 'learning_rate': 0.4870284503340802, 'subsample': 0.9311670119607522}. Best is trial 12 with value: 0.8341927527961945.\n0:\tlearn: 0.7139438\ttest: 0.7144156\tbest: 0.7144156 (0)\ttotal: 53.6ms\tremaining: 1m 20s\n500:\tlearn: 0.8016604\ttest: 0.7993942\tbest: 0.7994311 (499)\ttotal: 22.2s\tremaining: 44.2s\n1000:\tlearn: 0.8133043\ttest: 0.8077909\tbest: 0.8077909 (1000)\ttotal: 44.6s\tremaining: 22.2s\n1499:\tlearn: 0.8217195\ttest: 0.8126470\tbest: 0.8127067 (1481)\ttotal: 1m 7s\tremaining: 0us\nbestTest = 0.8127067208\nbestIteration = 1481\nShrink model to first 1482 iterations.\n[I 2024-09-28 15:55:51,739] Trial 45 finished with value: 0.827233020790285 and parameters: {'bootstrap_type': 'Bernoulli', 'auto_class_weights': None, 'learning_rate': 0.34049409600076097, 'subsample': 0.8338626666924207}. Best is trial 12 with value: 0.8341927527961945.\n0:\tlearn: 0.7135254\ttest: 0.7135035\tbest: 0.7135035 (0)\ttotal: 51.6ms\tremaining: 1m 17s\n500:\tlearn: 0.8047741\ttest: 0.8015225\tbest: 0.8015225 (500)\ttotal: 22.2s\tremaining: 44.3s\n1000:\tlearn: 0.8171986\ttest: 0.8104278\tbest: 0.8104562 (999)\ttotal: 44.8s\tremaining: 22.4s\n1499:\tlearn: 0.8267462\ttest: 0.8159290\tbest: 0.8160114 (1496)\ttotal: 1m 8s\tremaining: 0us\nbestTest = 0.8160114116\nbestIteration = 1496\nShrink model to first 1497 iterations.\n[I 2024-09-28 15:57:48,174] Trial 46 finished with value: 0.8305357673875589 and parameters: {'bootstrap_type': 'Bayesian', 'auto_class_weights': None, 'learning_rate': 0.40194220532600167, 'bagging_temperature': 0.18967152528528608}. Best is trial 12 with value: 0.8341927527961945.\n0:\tlearn: 0.7135190\ttest: 0.7134211\tbest: 0.7134211 (0)\ttotal: 52.9ms\tremaining: 1m 19s\n500:\tlearn: 0.8032773\ttest: 0.7998005\tbest: 0.7998005 (500)\ttotal: 21.8s\tremaining: 43.5s\n1000:\tlearn: 0.8150668\ttest: 0.8074613\tbest: 0.8074897 (995)\ttotal: 44.1s\tremaining: 22s\n1499:\tlearn: 0.8237484\ttest: 0.8127209\tbest: 0.8128062 (1489)\ttotal: 1m 6s\tremaining: 0us\nbestTest = 0.8128061741\nbestIteration = 1489\nShrink model to first 1490 iterations.\n[I 2024-09-28 15:59:43,145] Trial 47 finished with value: 0.8273874721722169 and parameters: {'bootstrap_type': 'Bernoulli', 'auto_class_weights': None, 'learning_rate': 0.4543796548990501, 'subsample': 0.6870305534986823}. Best is trial 12 with value: 0.8341927527961945.\n0:\tlearn: 0.7136696\ttest: 0.7141997\tbest: 0.7141997 (0)\ttotal: 52.5ms\tremaining: 1m 18s\n500:\tlearn: 0.8048735\ttest: 0.8015253\tbest: 0.8015253 (500)\ttotal: 22.2s\tremaining: 44.2s\n1000:\tlearn: 0.8184432\ttest: 0.8113883\tbest: 0.8113883 (1000)\ttotal: 45.1s\tremaining: 22.5s\n1499:\tlearn: 0.8280618\ttest: 0.8168326\tbest: 0.8168326 (1499)\ttotal: 1m 7s\tremaining: 0us\nbestTest = 0.8168326116\nbestIteration = 1499\n[I 2024-09-28 16:01:39,093] Trial 48 finished with value: 0.8314767700651534 and parameters: {'bootstrap_type': 'Bernoulli', 'auto_class_weights': None, 'learning_rate': 0.4276107122527962, 'subsample': 0.9380283560107308}. Best is trial 12 with value: 0.8341927527961945.\n0:\tlearn: 0.7060282\ttest: 0.7065187\tbest: 0.7065187 (0)\ttotal: 53.2ms\tremaining: 1m 19s\n500:\tlearn: 0.7890377\ttest: 0.7868288\tbest: 0.7868375 (499)\ttotal: 21.4s\tremaining: 42.7s\n1000:\tlearn: 0.7987185\ttest: 0.7948068\tbest: 0.7948283 (996)\ttotal: 43.2s\tremaining: 21.5s\n1499:\tlearn: 0.8052308\ttest: 0.7996149\tbest: 0.7996516 (1494)\ttotal: 1m 5s\tremaining: 0us\nbestTest = 0.7996515553\nbestIteration = 1494\nShrink model to first 1495 iterations.\n[I 2024-09-28 16:03:31,515] Trial 49 finished with value: 0.8225231705553983 and parameters: {'bootstrap_type': None, 'auto_class_weights': 'SqrtBalanced', 'learning_rate': 0.2524081127392538}. Best is trial 12 with value: 0.8341927527961945.\nNumber of finished trials: 50\nBest trial:\n  Value: 0.8341927527961945\n  Params: \n    bootstrap_type: Bernoulli\n    auto_class_weights: None\n    learning_rate: 0.48678853590907367\n    subsample: 0.9887397939188028\n",
     "output_type": "stream"
    }
   ]
  }
 ]
}
