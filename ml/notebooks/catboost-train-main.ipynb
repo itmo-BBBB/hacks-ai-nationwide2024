{
 "metadata": {
  "kernelspec": {
   "language": "python",
   "display_name": "Python 3",
   "name": "python3"
  },
  "language_info": {
   "name": "python",
   "version": "3.10.14",
   "mimetype": "text/x-python",
   "codemirror_mode": {
    "name": "ipython",
    "version": 3
   },
   "pygments_lexer": "ipython3",
   "nbconvert_exporter": "python",
   "file_extension": ".py"
  },
  "kaggle": {
   "accelerator": "gpu",
   "dataSources": [
    {
     "sourceId": 9500589,
     "sourceType": "datasetVersion",
     "datasetId": 5781834
    }
   ],
   "dockerImageVersionId": 30776,
   "isInternetEnabled": true,
   "language": "python",
   "sourceType": "notebook",
   "isGpuEnabled": true
  }
 },
 "nbformat_minor": 4,
 "nbformat": 4,
 "cells": [
  {
   "cell_type": "code",
   "source": [
    "import pandas as pd\n",
    "import catboost as cb\n",
    "\n",
    "from catboost import Pool, CatBoostClassifier\n",
    "\n",
    "from typing import List, Tuple\n",
    "\n",
    "random_state = 42"
   ],
   "metadata": {
    "_uuid": "8f2839f25d086af736a60e9eeb907d3b93b6e0e5",
    "_cell_guid": "b1076dfc-b9ad-4769-8c92-a6c4dae69d19",
    "execution": {
     "iopub.status.busy": "2024-09-28T17:58:40.813119Z",
     "iopub.execute_input": "2024-09-28T17:58:40.813430Z",
     "iopub.status.idle": "2024-09-28T17:58:43.567625Z",
     "shell.execute_reply.started": "2024-09-28T17:58:40.813397Z",
     "shell.execute_reply": "2024-09-28T17:58:43.566622Z"
    },
    "trusted": true
   },
   "execution_count": 1,
   "outputs": []
  },
  {
   "cell_type": "markdown",
   "source": [
    "## Data Processing"
   ],
   "metadata": {}
  },
  {
   "cell_type": "code",
   "source": [
    "# columns\n",
    "target_gender = \"sex\"\n",
    "target_age = \"age_class\"\n",
    "\n",
    "cat_features = [\"region\", \"ua_device_type\", \"ua_client_type\", \"ua_os\", \"ua_client_name\", \"category\"]\n",
    "text_feature = \"title\"\n",
    "date_feature = \"event_timestamp\"\n",
    "\n",
    "drop_feature = \"age\"\n",
    "\n",
    "id_columns = [\"viewer_uid\", \"rutube_video_id\", \"author_id\"]"
   ],
   "metadata": {
    "execution": {
     "iopub.status.busy": "2024-09-28T17:58:52.460058Z",
     "iopub.execute_input": "2024-09-28T17:58:52.460929Z",
     "iopub.status.idle": "2024-09-28T17:58:52.466058Z",
     "shell.execute_reply.started": "2024-09-28T17:58:52.460886Z",
     "shell.execute_reply": "2024-09-28T17:58:52.465039Z"
    },
    "trusted": true
   },
   "execution_count": 2,
   "outputs": []
  },
  {
   "cell_type": "code",
   "source": [
    "dataset = pd.read_csv('/kaggle/input/catboost-dataset/catboost_dataset.csv').drop(\n",
    "    drop_feature, axis=1\n",
    ").fillna('none')\n",
    "\n",
    "# new feature\n",
    "dataset['videos_per_day'] = dataset.groupby(['viewer_uid', 'day']).transform('size')\n",
    "\n",
    "# drop unimportant old features\n",
    "dataset = dataset.drop([\"second\", \"minute\", \"month\",\"year\"], axis=1)"
   ],
   "metadata": {
    "execution": {
     "iopub.status.busy": "2024-09-28T17:58:54.641490Z",
     "iopub.execute_input": "2024-09-28T17:58:54.642170Z",
     "iopub.status.idle": "2024-09-28T17:59:13.751720Z",
     "shell.execute_reply.started": "2024-09-28T17:58:54.642130Z",
     "shell.execute_reply": "2024-09-28T17:59:13.750676Z"
    },
    "trusted": true
   },
   "execution_count": 3,
   "outputs": []
  },
  {
   "cell_type": "markdown",
   "source": [
    "## Utils"
   ],
   "metadata": {}
  },
  {
   "cell_type": "code",
   "source": [
    "def set_pool(data: pd.DataFrame, target: str, id_columns: List[str]) -> Pool:\n",
    "    \"\"\"\n",
    "    Prepares the data as a CatBoost Pool object, separating features, target, and categorical/text features.\n",
    "    \"\"\"\n",
    "    return Pool(\n",
    "        data=data.drop(id_columns + [target], axis=1),\n",
    "        cat_features=cat_features,\n",
    "        text_features=[text_feature],\n",
    "        label=data[target]\n",
    "    )\n",
    "\n",
    "\n",
    "def fit_model(\n",
    "    train_pool: cb.core.Pool, \n",
    "    verbose: int, \n",
    "    multiclass: bool = True, \n",
    "    **kwargs\n",
    ") -> cb.core.CatBoostClassifier:\n",
    "    \"\"\"\n",
    "    Trains a CatBoost classifier model on the given training data and evaluates it on the test set.\n",
    "    \"\"\"\n",
    "    loss_function = 'MultiClass'\n",
    "    eval_metric = 'TotalF1'\n",
    "    \n",
    "    if not multiclass:\n",
    "        loss_function = 'Logloss'\n",
    "        eval_metric = 'Accuracy'\n",
    "        \n",
    "        \n",
    "    model = CatBoostClassifier(\n",
    "        task_type='GPU',\n",
    "        loss_function=loss_function,\n",
    "        eval_metric=eval_metric,\n",
    "        od_type='Iter',\n",
    "        od_wait=100,\n",
    "        random_seed=random_state,\n",
    "        **kwargs\n",
    "    )\n",
    "    return model.fit(\n",
    "        train_pool, \n",
    "        verbose=verbose,\n",
    "    )"
   ],
   "metadata": {
    "execution": {
     "iopub.status.busy": "2024-09-28T18:01:04.067789Z",
     "iopub.execute_input": "2024-09-28T18:01:04.068703Z",
     "iopub.status.idle": "2024-09-28T18:01:04.077613Z",
     "shell.execute_reply.started": "2024-09-28T18:01:04.068656Z",
     "shell.execute_reply": "2024-09-28T18:01:04.076464Z"
    },
    "trusted": true
   },
   "execution_count": 4,
   "outputs": []
  },
  {
   "cell_type": "markdown",
   "source": [
    "## Age model"
   ],
   "metadata": {}
  },
  {
   "cell_type": "markdown",
   "source": [
    "Best optun params:\n",
    "\n",
    "```yaml\n",
    "Params: \n",
    "    bootstrap_type: Bernoulli\n",
    "    auto_class_weights: None\n",
    "    learning_rate: 0.8715306415556401\n",
    "    subsample: 0.9110538663058473\n",
    "\n",
    "```"
   ],
   "metadata": {}
  },
  {
   "cell_type": "code",
   "source": [
    "age_train_pool = set_pool(dataset.drop(target_gender, axis=1), target_age, id_columns)"
   ],
   "metadata": {
    "execution": {
     "iopub.status.busy": "2024-09-28T18:01:10.862293Z",
     "iopub.execute_input": "2024-09-28T18:01:10.862675Z",
     "iopub.status.idle": "2024-09-28T18:01:13.651301Z",
     "shell.execute_reply.started": "2024-09-28T18:01:10.862632Z",
     "shell.execute_reply": "2024-09-28T18:01:13.650303Z"
    },
    "trusted": true
   },
   "execution_count": 5,
   "outputs": []
  },
  {
   "cell_type": "code",
   "source": [
    "age_model = fit_model(\n",
    "    age_train_pool,\n",
    "    iterations=5000,\n",
    "    bootstrap_type='Bernoulli',\n",
    "    learning_rate=0.8715306415556401,\n",
    "    subsample=0.9110538663058473,\n",
    "    verbose=100,\n",
    "    tokenizers=[\n",
    "        {\n",
    "            'tokenizer_id': 'Sense',\n",
    "            'separator_type': 'BySense',\n",
    "            'lowercasing': 'True',\n",
    "            'token_types':['Word', 'Number', 'SentenceBreak'],\n",
    "            'sub_tokens_policy':'SeveralTokens'\n",
    "        }\n",
    "    ],\n",
    "    dictionaries = [\n",
    "        {\n",
    "            'dictionary_id': 'Word',\n",
    "            'dictionary_type': 'Bpe',\n",
    "            'max_dictionary_size': '5000',\n",
    "            'num_bpe_units': 1\n",
    "        }\n",
    "    ],\n",
    "    feature_calcers = [\n",
    "        'BoW:top_tokens_count=5000'\n",
    "    ],\n",
    ")"
   ],
   "metadata": {
    "execution": {
     "iopub.status.busy": "2024-09-28T18:01:20.623485Z",
     "iopub.execute_input": "2024-09-28T18:01:20.623836Z",
     "iopub.status.idle": "2024-09-28T18:07:39.509059Z",
     "shell.execute_reply.started": "2024-09-28T18:01:20.623803Z",
     "shell.execute_reply": "2024-09-28T18:07:39.508047Z"
    },
    "trusted": true
   },
   "execution_count": 6,
   "outputs": [
    {
     "name": "stderr",
     "text": "You should provide test set for use best model. use_best_model parameter has been switched to false value.\n",
     "output_type": "stream"
    },
    {
     "name": "stdout",
     "text": "0:\tlearn: 0.3879344\ttotal: 5.09s\tremaining: 7h 4m 19s\n100:\tlearn: 0.4817955\ttotal: 10.7s\tremaining: 8m 39s\n200:\tlearn: 0.5033066\ttotal: 16.7s\tremaining: 6m 37s\n300:\tlearn: 0.5171349\ttotal: 22.7s\tremaining: 5m 54s\n400:\tlearn: 0.5280119\ttotal: 28.9s\tremaining: 5m 30s\n500:\tlearn: 0.5371418\ttotal: 35.1s\tremaining: 5m 15s\n600:\tlearn: 0.5460257\ttotal: 41.4s\tremaining: 5m 3s\n700:\tlearn: 0.5525213\ttotal: 47.6s\tremaining: 4m 52s\n800:\tlearn: 0.5596827\ttotal: 54.1s\tremaining: 4m 43s\n900:\tlearn: 0.5656622\ttotal: 1m\tremaining: 4m 35s\n1000:\tlearn: 0.5714563\ttotal: 1m 6s\tremaining: 4m 27s\n1100:\tlearn: 0.5767122\ttotal: 1m 13s\tremaining: 4m 19s\n1200:\tlearn: 0.5813507\ttotal: 1m 19s\tremaining: 4m 12s\n1300:\tlearn: 0.5858698\ttotal: 1m 26s\tremaining: 4m 5s\n1400:\tlearn: 0.5900489\ttotal: 1m 32s\tremaining: 3m 57s\n1500:\tlearn: 0.5936704\ttotal: 1m 38s\tremaining: 3m 50s\n1600:\tlearn: 0.5972904\ttotal: 1m 45s\tremaining: 3m 43s\n1700:\tlearn: 0.6009403\ttotal: 1m 51s\tremaining: 3m 37s\n1800:\tlearn: 0.6048167\ttotal: 1m 58s\tremaining: 3m 30s\n1900:\tlearn: 0.6080012\ttotal: 2m 4s\tremaining: 3m 23s\n2000:\tlearn: 0.6111656\ttotal: 2m 11s\tremaining: 3m 17s\n2100:\tlearn: 0.6145221\ttotal: 2m 18s\tremaining: 3m 10s\n2200:\tlearn: 0.6174980\ttotal: 2m 24s\tremaining: 3m 3s\n2300:\tlearn: 0.6197838\ttotal: 2m 30s\tremaining: 2m 57s\n2400:\tlearn: 0.6224327\ttotal: 2m 37s\tremaining: 2m 50s\n2500:\tlearn: 0.6255128\ttotal: 2m 44s\tremaining: 2m 43s\n2600:\tlearn: 0.6278221\ttotal: 2m 50s\tremaining: 2m 37s\n2700:\tlearn: 0.6303681\ttotal: 2m 56s\tremaining: 2m 30s\n2800:\tlearn: 0.6325579\ttotal: 3m 3s\tremaining: 2m 23s\n2900:\tlearn: 0.6349347\ttotal: 3m 9s\tremaining: 2m 17s\n3000:\tlearn: 0.6373909\ttotal: 3m 16s\tremaining: 2m 11s\n3100:\tlearn: 0.6393558\ttotal: 3m 23s\tremaining: 2m 4s\n3200:\tlearn: 0.6416483\ttotal: 3m 29s\tremaining: 1m 57s\n3300:\tlearn: 0.6439557\ttotal: 3m 36s\tremaining: 1m 51s\n3400:\tlearn: 0.6461292\ttotal: 3m 43s\tremaining: 1m 44s\n3500:\tlearn: 0.6481690\ttotal: 3m 49s\tremaining: 1m 38s\n3600:\tlearn: 0.6503957\ttotal: 3m 56s\tremaining: 1m 31s\n3700:\tlearn: 0.6526864\ttotal: 4m 3s\tremaining: 1m 25s\n3800:\tlearn: 0.6546793\ttotal: 4m 9s\tremaining: 1m 18s\n3900:\tlearn: 0.6565430\ttotal: 4m 16s\tremaining: 1m 12s\n4000:\tlearn: 0.6586054\ttotal: 4m 22s\tremaining: 1m 5s\n4100:\tlearn: 0.6605549\ttotal: 4m 29s\tremaining: 59s\n4200:\tlearn: 0.6621057\ttotal: 4m 35s\tremaining: 52.5s\n4300:\tlearn: 0.6637404\ttotal: 4m 42s\tremaining: 45.9s\n4400:\tlearn: 0.6652836\ttotal: 4m 48s\tremaining: 39.3s\n4500:\tlearn: 0.6671804\ttotal: 4m 55s\tremaining: 32.7s\n4600:\tlearn: 0.6686215\ttotal: 5m 1s\tremaining: 26.2s\n4700:\tlearn: 0.6704270\ttotal: 5m 8s\tremaining: 19.6s\n4800:\tlearn: 0.6720034\ttotal: 5m 15s\tremaining: 13.1s\n4900:\tlearn: 0.6736205\ttotal: 5m 21s\tremaining: 6.5s\n4999:\tlearn: 0.6750865\ttotal: 5m 28s\tremaining: 0us\n",
     "output_type": "stream"
    }
   ]
  },
  {
   "cell_type": "code",
   "source": [
    "age_model.save_model(\n",
    "    \"age-catboost-model.cbm\",\n",
    "    format=\"cbm\",\n",
    "    pool=age_train_pool\n",
    ")"
   ],
   "metadata": {
    "execution": {
     "iopub.status.busy": "2024-09-28T18:09:50.765683Z",
     "iopub.execute_input": "2024-09-28T18:09:50.766313Z",
     "iopub.status.idle": "2024-09-28T18:09:50.830330Z",
     "shell.execute_reply.started": "2024-09-28T18:09:50.766275Z",
     "shell.execute_reply": "2024-09-28T18:09:50.829386Z"
    },
    "trusted": true
   },
   "execution_count": 8,
   "outputs": []
  },
  {
   "cell_type": "markdown",
   "source": [
    "## Gender model"
   ],
   "metadata": {}
  },
  {
   "cell_type": "markdown",
   "source": [
    "Best optun params:\n",
    "```yaml\n",
    "Params: \n",
    "    bootstrap_type: Bernoulli\n",
    "    auto_class_weights: None\n",
    "    learning_rate: 0.48678853590907367\n",
    "    subsample: 0.9887397939188028\n",
    "```"
   ],
   "metadata": {}
  },
  {
   "cell_type": "code",
   "source": [
    "gender_train_pool = set_pool(dataset.drop(target_age, axis=1), target_gender, id_columns)"
   ],
   "metadata": {
    "execution": {
     "iopub.status.busy": "2024-09-28T18:10:14.851651Z",
     "iopub.execute_input": "2024-09-28T18:10:14.852412Z",
     "iopub.status.idle": "2024-09-28T18:10:17.874939Z",
     "shell.execute_reply.started": "2024-09-28T18:10:14.852371Z",
     "shell.execute_reply": "2024-09-28T18:10:17.874158Z"
    },
    "trusted": true
   },
   "execution_count": 9,
   "outputs": []
  },
  {
   "cell_type": "code",
   "source": [
    "gender_model = fit_model(\n",
    "    gender_train_pool,\n",
    "    iterations=5000,\n",
    "    bootstrap_type='Bernoulli',\n",
    "    learning_rate=0.48678853590907367,\n",
    "    subsample=0.9887397939188028,\n",
    "    verbose=100,\n",
    "    tokenizers=[\n",
    "        {\n",
    "            'tokenizer_id': 'Sense',\n",
    "            'separator_type': 'BySense',\n",
    "            'lowercasing': 'True',\n",
    "            'token_types':['Word', 'Number', 'SentenceBreak'],\n",
    "            'sub_tokens_policy':'SeveralTokens'\n",
    "        }\n",
    "    ],\n",
    "    dictionaries = [\n",
    "        {\n",
    "            'dictionary_id': 'Word',\n",
    "            'dictionary_type': 'Bpe',\n",
    "            'max_dictionary_size': '5000',\n",
    "            'num_bpe_units': 1\n",
    "        }\n",
    "    ],\n",
    "    feature_calcers = [\n",
    "        'BoW:top_tokens_count=5000'\n",
    "    ],\n",
    ")"
   ],
   "metadata": {
    "execution": {
     "iopub.status.busy": "2024-09-28T18:10:21.300929Z",
     "iopub.execute_input": "2024-09-28T18:10:21.301329Z",
     "iopub.status.idle": "2024-09-28T18:14:05.110104Z",
     "shell.execute_reply.started": "2024-09-28T18:10:21.301290Z",
     "shell.execute_reply": "2024-09-28T18:14:05.109042Z"
    },
    "trusted": true
   },
   "execution_count": 10,
   "outputs": [
    {
     "name": "stderr",
     "text": "You should provide test set for use best model. use_best_model parameter has been switched to false value.\n",
     "output_type": "stream"
    },
    {
     "name": "stdout",
     "text": "0:\tlearn: 0.7120940\ttotal: 60.6ms\tremaining: 5m 2s\n100:\tlearn: 0.7780596\ttotal: 3.52s\tremaining: 2m 50s\n200:\tlearn: 0.7864304\ttotal: 7.04s\tremaining: 2m 48s\n300:\tlearn: 0.7918160\ttotal: 10.6s\tremaining: 2m 46s\n400:\tlearn: 0.7965729\ttotal: 14.4s\tremaining: 2m 45s\n500:\tlearn: 0.8003984\ttotal: 18.3s\tremaining: 2m 44s\n600:\tlearn: 0.8037760\ttotal: 22.2s\tremaining: 2m 42s\n700:\tlearn: 0.8071587\ttotal: 26.1s\tremaining: 2m 40s\n800:\tlearn: 0.8100635\ttotal: 30.1s\tremaining: 2m 37s\n900:\tlearn: 0.8125585\ttotal: 34s\tremaining: 2m 34s\n1000:\tlearn: 0.8148148\ttotal: 37.9s\tremaining: 2m 31s\n1100:\tlearn: 0.8168899\ttotal: 41.8s\tremaining: 2m 28s\n1200:\tlearn: 0.8188357\ttotal: 45.8s\tremaining: 2m 24s\n1300:\tlearn: 0.8205654\ttotal: 49.7s\tremaining: 2m 21s\n1400:\tlearn: 0.8222122\ttotal: 53.7s\tremaining: 2m 17s\n1500:\tlearn: 0.8236927\ttotal: 57.7s\tremaining: 2m 14s\n1600:\tlearn: 0.8250337\ttotal: 1m 1s\tremaining: 2m 10s\n1700:\tlearn: 0.8265311\ttotal: 1m 5s\tremaining: 2m 7s\n1800:\tlearn: 0.8279136\ttotal: 1m 9s\tremaining: 2m 3s\n1900:\tlearn: 0.8292547\ttotal: 1m 13s\tremaining: 2m\n2000:\tlearn: 0.8305451\ttotal: 1m 17s\tremaining: 1m 56s\n2100:\tlearn: 0.8316058\ttotal: 1m 21s\tremaining: 1m 52s\n2200:\tlearn: 0.8327188\ttotal: 1m 25s\tremaining: 1m 48s\n2300:\tlearn: 0.8339186\ttotal: 1m 29s\tremaining: 1m 45s\n2400:\tlearn: 0.8350124\ttotal: 1m 33s\tremaining: 1m 41s\n2500:\tlearn: 0.8360921\ttotal: 1m 37s\tremaining: 1m 37s\n2600:\tlearn: 0.8370432\ttotal: 1m 41s\tremaining: 1m 33s\n2700:\tlearn: 0.8380240\ttotal: 1m 45s\tremaining: 1m 29s\n2800:\tlearn: 0.8390391\ttotal: 1m 49s\tremaining: 1m 26s\n2900:\tlearn: 0.8400036\ttotal: 1m 53s\tremaining: 1m 22s\n3000:\tlearn: 0.8408890\ttotal: 1m 57s\tremaining: 1m 18s\n3100:\tlearn: 0.8415885\ttotal: 2m 1s\tremaining: 1m 14s\n3200:\tlearn: 0.8425100\ttotal: 2m 5s\tremaining: 1m 10s\n3300:\tlearn: 0.8433270\ttotal: 2m 9s\tremaining: 1m 6s\n3400:\tlearn: 0.8439876\ttotal: 2m 13s\tremaining: 1m 2s\n3500:\tlearn: 0.8446783\ttotal: 2m 17s\tremaining: 58.9s\n3600:\tlearn: 0.8454345\ttotal: 2m 21s\tremaining: 55s\n3700:\tlearn: 0.8462605\ttotal: 2m 25s\tremaining: 51.2s\n3800:\tlearn: 0.8469641\ttotal: 2m 29s\tremaining: 47.3s\n3900:\tlearn: 0.8477231\ttotal: 2m 33s\tremaining: 43.4s\n4000:\tlearn: 0.8484309\ttotal: 2m 37s\tremaining: 39.4s\n4100:\tlearn: 0.8491119\ttotal: 2m 41s\tremaining: 35.5s\n4200:\tlearn: 0.8498662\ttotal: 2m 45s\tremaining: 31.5s\n4300:\tlearn: 0.8505627\ttotal: 2m 49s\tremaining: 27.6s\n4400:\tlearn: 0.8513303\ttotal: 2m 53s\tremaining: 23.7s\n4500:\tlearn: 0.8520090\ttotal: 2m 57s\tremaining: 19.7s\n4600:\tlearn: 0.8527027\ttotal: 3m 1s\tremaining: 15.8s\n4700:\tlearn: 0.8532184\ttotal: 3m 5s\tremaining: 11.8s\n4800:\tlearn: 0.8537184\ttotal: 3m 9s\tremaining: 7.87s\n4900:\tlearn: 0.8545160\ttotal: 3m 13s\tremaining: 3.92s\n4999:\tlearn: 0.8550190\ttotal: 3m 18s\tremaining: 0us\n",
     "output_type": "stream"
    }
   ]
  },
  {
   "cell_type": "code",
   "source": [
    "gender_model.save_model(\n",
    "    \"gender-catboost-model.cbm\",\n",
    "    format=\"cbm\",\n",
    "    pool=gender_train_pool\n",
    ")"
   ],
   "metadata": {
    "execution": {
     "iopub.status.busy": "2024-09-28T18:14:24.862576Z",
     "iopub.execute_input": "2024-09-28T18:14:24.863510Z",
     "iopub.status.idle": "2024-09-28T18:14:24.911436Z",
     "shell.execute_reply.started": "2024-09-28T18:14:24.863444Z",
     "shell.execute_reply": "2024-09-28T18:14:24.910387Z"
    },
    "trusted": true
   },
   "execution_count": 11,
   "outputs": []
  },
  {
   "cell_type": "code",
   "source": [],
   "metadata": {},
   "execution_count": null,
   "outputs": []
  }
 ]
}
