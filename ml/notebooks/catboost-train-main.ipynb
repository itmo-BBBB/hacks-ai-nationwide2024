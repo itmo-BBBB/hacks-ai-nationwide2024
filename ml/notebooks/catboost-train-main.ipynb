{
 "metadata": {
  "kernelspec": {
   "language": "python",
   "display_name": "Python 3",
   "name": "python3"
  },
  "language_info": {
   "name": "python",
   "version": "3.10.14",
   "mimetype": "text/x-python",
   "codemirror_mode": {
    "name": "ipython",
    "version": 3
   },
   "pygments_lexer": "ipython3",
   "nbconvert_exporter": "python",
   "file_extension": ".py"
  },
  "kaggle": {
   "accelerator": "gpu",
   "dataSources": [
    {
     "sourceId": 9500589,
     "sourceType": "datasetVersion",
     "datasetId": 5781834
    }
   ],
   "dockerImageVersionId": 30775,
   "isInternetEnabled": true,
   "language": "python",
   "sourceType": "notebook",
   "isGpuEnabled": true
  }
 },
 "nbformat_minor": 4,
 "nbformat": 4,
 "cells": [
  {
   "cell_type": "code",
   "source": [
    "import pandas as pd\n",
    "import catboost as cb\n",
    "\n",
    "from catboost import Pool, CatBoostClassifier\n",
    "\n",
    "from typing import List, Tuple\n",
    "\n",
    "random_state = 42"
   ],
   "metadata": {
    "_uuid": "8f2839f25d086af736a60e9eeb907d3b93b6e0e5",
    "_cell_guid": "b1076dfc-b9ad-4769-8c92-a6c4dae69d19",
    "execution": {
     "iopub.status.busy": "2024-09-29T04:33:52.640887Z",
     "iopub.execute_input": "2024-09-29T04:33:52.641570Z",
     "iopub.status.idle": "2024-09-29T04:33:54.032554Z",
     "shell.execute_reply.started": "2024-09-29T04:33:52.641526Z",
     "shell.execute_reply": "2024-09-29T04:33:54.031479Z"
    },
    "trusted": true
   },
   "execution_count": 1,
   "outputs": []
  },
  {
   "cell_type": "markdown",
   "source": [
    "## Data Processing"
   ],
   "metadata": {}
  },
  {
   "cell_type": "code",
   "source": [
    "# columns\n",
    "target_gender = \"sex\"\n",
    "target_age = \"age_class\"\n",
    "\n",
    "cat_features = [\"region\", \"ua_device_type\", \"ua_client_type\", \"ua_os\", \"ua_client_name\", \"category\"]\n",
    "text_feature = \"title\"\n",
    "date_feature = \"event_timestamp\"\n",
    "\n",
    "drop_feature = \"age\"\n",
    "\n",
    "id_columns = [\"viewer_uid\", \"rutube_video_id\", \"author_id\"]"
   ],
   "metadata": {
    "execution": {
     "iopub.status.busy": "2024-09-29T04:33:55.644039Z",
     "iopub.execute_input": "2024-09-29T04:33:55.644947Z",
     "iopub.status.idle": "2024-09-29T04:33:55.651053Z",
     "shell.execute_reply.started": "2024-09-29T04:33:55.644908Z",
     "shell.execute_reply": "2024-09-29T04:33:55.650170Z"
    },
    "trusted": true
   },
   "execution_count": 2,
   "outputs": []
  },
  {
   "cell_type": "code",
   "source": [
    "dataset = pd.read_csv('/kaggle/input/catboost-dataset/catboost_dataset.csv').drop(\n",
    "    drop_feature, axis=1\n",
    ").fillna('none')\n",
    "\n",
    "# new feature\n",
    "dataset['videos_per_day'] = dataset.groupby(['viewer_uid', 'day']).transform('size')\n",
    "\n",
    "# drop unimportant old features\n",
    "dataset = dataset.drop([\"second\", \"minute\", \"month\",\"year\"], axis=1)"
   ],
   "metadata": {
    "execution": {
     "iopub.status.busy": "2024-09-29T04:33:57.389020Z",
     "iopub.execute_input": "2024-09-29T04:33:57.389433Z",
     "iopub.status.idle": "2024-09-29T04:34:16.871995Z",
     "shell.execute_reply.started": "2024-09-29T04:33:57.389396Z",
     "shell.execute_reply": "2024-09-29T04:34:16.871134Z"
    },
    "trusted": true
   },
   "execution_count": 3,
   "outputs": []
  },
  {
   "cell_type": "markdown",
   "source": [
    "## Utils"
   ],
   "metadata": {}
  },
  {
   "cell_type": "code",
   "source": [
    "def set_pool(data: pd.DataFrame, target: str, id_columns: List[str]) -> Pool:\n",
    "    \"\"\"\n",
    "    Prepares the data as a CatBoost Pool object, separating features, target, and categorical/text features.\n",
    "    \"\"\"\n",
    "    return Pool(\n",
    "        data=data.drop(id_columns + [target], axis=1),\n",
    "        cat_features=cat_features,\n",
    "        text_features=[text_feature],\n",
    "        label=data[target]\n",
    "    )\n",
    "\n",
    "\n",
    "def fit_model(\n",
    "    train_pool: cb.core.Pool, \n",
    "    verbose: int, \n",
    "    multiclass: bool = True, \n",
    "    **kwargs\n",
    ") -> cb.core.CatBoostClassifier:\n",
    "    \"\"\"\n",
    "    Trains a CatBoost classifier model on the given training data and evaluates it on the test set.\n",
    "    \"\"\"\n",
    "    loss_function = 'MultiClass'\n",
    "    eval_metric = 'TotalF1'\n",
    "    \n",
    "    if not multiclass:\n",
    "        loss_function = 'Logloss'\n",
    "        eval_metric = 'Accuracy'\n",
    "        \n",
    "        \n",
    "    model = CatBoostClassifier(\n",
    "        task_type='GPU',\n",
    "        loss_function=loss_function,\n",
    "        eval_metric=eval_metric,\n",
    "        od_type='Iter',\n",
    "        od_wait=100,\n",
    "        random_seed=random_state,\n",
    "        **kwargs\n",
    "    )\n",
    "    return model.fit(\n",
    "        train_pool, \n",
    "        verbose=verbose,\n",
    "    )"
   ],
   "metadata": {
    "execution": {
     "iopub.status.busy": "2024-09-29T04:34:16.873852Z",
     "iopub.execute_input": "2024-09-29T04:34:16.874196Z",
     "iopub.status.idle": "2024-09-29T04:34:16.882708Z",
     "shell.execute_reply.started": "2024-09-29T04:34:16.874163Z",
     "shell.execute_reply": "2024-09-29T04:34:16.881830Z"
    },
    "trusted": true
   },
   "execution_count": 4,
   "outputs": []
  },
  {
   "cell_type": "markdown",
   "source": [
    "## Age model"
   ],
   "metadata": {}
  },
  {
   "cell_type": "markdown",
   "source": [
    "Best optun params:\n",
    "\n",
    "```yaml\n",
    "Params: \n",
    "    bootstrap_type: Bernoulli\n",
    "    auto_class_weights: None\n",
    "    learning_rate: 0.4976669440909651\n",
    "    subsample: 0.9354177622692733\n",
    "\n",
    "```"
   ],
   "metadata": {}
  },
  {
   "cell_type": "code",
   "source": [
    "age_train_pool = set_pool(dataset.drop(target_gender, axis=1), target_age, id_columns)"
   ],
   "metadata": {
    "execution": {
     "iopub.status.busy": "2024-09-29T04:34:39.698393Z",
     "iopub.execute_input": "2024-09-29T04:34:39.698797Z",
     "iopub.status.idle": "2024-09-29T04:34:42.658325Z",
     "shell.execute_reply.started": "2024-09-29T04:34:39.698759Z",
     "shell.execute_reply": "2024-09-29T04:34:42.657376Z"
    },
    "trusted": true
   },
   "execution_count": 5,
   "outputs": []
  },
  {
   "cell_type": "code",
   "source": [
    "age_model = fit_model(\n",
    "    age_train_pool,\n",
    "    iterations=5000,\n",
    "    bootstrap_type='Bernoulli',\n",
    "    learning_rate=0.4976669440909651,\n",
    "    subsample=0.9354177622692733,\n",
    "    verbose=100,\n",
    "    tokenizers=[\n",
    "        {\n",
    "            'tokenizer_id': 'Sense',\n",
    "            'separator_type': 'BySense',\n",
    "            'lowercasing': 'True',\n",
    "            'token_types':['Word', 'Number', 'SentenceBreak'],\n",
    "            'sub_tokens_policy':'SeveralTokens'\n",
    "        }\n",
    "    ],\n",
    "    dictionaries = [\n",
    "        {\n",
    "            'dictionary_id': 'Word',\n",
    "            'dictionary_type': 'Bpe',\n",
    "            'max_dictionary_size': '5000',\n",
    "            'num_bpe_units': 1\n",
    "        }\n",
    "    ],\n",
    "    feature_calcers = [\n",
    "        'BoW:top_tokens_count=5000'\n",
    "    ],\n",
    ")"
   ],
   "metadata": {
    "execution": {
     "iopub.status.busy": "2024-09-29T04:35:03.723949Z",
     "iopub.execute_input": "2024-09-29T04:35:03.724362Z",
     "iopub.status.idle": "2024-09-29T04:41:22.602233Z",
     "shell.execute_reply.started": "2024-09-29T04:35:03.724324Z",
     "shell.execute_reply": "2024-09-29T04:41:22.601173Z"
    },
    "trusted": true
   },
   "execution_count": 6,
   "outputs": [
    {
     "name": "stdout",
     "text": "0:\tlearn: 0.3879344\ttotal: 4.73s\tremaining: 6h 33m 52s\n100:\tlearn: 0.4769632\ttotal: 10.4s\tremaining: 8m 25s\n200:\tlearn: 0.4959503\ttotal: 16.4s\tremaining: 6m 32s\n300:\tlearn: 0.5091697\ttotal: 22.7s\tremaining: 5m 54s\n400:\tlearn: 0.5194496\ttotal: 28.9s\tremaining: 5m 31s\n500:\tlearn: 0.5283364\ttotal: 35.1s\tremaining: 5m 15s\n600:\tlearn: 0.5356860\ttotal: 41.4s\tremaining: 5m 3s\n700:\tlearn: 0.5419071\ttotal: 47.9s\tremaining: 4m 53s\n800:\tlearn: 0.5477768\ttotal: 54.3s\tremaining: 4m 44s\n900:\tlearn: 0.5528745\ttotal: 1m\tremaining: 4m 36s\n1000:\tlearn: 0.5578871\ttotal: 1m 7s\tremaining: 4m 28s\n1100:\tlearn: 0.5625843\ttotal: 1m 13s\tremaining: 4m 21s\n1200:\tlearn: 0.5672158\ttotal: 1m 20s\tremaining: 4m 13s\n1300:\tlearn: 0.5714387\ttotal: 1m 26s\tremaining: 4m 7s\n1400:\tlearn: 0.5755397\ttotal: 1m 33s\tremaining: 4m\n1500:\tlearn: 0.5786810\ttotal: 1m 40s\tremaining: 3m 53s\n1600:\tlearn: 0.5816910\ttotal: 1m 46s\tremaining: 3m 46s\n1700:\tlearn: 0.5851990\ttotal: 1m 53s\tremaining: 3m 39s\n1800:\tlearn: 0.5887442\ttotal: 2m\tremaining: 3m 33s\n1900:\tlearn: 0.5917237\ttotal: 2m 6s\tremaining: 3m 26s\n2000:\tlearn: 0.5946127\ttotal: 2m 13s\tremaining: 3m 19s\n2100:\tlearn: 0.5976686\ttotal: 2m 19s\tremaining: 3m 12s\n2200:\tlearn: 0.6001496\ttotal: 2m 26s\tremaining: 3m 6s\n2300:\tlearn: 0.6026490\ttotal: 2m 33s\tremaining: 2m 59s\n2400:\tlearn: 0.6053015\ttotal: 2m 39s\tremaining: 2m 52s\n2500:\tlearn: 0.6076936\ttotal: 2m 46s\tremaining: 2m 46s\n2600:\tlearn: 0.6101948\ttotal: 2m 52s\tremaining: 2m 39s\n2700:\tlearn: 0.6123110\ttotal: 2m 59s\tremaining: 2m 32s\n2800:\tlearn: 0.6145287\ttotal: 3m 5s\tremaining: 2m 25s\n2900:\tlearn: 0.6166243\ttotal: 3m 12s\tremaining: 2m 19s\n3000:\tlearn: 0.6189043\ttotal: 3m 19s\tremaining: 2m 12s\n3100:\tlearn: 0.6211296\ttotal: 3m 25s\tremaining: 2m 5s\n3200:\tlearn: 0.6230897\ttotal: 3m 32s\tremaining: 1m 59s\n3300:\tlearn: 0.6250452\ttotal: 3m 39s\tremaining: 1m 52s\n3400:\tlearn: 0.6269154\ttotal: 3m 45s\tremaining: 1m 46s\n3500:\tlearn: 0.6289584\ttotal: 3m 52s\tremaining: 1m 39s\n3600:\tlearn: 0.6305500\ttotal: 3m 59s\tremaining: 1m 32s\n3700:\tlearn: 0.6323673\ttotal: 4m 5s\tremaining: 1m 26s\n3800:\tlearn: 0.6339203\ttotal: 4m 12s\tremaining: 1m 19s\n3900:\tlearn: 0.6356053\ttotal: 4m 19s\tremaining: 1m 12s\n4000:\tlearn: 0.6373715\ttotal: 4m 25s\tremaining: 1m 6s\n4100:\tlearn: 0.6391165\ttotal: 4m 32s\tremaining: 59.7s\n4200:\tlearn: 0.6405811\ttotal: 4m 39s\tremaining: 53.1s\n4300:\tlearn: 0.6419375\ttotal: 4m 45s\tremaining: 46.4s\n4400:\tlearn: 0.6434352\ttotal: 4m 52s\tremaining: 39.8s\n4500:\tlearn: 0.6448263\ttotal: 4m 59s\tremaining: 33.2s\n4600:\tlearn: 0.6465002\ttotal: 5m 5s\tremaining: 26.5s\n4700:\tlearn: 0.6478617\ttotal: 5m 12s\tremaining: 19.9s\n4800:\tlearn: 0.6492604\ttotal: 5m 19s\tremaining: 13.2s\n4900:\tlearn: 0.6506175\ttotal: 5m 25s\tremaining: 6.58s\n4999:\tlearn: 0.6517366\ttotal: 5m 32s\tremaining: 0us\n",
     "output_type": "stream"
    }
   ]
  },
  {
   "cell_type": "code",
   "source": [
    "age_model.save_model(\n",
    "    \"age-catboost-model.cbm\",\n",
    "    format=\"cbm\",\n",
    "    pool=age_train_pool\n",
    ")"
   ],
   "metadata": {
    "execution": {
     "iopub.status.busy": "2024-09-29T04:41:22.603973Z",
     "iopub.execute_input": "2024-09-29T04:41:22.604343Z",
     "iopub.status.idle": "2024-09-29T04:41:22.661344Z",
     "shell.execute_reply.started": "2024-09-29T04:41:22.604307Z",
     "shell.execute_reply": "2024-09-29T04:41:22.660184Z"
    },
    "trusted": true
   },
   "execution_count": 7,
   "outputs": []
  },
  {
   "cell_type": "markdown",
   "source": [
    "## Gender model"
   ],
   "metadata": {}
  },
  {
   "cell_type": "markdown",
   "source": [
    "Best optun params:\n",
    "```yaml\n",
    "Params: \n",
    "    bootstrap_type: Bernoulli\n",
    "    auto_class_weights: None\n",
    "    learning_rate: 0.4983777521803222\n",
    "    subsample: 0.9606212019353756\n",
    "```"
   ],
   "metadata": {}
  },
  {
   "cell_type": "code",
   "source": [
    "gender_train_pool = set_pool(dataset.drop(target_age, axis=1), target_gender, id_columns)"
   ],
   "metadata": {
    "execution": {
     "iopub.status.busy": "2024-09-29T04:43:22.748049Z",
     "iopub.execute_input": "2024-09-29T04:43:22.748838Z",
     "iopub.status.idle": "2024-09-29T04:43:25.907728Z",
     "shell.execute_reply.started": "2024-09-29T04:43:22.748794Z",
     "shell.execute_reply": "2024-09-29T04:43:25.906888Z"
    },
    "trusted": true
   },
   "execution_count": 8,
   "outputs": []
  },
  {
   "cell_type": "code",
   "source": [
    "gender_model = fit_model(\n",
    "    gender_train_pool,\n",
    "    iterations=5000,\n",
    "    bootstrap_type='Bernoulli',\n",
    "    learning_rate=0.4983777521803222,\n",
    "    subsample=0.9606212019353756,\n",
    "    verbose=100,\n",
    "    tokenizers=[\n",
    "        {\n",
    "            'tokenizer_id': 'Sense',\n",
    "            'separator_type': 'BySense',\n",
    "            'lowercasing': 'True',\n",
    "            'token_types':['Word', 'Number', 'SentenceBreak'],\n",
    "            'sub_tokens_policy':'SeveralTokens'\n",
    "        }\n",
    "    ],\n",
    "    dictionaries = [\n",
    "        {\n",
    "            'dictionary_id': 'Word',\n",
    "            'dictionary_type': 'Bpe',\n",
    "            'max_dictionary_size': '5000',\n",
    "            'num_bpe_units': 1\n",
    "        }\n",
    "    ],\n",
    "    feature_calcers = [\n",
    "        'BoW:top_tokens_count=5000'\n",
    "    ],\n",
    ")"
   ],
   "metadata": {
    "execution": {
     "iopub.status.busy": "2024-09-29T04:43:32.778338Z",
     "iopub.execute_input": "2024-09-29T04:43:32.779007Z",
     "iopub.status.idle": "2024-09-29T04:47:16.005806Z",
     "shell.execute_reply.started": "2024-09-29T04:43:32.778965Z",
     "shell.execute_reply": "2024-09-29T04:47:16.004909Z"
    },
    "trusted": true
   },
   "execution_count": 9,
   "outputs": [
    {
     "name": "stdout",
     "text": "0:\tlearn: 0.7099180\ttotal: 59.5ms\tremaining: 4m 57s\n100:\tlearn: 0.7783696\ttotal: 3.44s\tremaining: 2m 47s\n200:\tlearn: 0.7862559\ttotal: 7.12s\tremaining: 2m 49s\n300:\tlearn: 0.7917883\ttotal: 10.7s\tremaining: 2m 47s\n400:\tlearn: 0.7967212\ttotal: 14.4s\tremaining: 2m 45s\n500:\tlearn: 0.8013284\ttotal: 18.2s\tremaining: 2m 43s\n600:\tlearn: 0.8047856\ttotal: 22s\tremaining: 2m 40s\n700:\tlearn: 0.8077177\ttotal: 25.8s\tremaining: 2m 38s\n800:\tlearn: 0.8101531\ttotal: 29.7s\tremaining: 2m 35s\n900:\tlearn: 0.8126063\ttotal: 33.6s\tremaining: 2m 32s\n1000:\tlearn: 0.8144257\ttotal: 37.5s\tremaining: 2m 29s\n1100:\tlearn: 0.8164586\ttotal: 41.5s\tremaining: 2m 26s\n1200:\tlearn: 0.8185886\ttotal: 45.5s\tremaining: 2m 23s\n1300:\tlearn: 0.8205268\ttotal: 49.5s\tremaining: 2m 20s\n1400:\tlearn: 0.8221318\ttotal: 53.4s\tremaining: 2m 17s\n1500:\tlearn: 0.8240110\ttotal: 57.3s\tremaining: 2m 13s\n1600:\tlearn: 0.8256800\ttotal: 1m 1s\tremaining: 2m 10s\n1700:\tlearn: 0.8268657\ttotal: 1m 5s\tremaining: 2m 6s\n1800:\tlearn: 0.8280073\ttotal: 1m 9s\tremaining: 2m 2s\n1900:\tlearn: 0.8293215\ttotal: 1m 13s\tremaining: 1m 59s\n2000:\tlearn: 0.8305446\ttotal: 1m 17s\tremaining: 1m 55s\n2100:\tlearn: 0.8315511\ttotal: 1m 21s\tremaining: 1m 51s\n2200:\tlearn: 0.8325850\ttotal: 1m 25s\tremaining: 1m 48s\n2300:\tlearn: 0.8337946\ttotal: 1m 29s\tremaining: 1m 44s\n2400:\tlearn: 0.8348305\ttotal: 1m 33s\tremaining: 1m 40s\n2500:\tlearn: 0.8357924\ttotal: 1m 37s\tremaining: 1m 36s\n2600:\tlearn: 0.8369360\ttotal: 1m 41s\tremaining: 1m 33s\n2700:\tlearn: 0.8377620\ttotal: 1m 44s\tremaining: 1m 29s\n2800:\tlearn: 0.8387219\ttotal: 1m 48s\tremaining: 1m 25s\n2900:\tlearn: 0.8395830\ttotal: 1m 52s\tremaining: 1m 21s\n3000:\tlearn: 0.8405810\ttotal: 1m 56s\tremaining: 1m 17s\n3100:\tlearn: 0.8414473\ttotal: 2m\tremaining: 1m 14s\n3200:\tlearn: 0.8424059\ttotal: 2m 4s\tremaining: 1m 10s\n3300:\tlearn: 0.8431941\ttotal: 2m 8s\tremaining: 1m 6s\n3400:\tlearn: 0.8440647\ttotal: 2m 12s\tremaining: 1m 2s\n3500:\tlearn: 0.8449196\ttotal: 2m 16s\tremaining: 58.6s\n3600:\tlearn: 0.8455750\ttotal: 2m 20s\tremaining: 54.7s\n3700:\tlearn: 0.8462841\ttotal: 2m 24s\tremaining: 50.9s\n3800:\tlearn: 0.8469368\ttotal: 2m 28s\tremaining: 47s\n3900:\tlearn: 0.8475577\ttotal: 2m 32s\tremaining: 43s\n4000:\tlearn: 0.8482873\ttotal: 2m 36s\tremaining: 39.1s\n4100:\tlearn: 0.8490073\ttotal: 2m 40s\tremaining: 35.2s\n4200:\tlearn: 0.8497448\ttotal: 2m 44s\tremaining: 31.4s\n4300:\tlearn: 0.8504249\ttotal: 2m 48s\tremaining: 27.4s\n4400:\tlearn: 0.8510645\ttotal: 2m 52s\tremaining: 23.5s\n4500:\tlearn: 0.8517691\ttotal: 2m 56s\tremaining: 19.6s\n4600:\tlearn: 0.8524606\ttotal: 3m\tremaining: 15.7s\n4700:\tlearn: 0.8530189\ttotal: 3m 4s\tremaining: 11.8s\n4800:\tlearn: 0.8536743\ttotal: 3m 8s\tremaining: 7.83s\n4900:\tlearn: 0.8543133\ttotal: 3m 12s\tremaining: 3.89s\n4999:\tlearn: 0.8549884\ttotal: 3m 16s\tremaining: 0us\n",
     "output_type": "stream"
    }
   ]
  },
  {
   "cell_type": "code",
   "source": [
    "gender_model.save_model(\n",
    "    \"gender-catboost-model.cbm\",\n",
    "    format=\"cbm\",\n",
    "    pool=gender_train_pool\n",
    ")"
   ],
   "metadata": {
    "execution": {
     "iopub.status.busy": "2024-09-29T04:47:16.007634Z",
     "iopub.execute_input": "2024-09-29T04:47:16.008128Z",
     "iopub.status.idle": "2024-09-29T04:47:16.049034Z",
     "shell.execute_reply.started": "2024-09-29T04:47:16.008065Z",
     "shell.execute_reply": "2024-09-29T04:47:16.047863Z"
    },
    "trusted": true
   },
   "execution_count": 10,
   "outputs": []
  },
  {
   "cell_type": "code",
   "source": [],
   "metadata": {},
   "execution_count": null,
   "outputs": []
  }
 ]
}
