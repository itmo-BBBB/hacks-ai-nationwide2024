{
 "cells": [
  {
   "cell_type": "code",
   "execution_count": 1,
   "id": "initial_id",
   "metadata": {
    "collapsed": true,
    "ExecuteTime": {
     "end_time": "2024-09-29T05:31:35.603191Z",
     "start_time": "2024-09-29T05:31:34.632024Z"
    }
   },
   "outputs": [],
   "source": [
    "import pandas as pd\n",
    "import catboost as cb\n",
    "\n",
    "from catboost import Pool, CatBoostClassifier\n",
    "from sklearn.metrics import f1_score, accuracy_score, classification_report\n",
    "\n",
    "from typing import List\n",
    "\n",
    "random_state = 42"
   ]
  },
  {
   "cell_type": "markdown",
   "source": [
    "## Data Processing"
   ],
   "metadata": {
    "collapsed": false
   },
   "id": "c3a6e230b083aa40"
  },
  {
   "cell_type": "code",
   "execution_count": 2,
   "outputs": [],
   "source": [
    "# columns\n",
    "target_gender = \"sex\"\n",
    "target_age = \"age_class\"\n",
    "\n",
    "cat_features = [\"region\", \"ua_device_type\", \"ua_client_type\", \"ua_os\", \"ua_client_name\", \"category\"]\n",
    "text_feature = \"title\"\n",
    "date_feature = \"event_timestamp\"\n",
    "\n",
    "drop_feature = \"age\"\n",
    "\n",
    "id_columns = [\"viewer_uid\", \"rutube_video_id\", \"author_id\"]"
   ],
   "metadata": {
    "collapsed": false,
    "ExecuteTime": {
     "end_time": "2024-09-29T05:31:35.603457Z",
     "start_time": "2024-09-29T05:31:35.584937Z"
    }
   },
   "id": "2654dec8435d742a"
  },
  {
   "cell_type": "code",
   "execution_count": 3,
   "outputs": [],
   "source": [
    "dataset = pd.read_csv('../../catboost_test.csv').fillna('none')\n",
    "\n",
    "# new feature\n",
    "dataset['videos_per_day'] = dataset.groupby(['viewer_uid', 'day']).transform('size')\n",
    "\n",
    "# drop unimportant old features\n",
    "dataset = dataset.drop([\"second\", \"minute\", \"month\",\"year\"], axis=1)"
   ],
   "metadata": {
    "collapsed": false,
    "ExecuteTime": {
     "end_time": "2024-09-29T05:31:39.148035Z",
     "start_time": "2024-09-29T05:31:36.937092Z"
    }
   },
   "id": "79a73324b817f73b"
  },
  {
   "cell_type": "markdown",
   "source": [
    "## Utils"
   ],
   "metadata": {
    "collapsed": false,
    "ExecuteTime": {
     "end_time": "2024-09-29T04:58:40.501879Z",
     "start_time": "2024-09-29T04:58:40.493208Z"
    }
   },
   "id": "94a155f3b6e0c69a"
  },
  {
   "cell_type": "code",
   "execution_count": 4,
   "outputs": [],
   "source": [
    "def set_pool(data: pd.DataFrame, id_columns: List[str]) -> cb.core.Pool:\n",
    "    \"\"\"\n",
    "    Prepares the data as a CatBoost Pool object, separating features, target, and categorical/text features.\n",
    "    \"\"\"\n",
    "    return Pool(\n",
    "        data=data.drop(id_columns, axis=1),\n",
    "        cat_features=cat_features,\n",
    "        text_features=[text_feature],\n",
    "    )\n",
    "\n",
    "\n",
    "def print_classification_result(real: pd.Series, pred: pd.Series, multiclass: bool = True):\n",
    "    \"\"\"\n",
    "    Prints the classification metrics (Accuracy or F1-score) and detailed classification report.\n",
    "    \"\"\"\n",
    "    if not multiclass: \n",
    "        result_score = f'Accuracy: {accuracy_score(real, pred)}'\n",
    "    else:\n",
    "        result_score = f'F1: {f1_score(real, pred, average=\"weighted\")}'\n",
    "    \n",
    "    print(\n",
    "        result_score,\n",
    "        classification_report(real, pred),\n",
    "        sep='\\n'\n",
    "    )\n",
    "    \n",
    "    \n",
    "def aggregate_score_by_user(test: pd.DataFrame, preds: pd.DataFrame):\n",
    "    \"\"\"\n",
    "    Aggregates predictions by user ID by taking the mode of the predicted values.\n",
    "\n",
    "    This function adds the predictions to the test DataFrame and then computes \n",
    "    the most common prediction (mode) for each user based on their viewer_uid.\n",
    "    \"\"\"\n",
    "    test_with_preds = test\n",
    "    test_with_preds['preds'] = pd.DataFrame(preds)\n",
    "\n",
    "    value_counts_preds = test_with_preds.groupby('viewer_uid')['preds'].apply(lambda x: x.mode()[0])\n",
    "\n",
    "    return value_counts_preds\n",
    "\n",
    "\n",
    "def final_score(\n",
    "    gender_real: pd.DataFrame,\n",
    "    gender_pred: pd.DataFrame, \n",
    "    age_real: pd.DataFrame, \n",
    "    age_pred: pd.DataFrame\n",
    "):\n",
    "    \"\"\"\n",
    "    Computes the final score as a weighted combination of gender accuracy and age F1-score.\n",
    "    \"\"\"\n",
    "    gender = accuracy_score(gender_real, gender_pred)\n",
    "    age = f1_score(age_real, age_pred, average=\"weighted\")\n",
    "    result = 0.3 * gender + 0.7 * age\n",
    "    print(f'Final score: {result}')\n",
    "    return result"
   ],
   "metadata": {
    "collapsed": false,
    "ExecuteTime": {
     "end_time": "2024-09-29T05:31:39.160390Z",
     "start_time": "2024-09-29T05:31:39.151346Z"
    }
   },
   "id": "40baab73730a5a86"
  },
  {
   "cell_type": "markdown",
   "source": [
    "## Predict"
   ],
   "metadata": {
    "collapsed": false
   },
   "id": "ea5c1bc306695d96"
  },
  {
   "cell_type": "code",
   "execution_count": 5,
   "outputs": [],
   "source": [
    "# age model\n",
    "age_test_pool = set_pool(dataset, id_columns)\n",
    "\n",
    "age_model = CatBoostClassifier().load_model('../models/age-catboost-model.cbm')"
   ],
   "metadata": {
    "collapsed": false,
    "ExecuteTime": {
     "end_time": "2024-09-29T05:31:42.205039Z",
     "start_time": "2024-09-29T05:31:41.676929Z"
    }
   },
   "id": "10f70591891a1eda"
  },
  {
   "cell_type": "code",
   "execution_count": 6,
   "outputs": [],
   "source": [
    "# gender model \n",
    "gender_test_pool = set_pool(dataset, id_columns)\n",
    "\n",
    "gender_model = CatBoostClassifier().load_model('../models/gender-catboost-model.cbm')"
   ],
   "metadata": {
    "collapsed": false,
    "ExecuteTime": {
     "end_time": "2024-09-29T05:31:42.906783Z",
     "start_time": "2024-09-29T05:31:42.409612Z"
    }
   },
   "id": "34f133821577dd70"
  },
  {
   "cell_type": "code",
   "execution_count": 7,
   "outputs": [],
   "source": [
    "age_predict = age_model.predict(age_test_pool)\n",
    "gender_predict = gender_model.predict(gender_test_pool)"
   ],
   "metadata": {
    "collapsed": false,
    "ExecuteTime": {
     "end_time": "2024-09-29T05:31:52.470222Z",
     "start_time": "2024-09-29T05:31:42.891390Z"
    }
   },
   "id": "8d9a0fe18a158d5b"
  },
  {
   "cell_type": "code",
   "execution_count": 10,
   "outputs": [],
   "source": [
    "dataset_submission = dataset.copy()\n",
    "dataset_submission['sex'] = pd.DataFrame(gender_predict)\n",
    "dataset_submission['age_class'] = pd.DataFrame(age_predict)\n",
    "dataset_submission = dataset_submission[['viewer_uid', 'sex', 'age_class']]"
   ],
   "metadata": {
    "collapsed": false,
    "ExecuteTime": {
     "end_time": "2024-09-29T05:33:36.050916Z",
     "start_time": "2024-09-29T05:33:35.921010Z"
    }
   },
   "id": "483ba533236188b2"
  },
  {
   "cell_type": "code",
   "execution_count": 11,
   "outputs": [
    {
     "data": {
      "text/plain": "        viewer_uid     sex  age_class\n0            22206  female          1\n1            34531    male          3\n2            25830    male          1\n3            14838  female          3\n4            13718  female          2\n...            ...     ...        ...\n587730       23170    male          3\n587731       43241    male          3\n587732       31204    male          3\n587733       40889    male          1\n587734        6033    male          2\n\n[587735 rows x 3 columns]",
      "text/html": "<div>\n<style scoped>\n    .dataframe tbody tr th:only-of-type {\n        vertical-align: middle;\n    }\n\n    .dataframe tbody tr th {\n        vertical-align: top;\n    }\n\n    .dataframe thead th {\n        text-align: right;\n    }\n</style>\n<table border=\"1\" class=\"dataframe\">\n  <thead>\n    <tr style=\"text-align: right;\">\n      <th></th>\n      <th>viewer_uid</th>\n      <th>sex</th>\n      <th>age_class</th>\n    </tr>\n  </thead>\n  <tbody>\n    <tr>\n      <th>0</th>\n      <td>22206</td>\n      <td>female</td>\n      <td>1</td>\n    </tr>\n    <tr>\n      <th>1</th>\n      <td>34531</td>\n      <td>male</td>\n      <td>3</td>\n    </tr>\n    <tr>\n      <th>2</th>\n      <td>25830</td>\n      <td>male</td>\n      <td>1</td>\n    </tr>\n    <tr>\n      <th>3</th>\n      <td>14838</td>\n      <td>female</td>\n      <td>3</td>\n    </tr>\n    <tr>\n      <th>4</th>\n      <td>13718</td>\n      <td>female</td>\n      <td>2</td>\n    </tr>\n    <tr>\n      <th>...</th>\n      <td>...</td>\n      <td>...</td>\n      <td>...</td>\n    </tr>\n    <tr>\n      <th>587730</th>\n      <td>23170</td>\n      <td>male</td>\n      <td>3</td>\n    </tr>\n    <tr>\n      <th>587731</th>\n      <td>43241</td>\n      <td>male</td>\n      <td>3</td>\n    </tr>\n    <tr>\n      <th>587732</th>\n      <td>31204</td>\n      <td>male</td>\n      <td>3</td>\n    </tr>\n    <tr>\n      <th>587733</th>\n      <td>40889</td>\n      <td>male</td>\n      <td>1</td>\n    </tr>\n    <tr>\n      <th>587734</th>\n      <td>6033</td>\n      <td>male</td>\n      <td>2</td>\n    </tr>\n  </tbody>\n</table>\n<p>587735 rows × 3 columns</p>\n</div>"
     },
     "execution_count": 11,
     "metadata": {},
     "output_type": "execute_result"
    }
   ],
   "source": [
    "dataset_submission"
   ],
   "metadata": {
    "collapsed": false,
    "ExecuteTime": {
     "end_time": "2024-09-29T05:33:44.426237Z",
     "start_time": "2024-09-29T05:33:44.419126Z"
    }
   },
   "id": "b7465b1be69cda05"
  },
  {
   "cell_type": "code",
   "execution_count": 12,
   "outputs": [],
   "source": [
    "final_age_predict = aggregate_score_by_user(dataset_submission, age_predict)\n",
    "final_gender_predict = aggregate_score_by_user(dataset_submission, gender_predict)"
   ],
   "metadata": {
    "collapsed": false,
    "ExecuteTime": {
     "end_time": "2024-09-29T05:34:04.151904Z",
     "start_time": "2024-09-29T05:33:58.969666Z"
    }
   },
   "id": "38851152660e6a2b"
  },
  {
   "cell_type": "code",
   "execution_count": 15,
   "outputs": [
    {
     "data": {
      "text/plain": "array([    0,     1,     2, ..., 60001, 60002, 60003])"
     },
     "execution_count": 15,
     "metadata": {},
     "output_type": "execute_result"
    }
   ],
   "source": [
    "import numpy as np\n",
    "np.sort(dataset_submission['viewer_uid'].unique())"
   ],
   "metadata": {
    "collapsed": false,
    "ExecuteTime": {
     "end_time": "2024-09-29T05:35:13.505885Z",
     "start_time": "2024-09-29T05:35:13.493243Z"
    }
   },
   "id": "4d5ce50af83f698c"
  },
  {
   "cell_type": "code",
   "execution_count": 32,
   "outputs": [],
   "source": [
    "submission = pd.DataFrame(columns=['viewer_uid', 'age', 'sex', 'age_class'])\n",
    "\n",
    "submission['viewer_uid'] = final_gender_predict.index\n",
    "submission['age'] = final_age_predict\n",
    "submission['sex'] = final_gender_predict\n",
    "submission['age_class'] = final_age_predict"
   ],
   "metadata": {
    "collapsed": false,
    "ExecuteTime": {
     "end_time": "2024-09-29T05:41:05.547539Z",
     "start_time": "2024-09-29T05:41:05.535343Z"
    }
   },
   "id": "f66f3c8221b44d2c"
  },
  {
   "cell_type": "code",
   "execution_count": 33,
   "outputs": [
    {
     "data": {
      "text/plain": "   viewer_uid  age     sex  age_class\n0           0    3    male          3\n1           1    3    male          3\n2           2    1    male          1\n3           3    2    male          2\n4           4    1  female          1",
      "text/html": "<div>\n<style scoped>\n    .dataframe tbody tr th:only-of-type {\n        vertical-align: middle;\n    }\n\n    .dataframe tbody tr th {\n        vertical-align: top;\n    }\n\n    .dataframe thead th {\n        text-align: right;\n    }\n</style>\n<table border=\"1\" class=\"dataframe\">\n  <thead>\n    <tr style=\"text-align: right;\">\n      <th></th>\n      <th>viewer_uid</th>\n      <th>age</th>\n      <th>sex</th>\n      <th>age_class</th>\n    </tr>\n  </thead>\n  <tbody>\n    <tr>\n      <th>0</th>\n      <td>0</td>\n      <td>3</td>\n      <td>male</td>\n      <td>3</td>\n    </tr>\n    <tr>\n      <th>1</th>\n      <td>1</td>\n      <td>3</td>\n      <td>male</td>\n      <td>3</td>\n    </tr>\n    <tr>\n      <th>2</th>\n      <td>2</td>\n      <td>1</td>\n      <td>male</td>\n      <td>1</td>\n    </tr>\n    <tr>\n      <th>3</th>\n      <td>3</td>\n      <td>2</td>\n      <td>male</td>\n      <td>2</td>\n    </tr>\n    <tr>\n      <th>4</th>\n      <td>4</td>\n      <td>1</td>\n      <td>female</td>\n      <td>1</td>\n    </tr>\n  </tbody>\n</table>\n</div>"
     },
     "execution_count": 33,
     "metadata": {},
     "output_type": "execute_result"
    }
   ],
   "source": [
    "submission.head()"
   ],
   "metadata": {
    "collapsed": false,
    "ExecuteTime": {
     "end_time": "2024-09-29T05:41:06.964751Z",
     "start_time": "2024-09-29T05:41:06.958581Z"
    }
   },
   "id": "e23459f956b14636"
  },
  {
   "cell_type": "code",
   "execution_count": 34,
   "outputs": [
    {
     "data": {
      "text/plain": "       viewer_uid  age     sex  age_class\n0           14416   39  female          0\n1            5190   12    male          1\n2            8887   23    male          0\n3           55417   18  female          3\n4            8980   48  female          3\n...           ...  ...     ...        ...\n59999       16343   44  female          0\n60000       47183   26  female          3\n60001       23370   58    male          0\n60002       12750   22    male          1\n60003       56022   10    male          2\n\n[60004 rows x 4 columns]",
      "text/html": "<div>\n<style scoped>\n    .dataframe tbody tr th:only-of-type {\n        vertical-align: middle;\n    }\n\n    .dataframe tbody tr th {\n        vertical-align: top;\n    }\n\n    .dataframe thead th {\n        text-align: right;\n    }\n</style>\n<table border=\"1\" class=\"dataframe\">\n  <thead>\n    <tr style=\"text-align: right;\">\n      <th></th>\n      <th>viewer_uid</th>\n      <th>age</th>\n      <th>sex</th>\n      <th>age_class</th>\n    </tr>\n  </thead>\n  <tbody>\n    <tr>\n      <th>0</th>\n      <td>14416</td>\n      <td>39</td>\n      <td>female</td>\n      <td>0</td>\n    </tr>\n    <tr>\n      <th>1</th>\n      <td>5190</td>\n      <td>12</td>\n      <td>male</td>\n      <td>1</td>\n    </tr>\n    <tr>\n      <th>2</th>\n      <td>8887</td>\n      <td>23</td>\n      <td>male</td>\n      <td>0</td>\n    </tr>\n    <tr>\n      <th>3</th>\n      <td>55417</td>\n      <td>18</td>\n      <td>female</td>\n      <td>3</td>\n    </tr>\n    <tr>\n      <th>4</th>\n      <td>8980</td>\n      <td>48</td>\n      <td>female</td>\n      <td>3</td>\n    </tr>\n    <tr>\n      <th>...</th>\n      <td>...</td>\n      <td>...</td>\n      <td>...</td>\n      <td>...</td>\n    </tr>\n    <tr>\n      <th>59999</th>\n      <td>16343</td>\n      <td>44</td>\n      <td>female</td>\n      <td>0</td>\n    </tr>\n    <tr>\n      <th>60000</th>\n      <td>47183</td>\n      <td>26</td>\n      <td>female</td>\n      <td>3</td>\n    </tr>\n    <tr>\n      <th>60001</th>\n      <td>23370</td>\n      <td>58</td>\n      <td>male</td>\n      <td>0</td>\n    </tr>\n    <tr>\n      <th>60002</th>\n      <td>12750</td>\n      <td>22</td>\n      <td>male</td>\n      <td>1</td>\n    </tr>\n    <tr>\n      <th>60003</th>\n      <td>56022</td>\n      <td>10</td>\n      <td>male</td>\n      <td>2</td>\n    </tr>\n  </tbody>\n</table>\n<p>60004 rows × 4 columns</p>\n</div>"
     },
     "execution_count": 34,
     "metadata": {},
     "output_type": "execute_result"
    }
   ],
   "source": [
    "sub = pd.read_csv('../test_dataset/subm.csv')\n",
    "sub"
   ],
   "metadata": {
    "collapsed": false,
    "ExecuteTime": {
     "end_time": "2024-09-29T05:41:08.271007Z",
     "start_time": "2024-09-29T05:41:08.246480Z"
    }
   },
   "id": "2de5a0604aca7ca5"
  },
  {
   "cell_type": "code",
   "execution_count": 35,
   "outputs": [],
   "source": [
    "viewer_uid = sub.viewer_uid"
   ],
   "metadata": {
    "collapsed": false,
    "ExecuteTime": {
     "end_time": "2024-09-29T05:41:09.125111Z",
     "start_time": "2024-09-29T05:41:09.113245Z"
    }
   },
   "id": "2cd9b10ea1e2e0ae"
  },
  {
   "cell_type": "code",
   "execution_count": 36,
   "outputs": [
    {
     "data": {
      "text/plain": "       viewer_uid  age     sex  age_class\n0           14416    1  female          1\n1            5190    2    male          2\n2            8887    2  female          2\n3           55417    1    male          1\n4            8980    1  female          1\n...           ...  ...     ...        ...\n59999       16343    1  female          1\n60000       47183    3  female          3\n60001       23370    1  female          1\n60002       12750    1  female          1\n60003       56022    2    male          2\n\n[60004 rows x 4 columns]",
      "text/html": "<div>\n<style scoped>\n    .dataframe tbody tr th:only-of-type {\n        vertical-align: middle;\n    }\n\n    .dataframe tbody tr th {\n        vertical-align: top;\n    }\n\n    .dataframe thead th {\n        text-align: right;\n    }\n</style>\n<table border=\"1\" class=\"dataframe\">\n  <thead>\n    <tr style=\"text-align: right;\">\n      <th></th>\n      <th>viewer_uid</th>\n      <th>age</th>\n      <th>sex</th>\n      <th>age_class</th>\n    </tr>\n  </thead>\n  <tbody>\n    <tr>\n      <th>0</th>\n      <td>14416</td>\n      <td>1</td>\n      <td>female</td>\n      <td>1</td>\n    </tr>\n    <tr>\n      <th>1</th>\n      <td>5190</td>\n      <td>2</td>\n      <td>male</td>\n      <td>2</td>\n    </tr>\n    <tr>\n      <th>2</th>\n      <td>8887</td>\n      <td>2</td>\n      <td>female</td>\n      <td>2</td>\n    </tr>\n    <tr>\n      <th>3</th>\n      <td>55417</td>\n      <td>1</td>\n      <td>male</td>\n      <td>1</td>\n    </tr>\n    <tr>\n      <th>4</th>\n      <td>8980</td>\n      <td>1</td>\n      <td>female</td>\n      <td>1</td>\n    </tr>\n    <tr>\n      <th>...</th>\n      <td>...</td>\n      <td>...</td>\n      <td>...</td>\n      <td>...</td>\n    </tr>\n    <tr>\n      <th>59999</th>\n      <td>16343</td>\n      <td>1</td>\n      <td>female</td>\n      <td>1</td>\n    </tr>\n    <tr>\n      <th>60000</th>\n      <td>47183</td>\n      <td>3</td>\n      <td>female</td>\n      <td>3</td>\n    </tr>\n    <tr>\n      <th>60001</th>\n      <td>23370</td>\n      <td>1</td>\n      <td>female</td>\n      <td>1</td>\n    </tr>\n    <tr>\n      <th>60002</th>\n      <td>12750</td>\n      <td>1</td>\n      <td>female</td>\n      <td>1</td>\n    </tr>\n    <tr>\n      <th>60003</th>\n      <td>56022</td>\n      <td>2</td>\n      <td>male</td>\n      <td>2</td>\n    </tr>\n  </tbody>\n</table>\n<p>60004 rows × 4 columns</p>\n</div>"
     },
     "execution_count": 36,
     "metadata": {},
     "output_type": "execute_result"
    }
   ],
   "source": [
    "final_sub = pd.merge(viewer_uid, submission, on='viewer_uid')\n",
    "final_sub"
   ],
   "metadata": {
    "collapsed": false,
    "ExecuteTime": {
     "end_time": "2024-09-29T05:41:11.009848Z",
     "start_time": "2024-09-29T05:41:10.985329Z"
    }
   },
   "id": "74f7130d9dcef232"
  },
  {
   "cell_type": "code",
   "execution_count": 37,
   "outputs": [],
   "source": [
    "final_sub.to_csv(\n",
    "    \"./submission.csv\",\n",
    "    index=False \n",
    ")"
   ],
   "metadata": {
    "collapsed": false,
    "ExecuteTime": {
     "end_time": "2024-09-29T05:41:12.553259Z",
     "start_time": "2024-09-29T05:41:12.501850Z"
    }
   },
   "id": "da2fecf3d1afb373"
  },
  {
   "cell_type": "code",
   "execution_count": 38,
   "outputs": [
    {
     "data": {
      "text/plain": "(60004, 4)"
     },
     "execution_count": 38,
     "metadata": {},
     "output_type": "execute_result"
    }
   ],
   "source": [
    "final_sub.shape"
   ],
   "metadata": {
    "collapsed": false,
    "ExecuteTime": {
     "end_time": "2024-09-29T05:41:13.176309Z",
     "start_time": "2024-09-29T05:41:13.167327Z"
    }
   },
   "id": "446cb166f9f03481"
  },
  {
   "cell_type": "code",
   "execution_count": 39,
   "outputs": [
    {
     "data": {
      "text/plain": "(60004,)"
     },
     "execution_count": 39,
     "metadata": {},
     "output_type": "execute_result"
    }
   ],
   "source": [
    "viewer_uid.shape"
   ],
   "metadata": {
    "collapsed": false,
    "ExecuteTime": {
     "end_time": "2024-09-29T05:41:14.216479Z",
     "start_time": "2024-09-29T05:41:14.213279Z"
    }
   },
   "id": "c0b487397fa515cc"
  },
  {
   "cell_type": "code",
   "execution_count": null,
   "outputs": [],
   "source": [],
   "metadata": {
    "collapsed": false
   },
   "id": "1e1b681c2cff1512"
  }
 ],
 "metadata": {
  "kernelspec": {
   "name": "deep-learning-env",
   "language": "python",
   "display_name": "deep-learning-env"
  },
  "language_info": {
   "codemirror_mode": {
    "name": "ipython",
    "version": 2
   },
   "file_extension": ".py",
   "mimetype": "text/x-python",
   "name": "python",
   "nbconvert_exporter": "python",
   "pygments_lexer": "ipython2",
   "version": "2.7.6"
  }
 },
 "nbformat": 4,
 "nbformat_minor": 5
}
