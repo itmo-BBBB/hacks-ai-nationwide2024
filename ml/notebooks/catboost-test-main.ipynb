{
 "cells": [
  {
   "cell_type": "code",
   "execution_count": null,
   "id": "initial_id",
   "metadata": {
    "collapsed": true
   },
   "outputs": [],
   "source": [
    "import pandas as pd\n",
    "import catboost as cb\n",
    "\n",
    "from catboost import Pool, CatBoostClassifier\n",
    "from sklearn.metrics import f1_score, accuracy_score, classification_report\n",
    "\n",
    "from typing import List\n",
    "\n",
    "random_state = 42"
   ]
  },
  {
   "cell_type": "markdown",
   "source": [
    "## Data Processing"
   ],
   "metadata": {
    "collapsed": false
   },
   "id": "c3a6e230b083aa40"
  },
  {
   "cell_type": "code",
   "execution_count": null,
   "outputs": [],
   "source": [
    "# columns\n",
    "target_gender = \"sex\"\n",
    "target_age = \"age_class\"\n",
    "\n",
    "cat_features = [\"region\", \"ua_device_type\", \"ua_client_type\", \"ua_os\", \"ua_client_name\", \"category\"]\n",
    "text_feature = \"title\"\n",
    "date_feature = \"event_timestamp\"\n",
    "\n",
    "drop_feature = \"age\"\n",
    "\n",
    "id_columns = [\"viewer_uid\", \"rutube_video_id\", \"author_id\"]"
   ],
   "metadata": {
    "collapsed": false
   },
   "id": "2654dec8435d742a"
  },
  {
   "cell_type": "code",
   "execution_count": null,
   "outputs": [],
   "source": [
    "dataset = pd.read_csv('TEST-DATA').drop(\n",
    "    drop_feature, axis=1\n",
    ").fillna('none')\n",
    "\n",
    "# new feature\n",
    "dataset['videos_per_day'] = dataset.groupby(['viewer_uid', 'day']).transform('size')\n",
    "\n",
    "# drop unimportant old features\n",
    "dataset = dataset.drop([\"second\", \"minute\", \"month\",\"year\"], axis=1)"
   ],
   "metadata": {
    "collapsed": false
   },
   "id": "79a73324b817f73b"
  },
  {
   "cell_type": "markdown",
   "source": [
    "## Utils"
   ],
   "metadata": {
    "collapsed": false
   },
   "id": "94a155f3b6e0c69a"
  },
  {
   "cell_type": "code",
   "execution_count": null,
   "outputs": [],
   "source": [
    "def set_pool(data: pd.DataFrame, target: str, id_columns: List[str]) -> cb.core.Pool:\n",
    "    \"\"\"\n",
    "    Prepares the data as a CatBoost Pool object, separating features, target, and categorical/text features.\n",
    "    \"\"\"\n",
    "    return Pool(\n",
    "        data=data.drop(id_columns + [target], axis=1),\n",
    "        cat_features=cat_features,\n",
    "        text_features=[text_feature],\n",
    "        label=data[target]\n",
    "    )\n",
    "\n",
    "\n",
    "def print_classification_result(real: pd.Series, pred: pd.Series, multiclass: bool = True):\n",
    "    \"\"\"\n",
    "    Prints the classification metrics (Accuracy or F1-score) and detailed classification report.\n",
    "    \"\"\"\n",
    "    if not multiclass: \n",
    "        result_score = f'Accuracy: {accuracy_score(real, pred)}'\n",
    "    else:\n",
    "        result_score = f'F1: {f1_score(real, pred, average=\"weighted\")}'\n",
    "    \n",
    "    print(\n",
    "        result_score,\n",
    "        classification_report(real, pred),\n",
    "        sep='\\n'\n",
    "    )\n",
    "    \n",
    "    \n",
    "def aggregate_score_by_user(test: pd.DataFrame, preds: pd.DataFrame):\n",
    "    \"\"\"\n",
    "    Aggregates predictions by user ID by taking the mode of the predicted values.\n",
    "\n",
    "    This function adds the predictions to the test DataFrame and then computes \n",
    "    the most common prediction (mode) for each user based on their viewer_uid.\n",
    "    \"\"\"\n",
    "    test_with_preds = test\n",
    "    test_with_preds['preds'] = preds\n",
    "\n",
    "    value_counts_preds = test_with_preds.groupby('viewer_uid')['preds'].apply(lambda x: x.mode()[0])\n",
    "    value_counts_preds = value_counts_preds.to_dict()\n",
    "    final_preds = test['viewer_uid'].apply(lambda x: value_counts_preds[x])\n",
    "    return final_preds\n",
    "\n",
    "\n",
    "def final_score(\n",
    "    gender_real: pd.DataFrame,\n",
    "    gender_pred: pd.DataFrame, \n",
    "    age_real: pd.DataFrame, \n",
    "    age_pred: pd.DataFrame\n",
    "):\n",
    "    \"\"\"\n",
    "    Computes the final score as a weighted combination of gender accuracy and age F1-score.\n",
    "    \"\"\"\n",
    "    gender = accuracy_score(gender_real, gender_pred)\n",
    "    age = f1_score(age_real, age_pred, average=\"weighted\")\n",
    "    result = 0.3 * gender + 0.7 * age\n",
    "    print(f'Final score: {result}')\n",
    "    return result"
   ],
   "metadata": {
    "collapsed": false
   },
   "id": "40baab73730a5a86"
  },
  {
   "cell_type": "markdown",
   "source": [
    "## Predict"
   ],
   "metadata": {
    "collapsed": false
   },
   "id": "ea5c1bc306695d96"
  },
  {
   "cell_type": "code",
   "execution_count": null,
   "outputs": [],
   "source": [
    "# age model\n",
    "age_test_pool = set_pool(dataset, target_age, id_columns)\n",
    "\n",
    "age_model = CatBoostClassifier().load_model('MODEL')"
   ],
   "metadata": {
    "collapsed": false
   },
   "id": "10f70591891a1eda"
  },
  {
   "cell_type": "code",
   "execution_count": null,
   "outputs": [],
   "source": [
    "# gender model \n",
    "gender_test_pool = set_pool(dataset, target_gender, id_columns)\n",
    "\n",
    "gender_model = CatBoostClassifier().load_model('MODEL')"
   ],
   "metadata": {
    "collapsed": false
   },
   "id": "34f133821577dd70"
  },
  {
   "cell_type": "code",
   "execution_count": null,
   "outputs": [],
   "source": [
    "age_predict = age_model.predict(age_test_pool)\n",
    "gender_predict = gender_model.predict(gender_test_pool)"
   ],
   "metadata": {
    "collapsed": false
   },
   "id": "8d9a0fe18a158d5b"
  },
  {
   "cell_type": "code",
   "execution_count": null,
   "outputs": [],
   "source": [
    "final_age_predict = aggregate_score_by_user(dataset, age_predict)\n",
    "final_gender_predict = aggregate_score_by_user(dataset, gender_predict)"
   ],
   "metadata": {
    "collapsed": false
   },
   "id": "38851152660e6a2b"
  },
  {
   "cell_type": "code",
   "execution_count": null,
   "outputs": [],
   "source": [
    "print_classification_result(dataset[target_age], age_predict)"
   ],
   "metadata": {
    "collapsed": false
   },
   "id": "6ab2c6d342c946e"
  },
  {
   "cell_type": "code",
   "execution_count": null,
   "outputs": [],
   "source": [
    "print_classification_result(dataset[target_gender], gender_predict)"
   ],
   "metadata": {
    "collapsed": false
   },
   "id": "5ca8c71f82d8f11d"
  },
  {
   "cell_type": "code",
   "execution_count": null,
   "outputs": [],
   "source": [
    "final_score(\n",
    "    dataset[gender_predict],\n",
    "    gender_predict,\n",
    "    dataset[age_predict],\n",
    "    age_predict\n",
    ")"
   ],
   "metadata": {
    "collapsed": false
   },
   "id": "8fe9eb563680a2a4"
  }
 ],
 "metadata": {
  "kernelspec": {
   "display_name": "Python 3",
   "language": "python",
   "name": "python3"
  },
  "language_info": {
   "codemirror_mode": {
    "name": "ipython",
    "version": 2
   },
   "file_extension": ".py",
   "mimetype": "text/x-python",
   "name": "python",
   "nbconvert_exporter": "python",
   "pygments_lexer": "ipython2",
   "version": "2.7.6"
  }
 },
 "nbformat": 4,
 "nbformat_minor": 5
}
