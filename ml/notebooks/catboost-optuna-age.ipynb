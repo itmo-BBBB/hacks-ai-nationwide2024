{
 "metadata": {
  "kernelspec": {
   "language": "python",
   "display_name": "Python 3",
   "name": "python3"
  },
  "language_info": {
   "name": "python",
   "version": "3.10.14",
   "mimetype": "text/x-python",
   "codemirror_mode": {
    "name": "ipython",
    "version": 3
   },
   "pygments_lexer": "ipython3",
   "nbconvert_exporter": "python",
   "file_extension": ".py"
  },
  "kaggle": {
   "accelerator": "nvidiaTeslaT4",
   "dataSources": [
    {
     "sourceId": 9500589,
     "sourceType": "datasetVersion",
     "datasetId": 5781834
    }
   ],
   "dockerImageVersionId": 30776,
   "isInternetEnabled": true,
   "language": "python",
   "sourceType": "notebook",
   "isGpuEnabled": true
  }
 },
 "nbformat_minor": 4,
 "nbformat": 4,
 "cells": [
  {
   "cell_type": "code",
   "source": [
    "import optuna\n",
    "\n",
    "import pandas as pd\n",
    "import catboost as cb\n",
    "\n",
    "from catboost import Pool, CatBoostClassifier\n",
    "from sklearn.model_selection import train_test_split\n",
    "from sklearn.metrics import f1_score, accuracy_score, classification_report\n",
    "\n",
    "from typing import List, Tuple\n",
    "\n",
    "random_state = 42"
   ],
   "metadata": {
    "_uuid": "8f2839f25d086af736a60e9eeb907d3b93b6e0e5",
    "_cell_guid": "b1076dfc-b9ad-4769-8c92-a6c4dae69d19",
    "execution": {
     "iopub.status.busy": "2024-09-28T14:04:52.718739Z",
     "iopub.execute_input": "2024-09-28T14:04:52.719053Z",
     "iopub.status.idle": "2024-09-28T14:04:57.884942Z",
     "shell.execute_reply.started": "2024-09-28T14:04:52.719008Z",
     "shell.execute_reply": "2024-09-28T14:04:57.883957Z"
    },
    "trusted": true
   },
   "execution_count": 1,
   "outputs": []
  },
  {
   "cell_type": "markdown",
   "source": [
    "## Data processing"
   ],
   "metadata": {}
  },
  {
   "cell_type": "code",
   "source": [
    "# columns\n",
    "target_gender = \"sex\"\n",
    "target_age = \"age_class\"\n",
    "\n",
    "cat_features = [\"region\", \"ua_device_type\", \"ua_client_type\", \"ua_os\", \"ua_client_name\", \"category\"]\n",
    "text_feature = \"title\"\n",
    "date_feature = \"event_timestamp\"\n",
    "\n",
    "drop_feature = \"age\"\n",
    "\n",
    "id_columns = [\"viewer_uid\", \"rutube_video_id\", \"author_id\"]"
   ],
   "metadata": {
    "execution": {
     "iopub.status.busy": "2024-09-28T14:04:57.887010Z",
     "iopub.execute_input": "2024-09-28T14:04:57.887418Z",
     "iopub.status.idle": "2024-09-28T14:04:57.892731Z",
     "shell.execute_reply.started": "2024-09-28T14:04:57.887384Z",
     "shell.execute_reply": "2024-09-28T14:04:57.891693Z"
    },
    "trusted": true
   },
   "execution_count": 2,
   "outputs": []
  },
  {
   "cell_type": "code",
   "source": [
    "dataset = pd.read_csv('/kaggle/input/catboost-dataset/catboost_dataset.csv').drop(\n",
    "    drop_feature, axis=1\n",
    ").fillna('none')\n",
    "\n",
    "# new feature\n",
    "dataset['videos_per_day'] = dataset.groupby(['viewer_uid', 'day']).transform('size')\n",
    "\n",
    "# drop unimportant old features\n",
    "dataset = dataset.drop([\"second\", \"minute\", \"month\",\"year\"], axis=1)"
   ],
   "metadata": {
    "execution": {
     "iopub.status.busy": "2024-09-28T14:04:57.893864Z",
     "iopub.execute_input": "2024-09-28T14:04:57.894202Z",
     "iopub.status.idle": "2024-09-28T14:05:17.399997Z",
     "shell.execute_reply.started": "2024-09-28T14:04:57.894157Z",
     "shell.execute_reply": "2024-09-28T14:05:17.399184Z"
    },
    "trusted": true
   },
   "execution_count": 3,
   "outputs": []
  },
  {
   "cell_type": "markdown",
   "source": [
    "## Utils"
   ],
   "metadata": {}
  },
  {
   "cell_type": "code",
   "source": [
    "def split_data(data: pd.DataFrame, target: str, test_size: float) -> Tuple[pd.DataFrame, pd.DataFrame]:\n",
    "    \"\"\"\n",
    "    Splits the data into training and testing sets based on the specified test size.\n",
    "    \"\"\"\n",
    "    train, test,= train_test_split(\n",
    "        data, \n",
    "        test_size=test_size, \n",
    "        stratify=data[target],\n",
    "        random_state=random_state\n",
    "    )\n",
    "    return train, test\n",
    "\n",
    "\n",
    "def set_pool(data: pd.DataFrame, target: str, id_columns: List[str]) -> Pool:\n",
    "    \"\"\"\n",
    "    Prepares the data as a CatBoost Pool object, separating features, target, and categorical/text features.\n",
    "    \"\"\"\n",
    "    return Pool(\n",
    "        data=data.drop(id_columns + [target], axis=1),\n",
    "        cat_features=cat_features,\n",
    "        text_features=[text_feature],\n",
    "        label=data[target]\n",
    "    )\n",
    "\n",
    "\n",
    "def fit_model(\n",
    "    train_pool: cb.core.Pool, \n",
    "    test_pool: cb.core.Pool,\n",
    "    verbose: int, \n",
    "    multiclass: bool = True, \n",
    "    **kwargs\n",
    ") -> cb.core.CatBoostClassifier:\n",
    "    \"\"\"\n",
    "    Trains a CatBoost classifier model on the given training data and evaluates it on the test set.\n",
    "    \"\"\"\n",
    "    loss_function = 'MultiClass'\n",
    "    eval_metric = 'TotalF1'\n",
    "    \n",
    "    if not multiclass:\n",
    "        loss_function = 'Logloss'\n",
    "        eval_metric = 'Accuracy'\n",
    "        \n",
    "        \n",
    "    model = CatBoostClassifier(\n",
    "        task_type='GPU',\n",
    "        loss_function=loss_function,\n",
    "        eval_metric=eval_metric,\n",
    "        od_type='Iter',\n",
    "        od_wait=100,\n",
    "        random_seed=random_state,\n",
    "        **kwargs\n",
    "    )\n",
    "    return model.fit(\n",
    "        train_pool, \n",
    "        eval_set=test_pool, \n",
    "        verbose=verbose,\n",
    "        use_best_model=True,\n",
    "    )\n",
    "\n",
    "\n",
    "def print_classification_result(real: pd.Series, pred: pd.Series, multiclass: bool = True):\n",
    "    \"\"\"\n",
    "    Prints the classification metrics (Accuracy or F1-score) and detailed classification report.\n",
    "    \"\"\"\n",
    "    if not multiclass: \n",
    "        result_score = f'Accuracy: {accuracy_score(real, pred)}'\n",
    "    else:\n",
    "        result_score = f'F1: {f1_score(real, pred, average=\"weighted\")}'\n",
    "    \n",
    "    print(\n",
    "        result_score,\n",
    "        classification_report(real, pred),\n",
    "        sep='\\n'\n",
    "    )\n",
    "    \n",
    "    \n",
    "def aggregate_score_by_user(test: pd.DataFrame, preds: pd.DataFrame):\n",
    "    \"\"\"\n",
    "    Aggregates predictions by user ID by taking the mode of the predicted values.\n",
    "\n",
    "    This function adds the predictions to the test DataFrame and then computes \n",
    "    the most common prediction (mode) for each user based on their viewer_uid.\n",
    "    \"\"\"\n",
    "    test_with_preds = test\n",
    "    test_with_preds['preds'] = preds\n",
    "\n",
    "    value_counts_preds = test_with_preds.groupby('viewer_uid')['preds'].apply(lambda x: x.mode()[0])\n",
    "    value_counts_preds = value_counts_preds.to_dict()\n",
    "    final_preds = test['viewer_uid'].apply(lambda x: value_counts_preds[x])\n",
    "    return final_preds\n",
    "\n",
    "\n",
    "def final_score(\n",
    "    gender_real: pd.DataFrame,\n",
    "    gender_pred: pd.DataFrame, \n",
    "    age_real: pd.DataFrame, \n",
    "    age_pred: pd.DataFrame\n",
    "):\n",
    "    \"\"\"\n",
    "    Computes the final score as a weighted combination of gender accuracy and age F1-score.\n",
    "    \"\"\"\n",
    "    gender = accuracy_score(gender_real, gender_pred)\n",
    "    age = f1_score(age_real, age_pred, average=\"weighted\")\n",
    "    result = 0.3 * gender + 0.7 * age\n",
    "    print(f'Final score: {result}')\n",
    "    return result"
   ],
   "metadata": {
    "execution": {
     "iopub.status.busy": "2024-09-28T14:05:17.401996Z",
     "iopub.execute_input": "2024-09-28T14:05:17.402382Z",
     "iopub.status.idle": "2024-09-28T14:05:17.418974Z",
     "shell.execute_reply.started": "2024-09-28T14:05:17.402335Z",
     "shell.execute_reply": "2024-09-28T14:05:17.417986Z"
    },
    "trusted": true
   },
   "execution_count": 4,
   "outputs": []
  },
  {
   "cell_type": "markdown",
   "source": [
    "## Optuna"
   ],
   "metadata": {}
  },
  {
   "cell_type": "markdown",
   "source": [
    "### Age model"
   ],
   "metadata": {}
  },
  {
   "cell_type": "code",
   "source": [
    "age_train, age_test = split_data(\n",
    "        data=dataset, \n",
    "        target=target_age,\n",
    "        test_size=0.2,\n",
    "    )\n",
    "\n",
    "age_train_pool = set_pool(age_train.drop(target_gender, axis=1), target_age, id_columns)\n",
    "age_test_pool = set_pool(age_test.drop(target_gender, axis=1), target_age, id_columns)\n",
    "\n",
    "def age_objective(trial):\n",
    "    age_params = {\n",
    "        \"bootstrap_type\": trial.suggest_categorical(\"bootstrap_type\", [\"Bayesian\", \"Bernoulli\", \"Poisson\", None]),\n",
    "        \"auto_class_weights\": trial.suggest_categorical(\"auto_class_weights\", [\"Balanced\", \"SqrtBalanced\", None]),\n",
    "        \"learning_rate\": trial.suggest_float(\"learning_rate\", 0.03, 1)\n",
    "    }\n",
    "    \n",
    "    if age_params[\"bootstrap_type\"] == \"Bayesian\":\n",
    "        age_params[\"bagging_temperature\"] = trial.suggest_float(\"bagging_temperature\", 0, 10)\n",
    "    elif age_params[\"bootstrap_type\"] == \"Bernoulli\":\n",
    "        age_params[\"subsample\"] = trial.suggest_float(\"subsample\", 0.1, 1)\n",
    "    \n",
    "    age_model = fit_model(\n",
    "        age_train_pool, \n",
    "        age_test_pool,\n",
    "        verbose=500,\n",
    "        iterations=1500,\n",
    "        tokenizers=[\n",
    "            {\n",
    "                'tokenizer_id': 'Sense',\n",
    "                'separator_type': 'BySense',\n",
    "                'lowercasing': 'True',\n",
    "                'token_types':['Word', 'Number', 'SentenceBreak'],\n",
    "                'sub_tokens_policy':'SeveralTokens'\n",
    "            }      \n",
    "        ],\n",
    "        dictionaries = [\n",
    "            {\n",
    "                'dictionary_id': 'Word',\n",
    "                'dictionary_type': 'Bpe',\n",
    "                'max_dictionary_size': '5000',\n",
    "                'num_bpe_units': 1\n",
    "            }\n",
    "        ],\n",
    "        feature_calcers = [\n",
    "            'BoW:top_tokens_count=5000'\n",
    "        ],\n",
    "        **age_params\n",
    "    )\n",
    "    \n",
    "    age_preds = age_model.predict(age_test_pool)\n",
    "    age_final_preds = aggregate_score_by_user(age_test, age_preds)\n",
    "    score = f1_score(age_test[target_age], age_final_preds, average=\"weighted\")\n",
    "    \n",
    "    return score"
   ],
   "metadata": {
    "execution": {
     "iopub.status.busy": "2024-09-28T14:05:17.420055Z",
     "iopub.execute_input": "2024-09-28T14:05:17.420317Z",
     "iopub.status.idle": "2024-09-28T14:05:22.737605Z",
     "shell.execute_reply.started": "2024-09-28T14:05:17.420287Z",
     "shell.execute_reply": "2024-09-28T14:05:22.736511Z"
    },
    "trusted": true
   },
   "execution_count": 5,
   "outputs": []
  },
  {
   "cell_type": "code",
   "source": [
    "if __name__ == \"__main__\":\n",
    "    study = optuna.create_study(direction=\"maximize\")\n",
    "    study.optimize(age_objective, n_trials=50, show_progress_bar=True)\n",
    "\n",
    "    print(\"Number of finished trials: {}\".format(len(study.trials)))\n",
    "    print(\"Best trial:\")\n",
    "    trial = study.best_trial\n",
    "\n",
    "    print(\"  Value: {}\".format(trial.value))\n",
    "\n",
    "    print(\"  Params: \")\n",
    "    for key, value in trial.params.items():\n",
    "        print(\"    {}: {}\".format(key, value))"
   ],
   "metadata": {
    "execution": {
     "iopub.status.busy": "2024-09-28T14:05:22.738874Z",
     "iopub.execute_input": "2024-09-28T14:05:22.739176Z",
     "iopub.status.idle": "2024-09-28T15:44:53.615981Z",
     "shell.execute_reply.started": "2024-09-28T14:05:22.739143Z",
     "shell.execute_reply": "2024-09-28T15:44:53.615074Z"
    },
    "trusted": true
   },
   "execution_count": 6,
   "outputs": [
    {
     "name": "stderr",
     "text": "[I 2024-09-28 14:05:22,742] A new study created in memory with name: no-name-f24adb1e-f7ea-449f-a45f-870703c1af9c\n",
     "output_type": "stream"
    },
    {
     "output_type": "display_data",
     "data": {
      "text/plain": "  0%|          | 0/50 [00:00<?, ?it/s]",
      "application/vnd.jupyter.widget-view+json": {
       "version_major": 2,
       "version_minor": 0,
       "model_id": "9b8e8925b3c24f2e8d3ba5513fe0ac46"
      }
     },
     "metadata": {}
    },
    {
     "name": "stdout",
     "text": "0:\tlearn: 0.3458689\ttest: 0.3451817\tbest: 0.3451817 (0)\ttotal: 305ms\tremaining: 7m 36s\n500:\tlearn: 0.5138562\ttest: 0.5012122\tbest: 0.5014804 (498)\ttotal: 21.8s\tremaining: 43.4s\n1000:\tlearn: 0.5485370\ttest: 0.5253016\tbest: 0.5253016 (1000)\ttotal: 44.6s\tremaining: 22.2s\n1499:\tlearn: 0.5707331\ttest: 0.5365499\tbest: 0.5366102 (1498)\ttotal: 1m 7s\tremaining: 0us\nbestTest = 0.5366102259\nbestIteration = 1498\nShrink model to first 1499 iterations.\n[I 2024-09-28 14:07:17,137] Trial 0 finished with value: 0.582901934479547 and parameters: {'bootstrap_type': 'Poisson', 'auto_class_weights': 'SqrtBalanced', 'learning_rate': 0.84600719756453}. Best is trial 0 with value: 0.582901934479547.\n0:\tlearn: 0.3888688\ttest: 0.3875615\tbest: 0.3875615 (0)\ttotal: 114ms\tremaining: 2m 51s\n500:\tlearn: 0.5309650\ttest: 0.5207257\tbest: 0.5210048 (498)\ttotal: 21.7s\tremaining: 43.2s\n1000:\tlearn: 0.5610653\ttest: 0.5414834\tbest: 0.5414953 (999)\ttotal: 44.4s\tremaining: 22.1s\n1499:\tlearn: 0.5796354\ttest: 0.5531859\tbest: 0.5532896 (1490)\ttotal: 1m 7s\tremaining: 0us\nbestTest = 0.5532896033\nbestIteration = 1490\nShrink model to first 1491 iterations.\n[I 2024-09-28 14:09:08,306] Trial 1 finished with value: 0.5810621618908581 and parameters: {'bootstrap_type': 'Poisson', 'auto_class_weights': None, 'learning_rate': 0.7473578328370659}. Best is trial 0 with value: 0.582901934479547.\n0:\tlearn: 0.3442644\ttest: 0.3437959\tbest: 0.3437959 (0)\ttotal: 73.6ms\tremaining: 1m 50s\n500:\tlearn: 0.4725008\ttest: 0.4661224\tbest: 0.4661535 (498)\ttotal: 17.6s\tremaining: 35.1s\n1000:\tlearn: 0.4976436\ttest: 0.4850395\tbest: 0.4850395 (1000)\ttotal: 34.9s\tremaining: 17.4s\n1499:\tlearn: 0.5149920\ttest: 0.4969208\tbest: 0.4969790 (1492)\ttotal: 53.7s\tremaining: 0us\nbestTest = 0.4969789673\nbestIteration = 1492\nShrink model to first 1493 iterations.\n[I 2024-09-28 14:10:45,848] Trial 2 finished with value: 0.4654707844639397 and parameters: {'bootstrap_type': 'Bernoulli', 'auto_class_weights': 'Balanced', 'learning_rate': 0.18410291030746206, 'subsample': 0.2624306748891392}. Best is trial 0 with value: 0.582901934479547.\n0:\tlearn: 0.2725094\ttest: 0.2717310\tbest: 0.2717310 (0)\ttotal: 94.5ms\tremaining: 2m 21s\n500:\tlearn: 0.4300155\ttest: 0.4258981\tbest: 0.4258981 (500)\ttotal: 23.4s\tremaining: 46.6s\n1000:\tlearn: 0.4444052\ttest: 0.4370769\tbest: 0.4371112 (999)\ttotal: 47.3s\tremaining: 23.6s\n1499:\tlearn: 0.4536371\ttest: 0.4421479\tbest: 0.4422077 (1489)\ttotal: 1m 10s\tremaining: 0us\nbestTest = 0.4422077115\nbestIteration = 1489\nShrink model to first 1490 iterations.\n[I 2024-09-28 14:12:41,486] Trial 3 finished with value: 0.48839042115412357 and parameters: {'bootstrap_type': 'Bayesian', 'auto_class_weights': 'SqrtBalanced', 'learning_rate': 0.5336973914620845, 'bagging_temperature': 6.6376298842318215}. Best is trial 0 with value: 0.582901934479547.\n0:\tlearn: 0.3458689\ttest: 0.3451817\tbest: 0.3451817 (0)\ttotal: 146ms\tremaining: 3m 39s\n500:\tlearn: 0.5065030\ttest: 0.4957917\tbest: 0.4957917 (500)\ttotal: 27s\tremaining: 53.9s\n1000:\tlearn: 0.5360930\ttest: 0.5157793\tbest: 0.5157793 (1000)\ttotal: 55.4s\tremaining: 27.6s\n1499:\tlearn: 0.5569909\ttest: 0.5292739\tbest: 0.5292739 (1499)\ttotal: 1m 23s\tremaining: 0us\nbestTest = 0.5292738694\nbestIteration = 1499\n[I 2024-09-28 14:14:50,892] Trial 4 finished with value: 0.5714083770574531 and parameters: {'bootstrap_type': None, 'auto_class_weights': 'SqrtBalanced', 'learning_rate': 0.5889023512627589}. Best is trial 0 with value: 0.582901934479547.\n0:\tlearn: 0.3888688\ttest: 0.3875615\tbest: 0.3875615 (0)\ttotal: 84ms\tremaining: 2m 5s\n500:\tlearn: 0.5255461\ttest: 0.5146035\tbest: 0.5146035 (500)\ttotal: 18.4s\tremaining: 36.6s\n1000:\tlearn: 0.5533286\ttest: 0.5343078\tbest: 0.5344134 (999)\ttotal: 37.5s\tremaining: 18.7s\n1499:\tlearn: 0.5723014\ttest: 0.5451836\tbest: 0.5452929 (1497)\ttotal: 56.6s\tremaining: 0us\nbestTest = 0.5452928815\nbestIteration = 1497\nShrink model to first 1498 iterations.\n[I 2024-09-28 14:16:31,234] Trial 5 finished with value: 0.5708484776901945 and parameters: {'bootstrap_type': 'Bernoulli', 'auto_class_weights': None, 'learning_rate': 0.7488978639962537, 'subsample': 0.39147909945488446}. Best is trial 0 with value: 0.582901934479547.\n0:\tlearn: 0.3458689\ttest: 0.3451817\tbest: 0.3451817 (0)\ttotal: 117ms\tremaining: 2m 55s\n500:\tlearn: 0.4788786\ttest: 0.4738970\tbest: 0.4738970 (500)\ttotal: 21.8s\tremaining: 43.5s\n1000:\tlearn: 0.5068695\ttest: 0.4980885\tbest: 0.4980885 (1000)\ttotal: 43.8s\tremaining: 21.8s\n1499:\tlearn: 0.5235382\ttest: 0.5109457\tbest: 0.5109457 (1499)\ttotal: 1m 6s\tremaining: 0us\nbestTest = 0.510945672\nbestIteration = 1499\n[I 2024-09-28 14:18:20,712] Trial 6 finished with value: 0.5496871227093735 and parameters: {'bootstrap_type': 'Poisson', 'auto_class_weights': 'SqrtBalanced', 'learning_rate': 0.21665590483364}. Best is trial 0 with value: 0.582901934479547.\n0:\tlearn: 0.3474813\ttest: 0.3469219\tbest: 0.3469219 (0)\ttotal: 133ms\tremaining: 3m 19s\n500:\tlearn: 0.4319111\ttest: 0.4263343\tbest: 0.4263437 (499)\ttotal: 23.4s\tremaining: 46.6s\n1000:\tlearn: 0.4449636\ttest: 0.4351293\tbest: 0.4351293 (1000)\ttotal: 47.2s\tremaining: 23.5s\n1499:\tlearn: 0.4552017\ttest: 0.4423474\tbest: 0.4423510 (1497)\ttotal: 1m 10s\tremaining: 0us\nbestTest = 0.4423509628\nbestIteration = 1497\nShrink model to first 1498 iterations.\n[I 2024-09-28 14:20:16,917] Trial 7 finished with value: 0.4865967111888344 and parameters: {'bootstrap_type': 'Bayesian', 'auto_class_weights': 'SqrtBalanced', 'learning_rate': 0.5811906887640553, 'bagging_temperature': 4.2100223467936715}. Best is trial 0 with value: 0.582901934479547.\n0:\tlearn: 0.3458689\ttest: 0.3451817\tbest: 0.3451817 (0)\ttotal: 117ms\tremaining: 2m 55s\n500:\tlearn: 0.5068101\ttest: 0.4966861\tbest: 0.4966861 (500)\ttotal: 21.9s\tremaining: 43.6s\n1000:\tlearn: 0.5383056\ttest: 0.5205348\tbest: 0.5205880 (999)\ttotal: 45.4s\tremaining: 22.6s\n1499:\tlearn: 0.5602772\ttest: 0.5347608\tbest: 0.5348424 (1497)\ttotal: 1m 8s\tremaining: 0us\nbestTest = 0.5348424082\nbestIteration = 1497\nShrink model to first 1498 iterations.\n[I 2024-09-28 14:22:09,937] Trial 8 finished with value: 0.5756073165829654 and parameters: {'bootstrap_type': 'Poisson', 'auto_class_weights': 'SqrtBalanced', 'learning_rate': 0.5784246145317098}. Best is trial 0 with value: 0.582901934479547.\n0:\tlearn: 0.3442644\ttest: 0.3437959\tbest: 0.3437959 (0)\ttotal: 135ms\tremaining: 3m 22s\n500:\tlearn: 0.5176962\ttest: 0.4958917\tbest: 0.4960634 (498)\ttotal: 27.3s\tremaining: 54.5s\n1000:\tlearn: 0.5557827\ttest: 0.5162073\tbest: 0.5163489 (994)\ttotal: 56s\tremaining: 27.9s\n1499:\tlearn: 0.5815838\ttest: 0.5272124\tbest: 0.5272310 (1496)\ttotal: 1m 24s\tremaining: 0us\nbestTest = 0.5272310002\nbestIteration = 1496\nShrink model to first 1497 iterations.\n[I 2024-09-28 14:24:18,343] Trial 9 finished with value: 0.5169757001238241 and parameters: {'bootstrap_type': None, 'auto_class_weights': 'Balanced', 'learning_rate': 0.8672358096410185}. Best is trial 0 with value: 0.582901934479547.\n0:\tlearn: 0.3442644\ttest: 0.3437959\tbest: 0.3437959 (0)\ttotal: 117ms\tremaining: 2m 54s\n500:\tlearn: 0.5231921\ttest: 0.5005858\tbest: 0.5007115 (499)\ttotal: 22.9s\tremaining: 45.7s\n1000:\tlearn: 0.5627322\ttest: 0.5238550\tbest: 0.5239650 (984)\ttotal: 46.6s\tremaining: 23.2s\n1499:\tlearn: 0.5898760\ttest: 0.5357479\tbest: 0.5358208 (1497)\ttotal: 1m 10s\tremaining: 0us\nbestTest = 0.5358207772\nbestIteration = 1497\nShrink model to first 1498 iterations.\n[I 2024-09-28 14:26:14,471] Trial 10 finished with value: 0.5281235334757566 and parameters: {'bootstrap_type': 'Poisson', 'auto_class_weights': 'Balanced', 'learning_rate': 0.9021582850729983}. Best is trial 0 with value: 0.582901934479547.\n0:\tlearn: 0.3888688\ttest: 0.3875615\tbest: 0.3875615 (0)\ttotal: 115ms\tremaining: 2m 51s\n500:\tlearn: 0.5310897\ttest: 0.5210445\tbest: 0.5210445 (500)\ttotal: 22.1s\tremaining: 44.1s\n1000:\tlearn: 0.5582045\ttest: 0.5388175\tbest: 0.5390041 (995)\ttotal: 44.3s\tremaining: 22.1s\n1499:\tlearn: 0.5790818\ttest: 0.5511912\tbest: 0.5511912 (1499)\ttotal: 1m 7s\tremaining: 0us\nbestTest = 0.5511912393\nbestIteration = 1499\n[I 2024-09-28 14:28:06,564] Trial 11 finished with value: 0.5772712723156469 and parameters: {'bootstrap_type': 'Poisson', 'auto_class_weights': None, 'learning_rate': 0.7514318820303996}. Best is trial 0 with value: 0.582901934479547.\n0:\tlearn: 0.3888688\ttest: 0.3875615\tbest: 0.3875615 (0)\ttotal: 112ms\tremaining: 2m 47s\n500:\tlearn: 0.5334938\ttest: 0.5217971\tbest: 0.5217971 (500)\ttotal: 21.4s\tremaining: 42.6s\n1000:\tlearn: 0.5632721\ttest: 0.5403667\tbest: 0.5403667 (1000)\ttotal: 44.1s\tremaining: 22s\n1499:\tlearn: 0.5831753\ttest: 0.5514049\tbest: 0.5514518 (1494)\ttotal: 1m 7s\tremaining: 0us\nbestTest = 0.5514517693\nbestIteration = 1494\nShrink model to first 1495 iterations.\n[I 2024-09-28 14:29:59,445] Trial 12 finished with value: 0.5815019078510951 and parameters: {'bootstrap_type': 'Poisson', 'auto_class_weights': None, 'learning_rate': 0.9976298564774202}. Best is trial 0 with value: 0.582901934479547.\n0:\tlearn: 0.3888688\ttest: 0.3875615\tbest: 0.3875615 (0)\ttotal: 114ms\tremaining: 2m 50s\n500:\tlearn: 0.5318540\ttest: 0.5211696\tbest: 0.5211902 (499)\ttotal: 22.5s\tremaining: 44.8s\n1000:\tlearn: 0.5620821\ttest: 0.5409697\tbest: 0.5412266 (997)\ttotal: 45.5s\tremaining: 22.7s\n1499:\tlearn: 0.5822456\ttest: 0.5511829\tbest: 0.5511829 (1499)\ttotal: 1m 8s\tremaining: 0us\nbestTest = 0.5511829225\nbestIteration = 1499\n[I 2024-09-28 14:31:54,689] Trial 13 finished with value: 0.5825357031990601 and parameters: {'bootstrap_type': 'Poisson', 'auto_class_weights': None, 'learning_rate': 0.9709736347505993}. Best is trial 0 with value: 0.582901934479547.\n0:\tlearn: 0.3888688\ttest: 0.3875615\tbest: 0.3875615 (0)\ttotal: 115ms\tremaining: 2m 52s\n500:\tlearn: 0.5128868\ttest: 0.5064880\tbest: 0.5064880 (500)\ttotal: 20.9s\tremaining: 41.6s\n1000:\tlearn: 0.5373333\ttest: 0.5257736\tbest: 0.5257736 (1000)\ttotal: 43.2s\tremaining: 21.5s\n1499:\tlearn: 0.5526236\ttest: 0.5364948\tbest: 0.5364948 (1499)\ttotal: 1m 6s\tremaining: 0us\nbestTest = 0.5364948235\nbestIteration = 1499\n[I 2024-09-28 14:33:45,450] Trial 14 finished with value: 0.5539262057542177 and parameters: {'bootstrap_type': 'Poisson', 'auto_class_weights': None, 'learning_rate': 0.33785445619227306}. Best is trial 0 with value: 0.582901934479547.\n0:\tlearn: 0.3458689\ttest: 0.3451817\tbest: 0.3451817 (0)\ttotal: 115ms\tremaining: 2m 52s\n500:\tlearn: 0.5142141\ttest: 0.5006039\tbest: 0.5006768 (495)\ttotal: 22.7s\tremaining: 45.3s\n1000:\tlearn: 0.5485441\ttest: 0.5241743\tbest: 0.5241743 (1000)\ttotal: 46.2s\tremaining: 23s\n1499:\tlearn: 0.5723655\ttest: 0.5361732\tbest: 0.5363229 (1491)\ttotal: 1m 9s\tremaining: 0us\nbestTest = 0.5363229026\nbestIteration = 1491\nShrink model to first 1492 iterations.\n[I 2024-09-28 14:35:40,612] Trial 15 finished with value: 0.5846939256355369 and parameters: {'bootstrap_type': 'Poisson', 'auto_class_weights': 'SqrtBalanced', 'learning_rate': 0.9829757600853629}. Best is trial 15 with value: 0.5846939256355369.\n0:\tlearn: 0.3458689\ttest: 0.3451817\tbest: 0.3451817 (0)\ttotal: 145ms\tremaining: 3m 37s\n500:\tlearn: 0.5141001\ttest: 0.5016198\tbest: 0.5016198 (500)\ttotal: 27.1s\tremaining: 54s\n1000:\tlearn: 0.5448950\ttest: 0.5216402\tbest: 0.5216402 (1000)\ttotal: 55.4s\tremaining: 27.6s\n1499:\tlearn: 0.5673608\ttest: 0.5349096\tbest: 0.5349832 (1498)\ttotal: 1m 23s\tremaining: 0us\nbestTest = 0.5349831853\nbestIteration = 1498\nShrink model to first 1499 iterations.\n[I 2024-09-28 14:37:50,384] Trial 16 finished with value: 0.5786375920727906 and parameters: {'bootstrap_type': None, 'auto_class_weights': 'SqrtBalanced', 'learning_rate': 0.822309959606677}. Best is trial 15 with value: 0.5846939256355369.\n0:\tlearn: 0.3458689\ttest: 0.3451817\tbest: 0.3451817 (0)\ttotal: 137ms\tremaining: 3m 25s\n500:\tlearn: 0.4984480\ttest: 0.4920089\tbest: 0.4920089 (500)\ttotal: 25.7s\tremaining: 51.2s\n1000:\tlearn: 0.5312704\ttest: 0.5183479\tbest: 0.5183479 (1000)\ttotal: 52.2s\tremaining: 26s\n1499:\tlearn: 0.5532101\ttest: 0.5351336\tbest: 0.5352466 (1492)\ttotal: 1m 18s\tremaining: 0us\nbestTest = 0.5352466058\nbestIteration = 1492\nShrink model to first 1493 iterations.\n[I 2024-09-28 14:39:53,088] Trial 17 finished with value: 0.5764640907587134 and parameters: {'bootstrap_type': 'Bernoulli', 'auto_class_weights': 'SqrtBalanced', 'learning_rate': 0.34732760724004097, 'subsample': 0.9194554059087162}. Best is trial 15 with value: 0.5846939256355369.\n0:\tlearn: 0.3458689\ttest: 0.3451817\tbest: 0.3451817 (0)\ttotal: 147ms\tremaining: 3m 40s\n500:\tlearn: 0.5178250\ttest: 0.5068049\tbest: 0.5068354 (498)\ttotal: 27.4s\tremaining: 54.6s\n1000:\tlearn: 0.5564951\ttest: 0.5352207\tbest: 0.5352207 (1000)\ttotal: 56s\tremaining: 27.9s\n1499:\tlearn: 0.5813720\ttest: 0.5509434\tbest: 0.5509993 (1496)\ttotal: 1m 24s\tremaining: 0us\nbestTest = 0.5509993124\nbestIteration = 1496\nShrink model to first 1497 iterations.\n[I 2024-09-28 14:42:02,678] Trial 18 finished with value: 0.5957117741968567 and parameters: {'bootstrap_type': 'Bayesian', 'auto_class_weights': 'SqrtBalanced', 'learning_rate': 0.6809276369403882, 'bagging_temperature': 0.09769760308160613}. Best is trial 18 with value: 0.5957117741968567.\n0:\tlearn: 0.3458689\ttest: 0.3451817\tbest: 0.3451817 (0)\ttotal: 144ms\tremaining: 3m 36s\n500:\tlearn: 0.4272539\ttest: 0.4257999\tbest: 0.4257999 (500)\ttotal: 26.5s\tremaining: 52.8s\n1000:\tlearn: 0.4500778\ttest: 0.4478885\tbest: 0.4478885 (1000)\ttotal: 52.4s\tremaining: 26.1s\n1499:\tlearn: 0.4648082\ttest: 0.4617054\tbest: 0.4617380 (1498)\ttotal: 1m 18s\tremaining: 0us\nbestTest = 0.4617379867\nbestIteration = 1498\nShrink model to first 1499 iterations.\n[I 2024-09-28 14:44:04,590] Trial 19 finished with value: 0.504229006245133 and parameters: {'bootstrap_type': 'Bayesian', 'auto_class_weights': 'SqrtBalanced', 'learning_rate': 0.048069734018007404, 'bagging_temperature': 0.22317308776102163}. Best is trial 18 with value: 0.5957117741968567.\n0:\tlearn: 0.3458689\ttest: 0.3451817\tbest: 0.3451817 (0)\ttotal: 143ms\tremaining: 3m 34s\n500:\tlearn: 0.5162123\ttest: 0.5054576\tbest: 0.5054576 (500)\ttotal: 27.5s\tremaining: 54.8s\n1000:\tlearn: 0.5541801\ttest: 0.5327111\tbest: 0.5328146 (994)\ttotal: 56.1s\tremaining: 28s\n1499:\tlearn: 0.5795693\ttest: 0.5496518\tbest: 0.5497064 (1495)\ttotal: 1m 24s\tremaining: 0us\nbestTest = 0.5497063644\nbestIteration = 1495\nShrink model to first 1496 iterations.\n[I 2024-09-28 14:46:13,640] Trial 20 finished with value: 0.5939733877652329 and parameters: {'bootstrap_type': 'Bayesian', 'auto_class_weights': 'SqrtBalanced', 'learning_rate': 0.668383652717844, 'bagging_temperature': 0.23983348003932387}. Best is trial 18 with value: 0.5957117741968567.\n0:\tlearn: 0.3458689\ttest: 0.3451817\tbest: 0.3451817 (0)\ttotal: 146ms\tremaining: 3m 38s\n500:\tlearn: 0.5115745\ttest: 0.5008218\tbest: 0.5008218 (500)\ttotal: 27s\tremaining: 53.9s\n1000:\tlearn: 0.5461041\ttest: 0.5251476\tbest: 0.5251476 (1000)\ttotal: 55.3s\tremaining: 27.6s\n1499:\tlearn: 0.5691276\ttest: 0.5392367\tbest: 0.5392802 (1491)\ttotal: 1m 24s\tremaining: 0us\nbestTest = 0.5392802077\nbestIteration = 1491\nShrink model to first 1492 iterations.\n[I 2024-09-28 14:48:22,144] Trial 21 finished with value: 0.5816814233235593 and parameters: {'bootstrap_type': 'Bayesian', 'auto_class_weights': 'SqrtBalanced', 'learning_rate': 0.6960903112016769, 'bagging_temperature': 0.7416225337599076}. Best is trial 18 with value: 0.5957117741968567.\n0:\tlearn: 0.3466327\ttest: 0.3459829\tbest: 0.3459829 (0)\ttotal: 144ms\tremaining: 3m 35s\n500:\tlearn: 0.4535172\ttest: 0.4464911\tbest: 0.4464911 (500)\ttotal: 25.4s\tremaining: 50.7s\n1000:\tlearn: 0.4696450\ttest: 0.4584043\tbest: 0.4584762 (997)\ttotal: 51.2s\tremaining: 25.5s\n1499:\tlearn: 0.4810660\ttest: 0.4659654\tbest: 0.4660728 (1497)\ttotal: 1m 16s\tremaining: 0us\nbestTest = 0.4660728118\nbestIteration = 1497\nShrink model to first 1498 iterations.\n[I 2024-09-28 14:50:22,243] Trial 22 finished with value: 0.5044554166893758 and parameters: {'bootstrap_type': 'Bayesian', 'auto_class_weights': 'SqrtBalanced', 'learning_rate': 0.4423238967324244, 'bagging_temperature': 2.699687541545343}. Best is trial 18 with value: 0.5957117741968567.\n0:\tlearn: 0.2912059\ttest: 0.2914951\tbest: 0.2914951 (0)\ttotal: 145ms\tremaining: 3m 36s\n500:\tlearn: 0.4338001\ttest: 0.4218142\tbest: 0.4220010 (498)\ttotal: 29.9s\tremaining: 59.6s\n1000:\tlearn: 0.4576625\ttest: 0.4367325\tbest: 0.4367325 (1000)\ttotal: 59.4s\tremaining: 29.6s\n1499:\tlearn: 0.4727390\ttest: 0.4437116\tbest: 0.4437980 (1496)\ttotal: 1m 28s\tremaining: 0us\nbestTest = 0.4437979988\nbestIteration = 1496\nShrink model to first 1497 iterations.\n[I 2024-09-28 14:52:34,752] Trial 23 finished with value: 0.4929200826892589 and parameters: {'bootstrap_type': 'Bayesian', 'auto_class_weights': 'SqrtBalanced', 'learning_rate': 0.6652153481150076, 'bagging_temperature': 9.726750761656344}. Best is trial 18 with value: 0.5957117741968567.\n0:\tlearn: 0.3458689\ttest: 0.3451817\tbest: 0.3451817 (0)\ttotal: 145ms\tremaining: 3m 38s\n500:\tlearn: 0.4797902\ttest: 0.4709149\tbest: 0.4710936 (498)\ttotal: 26.9s\tremaining: 53.7s\n1000:\tlearn: 0.5042881\ttest: 0.4896081\tbest: 0.4897346 (997)\ttotal: 54.1s\tremaining: 27s\n1499:\tlearn: 0.5179834\ttest: 0.4980283\tbest: 0.4980283 (1499)\ttotal: 1m 21s\tremaining: 0us\nbestTest = 0.4980283471\nbestIteration = 1499\n[I 2024-09-28 14:54:41,263] Trial 24 finished with value: 0.5382977092637637 and parameters: {'bootstrap_type': 'Bayesian', 'auto_class_weights': 'SqrtBalanced', 'learning_rate': 0.43766828463008, 'bagging_temperature': 1.7700093397845893}. Best is trial 18 with value: 0.5957117741968567.\n0:\tlearn: 0.3445126\ttest: 0.3442245\tbest: 0.3442245 (0)\ttotal: 135ms\tremaining: 3m 22s\n500:\tlearn: 0.5306557\ttest: 0.5142071\tbest: 0.5142071 (500)\ttotal: 27.7s\tremaining: 55.3s\n1000:\tlearn: 0.5749566\ttest: 0.5434735\tbest: 0.5435322 (999)\ttotal: 56.7s\tremaining: 28.3s\n1499:\tlearn: 0.6030641\ttest: 0.5603112\tbest: 0.5603755 (1495)\ttotal: 1m 25s\tremaining: 0us\nbestTest = 0.5603755478\nbestIteration = 1495\nShrink model to first 1496 iterations.\n[I 2024-09-28 14:56:53,232] Trial 25 finished with value: 0.5464974325093892 and parameters: {'bootstrap_type': 'Bayesian', 'auto_class_weights': 'Balanced', 'learning_rate': 0.6973762179878554, 'bagging_temperature': 0.010686216689521313}. Best is trial 18 with value: 0.5957117741968567.\n0:\tlearn: 0.3474813\ttest: 0.3469219\tbest: 0.3469219 (0)\ttotal: 145ms\tremaining: 3m 36s\n500:\tlearn: 0.4533168\ttest: 0.4442852\tbest: 0.4446787 (481)\ttotal: 25.2s\tremaining: 50.3s\n1000:\tlearn: 0.4680933\ttest: 0.4528722\tbest: 0.4530178 (985)\ttotal: 50.3s\tremaining: 25.1s\n1499:\tlearn: 0.4789735\ttest: 0.4581616\tbest: 0.4581616 (1499)\ttotal: 1m 15s\tremaining: 0us\nbestTest = 0.4581616275\nbestIteration = 1499\n[I 2024-09-28 14:58:53,945] Trial 26 finished with value: 0.5014598348022592 and parameters: {'bootstrap_type': 'Bayesian', 'auto_class_weights': 'SqrtBalanced', 'learning_rate': 0.9223642222482932, 'bagging_temperature': 3.091775048146722}. Best is trial 18 with value: 0.5957117741968567.\n0:\tlearn: 0.2725094\ttest: 0.2717310\tbest: 0.2717310 (0)\ttotal: 99.4ms\tremaining: 2m 29s\n500:\tlearn: 0.4313716\ttest: 0.4265250\tbest: 0.4265878 (490)\ttotal: 23.3s\tremaining: 46.5s\n1000:\tlearn: 0.4465616\ttest: 0.4371869\tbest: 0.4371869 (1000)\ttotal: 47s\tremaining: 23.4s\n1499:\tlearn: 0.4557938\ttest: 0.4428123\tbest: 0.4429302 (1495)\ttotal: 1m 10s\tremaining: 0us\nbestTest = 0.442930244\nbestIteration = 1495\nShrink model to first 1496 iterations.\n[I 2024-09-28 15:00:49,427] Trial 27 finished with value: 0.4898111847297576 and parameters: {'bootstrap_type': 'Bayesian', 'auto_class_weights': 'SqrtBalanced', 'learning_rate': 0.6325720307215561, 'bagging_temperature': 6.484797951957124}. Best is trial 18 with value: 0.5957117741968567.\n0:\tlearn: 0.3458689\ttest: 0.3451817\tbest: 0.3451817 (0)\ttotal: 127ms\tremaining: 3m 9s\n500:\tlearn: 0.5155465\ttest: 0.5041086\tbest: 0.5041086 (500)\ttotal: 23.2s\tremaining: 46.3s\n1000:\tlearn: 0.5547351\ttest: 0.5318698\tbest: 0.5318698 (1000)\ttotal: 48.6s\tremaining: 24.2s\n1499:\tlearn: 0.5803113\ttest: 0.5474546\tbest: 0.5476036 (1493)\ttotal: 1m 14s\tremaining: 0us\nbestTest = 0.54760362\nbestIteration = 1493\nShrink model to first 1494 iterations.\n[I 2024-09-28 15:02:47,318] Trial 28 finished with value: 0.5926527822519554 and parameters: {'bootstrap_type': 'Bernoulli', 'auto_class_weights': 'SqrtBalanced', 'learning_rate': 0.7755117516944503, 'subsample': 0.8146731715285362}. Best is trial 18 with value: 0.5957117741968567.\n0:\tlearn: 0.3458689\ttest: 0.3451817\tbest: 0.3451817 (0)\ttotal: 129ms\tremaining: 3m 14s\n500:\tlearn: 0.5168136\ttest: 0.5065833\tbest: 0.5065833 (500)\ttotal: 23.4s\tremaining: 46.6s\n1000:\tlearn: 0.5536658\ttest: 0.5315772\tbest: 0.5315772 (1000)\ttotal: 48.7s\tremaining: 24.3s\n1499:\tlearn: 0.5797061\ttest: 0.5474792\tbest: 0.5475092 (1498)\ttotal: 1m 13s\tremaining: 0us\nbestTest = 0.5475091899\nbestIteration = 1498\nShrink model to first 1499 iterations.\n[I 2024-09-28 15:04:46,321] Trial 29 finished with value: 0.5933022688993279 and parameters: {'bootstrap_type': 'Bernoulli', 'auto_class_weights': 'SqrtBalanced', 'learning_rate': 0.8015007821599656, 'subsample': 0.8174885394442505}. Best is trial 18 with value: 0.5957117741968567.\n0:\tlearn: 0.3442644\ttest: 0.3437959\tbest: 0.3437959 (0)\ttotal: 107ms\tremaining: 2m 41s\n500:\tlearn: 0.5085287\ttest: 0.4931952\tbest: 0.4932857 (496)\ttotal: 20.8s\tremaining: 41.4s\n1000:\tlearn: 0.5431254\ttest: 0.5156213\tbest: 0.5156743 (999)\ttotal: 42s\tremaining: 20.9s\n1499:\tlearn: 0.5652195\ttest: 0.5284411\tbest: 0.5285491 (1497)\ttotal: 1m 3s\tremaining: 0us\nbestTest = 0.5285491104\nbestIteration = 1497\nShrink model to first 1498 iterations.\n[I 2024-09-28 15:06:35,813] Trial 30 finished with value: 0.5137349447283758 and parameters: {'bootstrap_type': 'Bernoulli', 'auto_class_weights': 'Balanced', 'learning_rate': 0.8117825045721899, 'subsample': 0.6637992059002569}. Best is trial 18 with value: 0.5957117741968567.\n0:\tlearn: 0.3458689\ttest: 0.3451817\tbest: 0.3451817 (0)\ttotal: 131ms\tremaining: 3m 16s\n500:\tlearn: 0.5201420\ttest: 0.5081950\tbest: 0.5082241 (498)\ttotal: 24.4s\tremaining: 48.6s\n1000:\tlearn: 0.5567293\ttest: 0.5349516\tbest: 0.5349516 (1000)\ttotal: 50.2s\tremaining: 25s\n1499:\tlearn: 0.5823897\ttest: 0.5500206\tbest: 0.5500206 (1499)\ttotal: 1m 16s\tremaining: 0us\nbestTest = 0.5500205775\nbestIteration = 1499\n[I 2024-09-28 15:08:37,018] Trial 31 finished with value: 0.5959248723703637 and parameters: {'bootstrap_type': 'Bernoulli', 'auto_class_weights': 'SqrtBalanced', 'learning_rate': 0.7861326943120147, 'subsample': 0.8448688511145999}. Best is trial 31 with value: 0.5959248723703637.\n0:\tlearn: 0.3458689\ttest: 0.3451817\tbest: 0.3451817 (0)\ttotal: 114ms\tremaining: 2m 51s\n500:\tlearn: 0.5170660\ttest: 0.5049671\tbest: 0.5049671 (500)\ttotal: 21.2s\tremaining: 42.3s\n1000:\tlearn: 0.5539906\ttest: 0.5296172\tbest: 0.5296172 (1000)\ttotal: 43.8s\tremaining: 21.8s\n1499:\tlearn: 0.5791085\ttest: 0.5453584\tbest: 0.5453584 (1499)\ttotal: 1m 7s\tremaining: 0us\nbestTest = 0.5453583845\nbestIteration = 1499\n[I 2024-09-28 15:10:28,363] Trial 32 finished with value: 0.5907467291206442 and parameters: {'bootstrap_type': 'Bernoulli', 'auto_class_weights': 'SqrtBalanced', 'learning_rate': 0.8426089668197125, 'subsample': 0.6699269059461463}. Best is trial 31 with value: 0.5959248723703637.\n0:\tlearn: 0.3458689\ttest: 0.3451817\tbest: 0.3451817 (0)\ttotal: 144ms\tremaining: 3m 36s\n500:\tlearn: 0.5162387\ttest: 0.5052912\tbest: 0.5052912 (500)\ttotal: 26.5s\tremaining: 52.9s\n1000:\tlearn: 0.5543176\ttest: 0.5338755\tbest: 0.5338885 (999)\ttotal: 54.6s\tremaining: 27.2s\n1499:\tlearn: 0.5784311\ttest: 0.5507270\tbest: 0.5507270 (1499)\ttotal: 1m 22s\tremaining: 0us\nbestTest = 0.5507269575\nbestIteration = 1499\n[I 2024-09-28 15:12:34,576] Trial 33 finished with value: 0.5954655292063876 and parameters: {'bootstrap_type': 'Bernoulli', 'auto_class_weights': 'SqrtBalanced', 'learning_rate': 0.6551200881831496, 'subsample': 0.9861170534921563}. Best is trial 31 with value: 0.5959248723703637.\n0:\tlearn: 0.3458689\ttest: 0.3451817\tbest: 0.3451817 (0)\ttotal: 146ms\tremaining: 3m 38s\n500:\tlearn: 0.5103061\ttest: 0.5020385\tbest: 0.5020662 (498)\ttotal: 27s\tremaining: 53.8s\n1000:\tlearn: 0.5430627\ttest: 0.5282312\tbest: 0.5282312 (1000)\ttotal: 55.2s\tremaining: 27.5s\n1499:\tlearn: 0.5669301\ttest: 0.5442859\tbest: 0.5442859 (1499)\ttotal: 1m 23s\tremaining: 0us\nbestTest = 0.5442859095\nbestIteration = 1499\n[I 2024-09-28 15:14:43,496] Trial 34 finished with value: 0.5849270853062546 and parameters: {'bootstrap_type': 'Bernoulli', 'auto_class_weights': 'SqrtBalanced', 'learning_rate': 0.4852101727240234, 'subsample': 0.9961797775950165}. Best is trial 31 with value: 0.5959248723703637.\n0:\tlearn: 0.3458689\ttest: 0.3451817\tbest: 0.3451817 (0)\ttotal: 145ms\tremaining: 3m 37s\n500:\tlearn: 0.5157408\ttest: 0.5053937\tbest: 0.5053937 (500)\ttotal: 27.3s\tremaining: 54.4s\n1000:\tlearn: 0.5518616\ttest: 0.5324302\tbest: 0.5324308 (999)\ttotal: 55.3s\tremaining: 27.6s\n1499:\tlearn: 0.5766461\ttest: 0.5487718\tbest: 0.5487972 (1498)\ttotal: 1m 23s\tremaining: 0us\nbestTest = 0.5487972403\nbestIteration = 1498\nShrink model to first 1499 iterations.\n[I 2024-09-28 15:16:52,918] Trial 35 finished with value: 0.5929413017231399 and parameters: {'bootstrap_type': 'Bernoulli', 'auto_class_weights': 'SqrtBalanced', 'learning_rate': 0.6376961273228317, 'subsample': 0.9899182475186669}. Best is trial 31 with value: 0.5959248723703637.\n0:\tlearn: 0.3458689\ttest: 0.3451817\tbest: 0.3451817 (0)\ttotal: 119ms\tremaining: 2m 58s\n500:\tlearn: 0.5117188\ttest: 0.5002493\tbest: 0.5002493 (500)\ttotal: 19.5s\tremaining: 38.9s\n1000:\tlearn: 0.5449150\ttest: 0.5237774\tbest: 0.5237774 (1000)\ttotal: 41.1s\tremaining: 20.5s\n1499:\tlearn: 0.5675535\ttest: 0.5362197\tbest: 0.5362471 (1497)\ttotal: 1m 2s\tremaining: 0us\nbestTest = 0.5362471497\nbestIteration = 1497\nShrink model to first 1498 iterations.\n[I 2024-09-28 15:18:40,941] Trial 36 finished with value: 0.5800742106749426 and parameters: {'bootstrap_type': 'Bernoulli', 'auto_class_weights': 'SqrtBalanced', 'learning_rate': 0.6985477939738922, 'subsample': 0.4978871855886594}. Best is trial 31 with value: 0.5959248723703637.\n0:\tlearn: 0.3458689\ttest: 0.3451817\tbest: 0.3451817 (0)\ttotal: 146ms\tremaining: 3m 38s\n500:\tlearn: 0.5057199\ttest: 0.4951962\tbest: 0.4951962 (500)\ttotal: 26.7s\tremaining: 53.2s\n1000:\tlearn: 0.5362154\ttest: 0.5189628\tbest: 0.5190039 (998)\ttotal: 55.5s\tremaining: 27.7s\n1499:\tlearn: 0.5557982\ttest: 0.5309436\tbest: 0.5309533 (1498)\ttotal: 1m 23s\tremaining: 0us\nbestTest = 0.5309533085\nbestIteration = 1498\nShrink model to first 1499 iterations.\n[I 2024-09-28 15:20:50,593] Trial 37 finished with value: 0.5724146370531177 and parameters: {'bootstrap_type': None, 'auto_class_weights': 'SqrtBalanced', 'learning_rate': 0.5259526859048831}. Best is trial 31 with value: 0.5959248723703637.\n0:\tlearn: 0.3458689\ttest: 0.3451817\tbest: 0.3451817 (0)\ttotal: 128ms\tremaining: 3m 11s\n500:\tlearn: 0.5137977\ttest: 0.5044404\tbest: 0.5044404 (500)\ttotal: 23.4s\tremaining: 46.7s\n1000:\tlearn: 0.5482705\ttest: 0.5298604\tbest: 0.5299193 (999)\ttotal: 47.9s\tremaining: 23.9s\n1499:\tlearn: 0.5721751\ttest: 0.5450260\tbest: 0.5450260 (1499)\ttotal: 1m 13s\tremaining: 0us\nbestTest = 0.5450259659\nbestIteration = 1499\n[I 2024-09-28 15:22:49,043] Trial 38 finished with value: 0.5878460736915314 and parameters: {'bootstrap_type': 'Bernoulli', 'auto_class_weights': 'SqrtBalanced', 'learning_rate': 0.5999831750920049, 'subsample': 0.8031498004134613}. Best is trial 31 with value: 0.5959248723703637.\n0:\tlearn: 0.3480815\ttest: 0.3475865\tbest: 0.3475865 (0)\ttotal: 140ms\tremaining: 3m 29s\n500:\tlearn: 0.4834957\ttest: 0.4670987\tbest: 0.4671425 (492)\ttotal: 26.3s\tremaining: 52.5s\n1000:\tlearn: 0.5093814\ttest: 0.4810594\tbest: 0.4810668 (994)\ttotal: 52.6s\tremaining: 26.2s\n1499:\tlearn: 0.5281157\ttest: 0.4894624\tbest: 0.4895347 (1488)\ttotal: 1m 19s\tremaining: 0us\nbestTest = 0.4895346636\nbestIteration = 1488\nShrink model to first 1489 iterations.\n[I 2024-09-28 15:24:55,645] Trial 39 finished with value: 0.4707175203958639 and parameters: {'bootstrap_type': 'Bayesian', 'auto_class_weights': 'Balanced', 'learning_rate': 0.7259318749458187, 'bagging_temperature': 1.878221033080031}. Best is trial 31 with value: 0.5959248723703637.\n0:\tlearn: 0.3458689\ttest: 0.3451817\tbest: 0.3451817 (0)\ttotal: 113ms\tremaining: 2m 49s\n500:\tlearn: 0.5093088\ttest: 0.4995643\tbest: 0.4995643 (500)\ttotal: 21.3s\tremaining: 42.4s\n1000:\tlearn: 0.5434014\ttest: 0.5246530\tbest: 0.5246549 (995)\ttotal: 44.2s\tremaining: 22s\n1499:\tlearn: 0.5648691\ttest: 0.5385934\tbest: 0.5386274 (1494)\ttotal: 1m 6s\tremaining: 0us\nbestTest = 0.5386273621\nbestIteration = 1494\nShrink model to first 1495 iterations.\n[I 2024-09-28 15:26:48,124] Trial 40 finished with value: 0.5800151838106188 and parameters: {'bootstrap_type': 'Bernoulli', 'auto_class_weights': 'SqrtBalanced', 'learning_rate': 0.5526222170433122, 'subsample': 0.6521377323342208}. Best is trial 31 with value: 0.5959248723703637.\n0:\tlearn: 0.3458689\ttest: 0.3451817\tbest: 0.3451817 (0)\ttotal: 132ms\tremaining: 3m 17s\n500:\tlearn: 0.5197181\ttest: 0.5075989\tbest: 0.5075989 (500)\ttotal: 25s\tremaining: 49.9s\n1000:\tlearn: 0.5572512\ttest: 0.5348460\tbest: 0.5348460 (1000)\ttotal: 51s\tremaining: 25.4s\n1499:\tlearn: 0.5826961\ttest: 0.5504860\tbest: 0.5504860 (1499)\ttotal: 1m 16s\tremaining: 0us\nbestTest = 0.5504860374\nbestIteration = 1499\n[I 2024-09-28 15:28:49,554] Trial 41 finished with value: 0.5961073691558884 and parameters: {'bootstrap_type': 'Bernoulli', 'auto_class_weights': 'SqrtBalanced', 'learning_rate': 0.789063955517771, 'subsample': 0.847761183921768}. Best is trial 41 with value: 0.5961073691558884.\n0:\tlearn: 0.3458689\ttest: 0.3451817\tbest: 0.3451817 (0)\ttotal: 132ms\tremaining: 3m 17s\n500:\tlearn: 0.5160127\ttest: 0.5056627\tbest: 0.5056627 (500)\ttotal: 25.1s\tremaining: 50.1s\n1000:\tlearn: 0.5543240\ttest: 0.5349980\tbest: 0.5350712 (998)\ttotal: 51.5s\tremaining: 25.7s\n1499:\tlearn: 0.5776427\ttest: 0.5499412\tbest: 0.5500209 (1492)\ttotal: 1m 17s\tremaining: 0us\nbestTest = 0.5500208994\nbestIteration = 1492\nShrink model to first 1493 iterations.\n[I 2024-09-28 15:30:52,076] Trial 42 finished with value: 0.5958479602344636 and parameters: {'bootstrap_type': 'Bernoulli', 'auto_class_weights': 'SqrtBalanced', 'learning_rate': 0.6485246371879239, 'subsample': 0.8743332657342865}. Best is trial 41 with value: 0.5961073691558884.\n0:\tlearn: 0.3458689\ttest: 0.3451817\tbest: 0.3451817 (0)\ttotal: 133ms\tremaining: 3m 18s\n500:\tlearn: 0.5188792\ttest: 0.5078296\tbest: 0.5079076 (498)\ttotal: 24.8s\tremaining: 49.4s\n1000:\tlearn: 0.5583636\ttest: 0.5360888\tbest: 0.5360888 (1000)\ttotal: 51.3s\tremaining: 25.6s\n1499:\tlearn: 0.5839570\ttest: 0.5508015\tbest: 0.5508015 (1499)\ttotal: 1m 17s\tremaining: 0us\nbestTest = 0.5508015481\nbestIteration = 1499\n[I 2024-09-28 15:32:55,085] Trial 43 finished with value: 0.5971996791753108 and parameters: {'bootstrap_type': 'Bernoulli', 'auto_class_weights': 'SqrtBalanced', 'learning_rate': 0.8644140555068249, 'subsample': 0.8750377028642913}. Best is trial 43 with value: 0.5971996791753108.\n0:\tlearn: 0.3458689\ttest: 0.3451817\tbest: 0.3451817 (0)\ttotal: 128ms\tremaining: 3m 12s\n500:\tlearn: 0.5194107\ttest: 0.5060724\tbest: 0.5060724 (500)\ttotal: 24.3s\tremaining: 48.4s\n1000:\tlearn: 0.5582620\ttest: 0.5345082\tbest: 0.5345564 (999)\ttotal: 50.1s\tremaining: 25s\n1499:\tlearn: 0.5841309\ttest: 0.5490894\tbest: 0.5492763 (1492)\ttotal: 1m 16s\tremaining: 0us\nbestTest = 0.5492763479\nbestIteration = 1492\nShrink model to first 1493 iterations.\n[I 2024-09-28 15:34:54,858] Trial 44 finished with value: 0.5970674526347365 and parameters: {'bootstrap_type': 'Bernoulli', 'auto_class_weights': 'SqrtBalanced', 'learning_rate': 0.8950504732044567, 'subsample': 0.851118960802983}. Best is trial 43 with value: 0.5971996791753108.\n0:\tlearn: 0.3888688\ttest: 0.3875615\tbest: 0.3875615 (0)\ttotal: 126ms\tremaining: 3m 9s\n500:\tlearn: 0.5385295\ttest: 0.5278417\tbest: 0.5278417 (500)\ttotal: 24.1s\tremaining: 48.1s\n1000:\tlearn: 0.5727997\ttest: 0.5513393\tbest: 0.5514352 (997)\ttotal: 49.6s\tremaining: 24.7s\n1499:\tlearn: 0.5954322\ttest: 0.5640401\tbest: 0.5640720 (1497)\ttotal: 1m 15s\tremaining: 0us\nbestTest = 0.5640719925\nbestIteration = 1497\nShrink model to first 1498 iterations.\n[I 2024-09-28 15:36:55,025] Trial 45 finished with value: 0.5964746243852542 and parameters: {'bootstrap_type': 'Bernoulli', 'auto_class_weights': None, 'learning_rate': 0.9072266546639592, 'subsample': 0.8558408095602902}. Best is trial 43 with value: 0.5971996791753108.\n0:\tlearn: 0.3888688\ttest: 0.3875615\tbest: 0.3875615 (0)\ttotal: 117ms\tremaining: 2m 55s\n500:\tlearn: 0.5363574\ttest: 0.5250846\tbest: 0.5251577 (497)\ttotal: 23.6s\tremaining: 47s\n1000:\tlearn: 0.5685847\ttest: 0.5463463\tbest: 0.5463463 (1000)\ttotal: 47.1s\tremaining: 23.5s\n1499:\tlearn: 0.5915871\ttest: 0.5609384\tbest: 0.5611174 (1497)\ttotal: 1m 11s\tremaining: 0us\nbestTest = 0.5611174393\nbestIteration = 1497\nShrink model to first 1498 iterations.\n[I 2024-09-28 15:38:51,741] Trial 46 finished with value: 0.5899559988581706 and parameters: {'bootstrap_type': 'Bernoulli', 'auto_class_weights': None, 'learning_rate': 0.8965529298759082, 'subsample': 0.7616593263386136}. Best is trial 43 with value: 0.5971996791753108.\n0:\tlearn: 0.3888688\ttest: 0.3875615\tbest: 0.3875615 (0)\ttotal: 128ms\tremaining: 3m 12s\n500:\tlearn: 0.5381082\ttest: 0.5271579\tbest: 0.5271579 (500)\ttotal: 25s\tremaining: 49.8s\n1000:\tlearn: 0.5710964\ttest: 0.5503253\tbest: 0.5503253 (1000)\ttotal: 51.6s\tremaining: 25.7s\n1499:\tlearn: 0.5945402\ttest: 0.5653903\tbest: 0.5654211 (1498)\ttotal: 1m 18s\tremaining: 0us\nbestTest = 0.5654210989\nbestIteration = 1498\nShrink model to first 1499 iterations.\n[I 2024-09-28 15:40:54,361] Trial 47 finished with value: 0.5962166318743296 and parameters: {'bootstrap_type': 'Bernoulli', 'auto_class_weights': None, 'learning_rate': 0.8646067370944637, 'subsample': 0.8822761055616164}. Best is trial 43 with value: 0.5971996791753108.\n0:\tlearn: 0.3888688\ttest: 0.3875615\tbest: 0.3875615 (0)\ttotal: 116ms\tremaining: 2m 53s\n500:\tlearn: 0.5358193\ttest: 0.5257154\tbest: 0.5257154 (500)\ttotal: 22.4s\tremaining: 44.7s\n1000:\tlearn: 0.5690159\ttest: 0.5479016\tbest: 0.5479016 (1000)\ttotal: 46.4s\tremaining: 23.1s\n1499:\tlearn: 0.5909227\ttest: 0.5605056\tbest: 0.5605069 (1496)\ttotal: 1m 10s\tremaining: 0us\nbestTest = 0.5605068922\nbestIteration = 1496\nShrink model to first 1497 iterations.\n[I 2024-09-28 15:42:50,207] Trial 48 finished with value: 0.5901455885149193 and parameters: {'bootstrap_type': 'Bernoulli', 'auto_class_weights': None, 'learning_rate': 0.9287179253807768, 'subsample': 0.7207699059467675}. Best is trial 43 with value: 0.5971996791753108.\n0:\tlearn: 0.3888688\ttest: 0.3875615\tbest: 0.3875615 (0)\ttotal: 133ms\tremaining: 3m 19s\n500:\tlearn: 0.5365912\ttest: 0.5263917\tbest: 0.5264186 (495)\ttotal: 25s\tremaining: 49.9s\n1000:\tlearn: 0.5730894\ttest: 0.5526175\tbest: 0.5526175 (1000)\ttotal: 51.6s\tremaining: 25.7s\n1499:\tlearn: 0.5963599\ttest: 0.5660283\tbest: 0.5662460 (1490)\ttotal: 1m 18s\tremaining: 0us\nbestTest = 0.5662460058\nbestIteration = 1490\nShrink model to first 1491 iterations.\n[I 2024-09-28 15:44:53,600] Trial 49 finished with value: 0.5980092277637994 and parameters: {'bootstrap_type': 'Bernoulli', 'auto_class_weights': None, 'learning_rate': 0.8715306415556401, 'subsample': 0.9110538663058473}. Best is trial 49 with value: 0.5980092277637994.\nNumber of finished trials: 50\nBest trial:\n  Value: 0.5980092277637994\n  Params: \n    bootstrap_type: Bernoulli\n    auto_class_weights: None\n    learning_rate: 0.8715306415556401\n    subsample: 0.9110538663058473\n",
     "output_type": "stream"
    }
   ]
  },
  {
   "cell_type": "code",
   "source": [],
   "metadata": {},
   "execution_count": null,
   "outputs": []
  }
 ]
}
