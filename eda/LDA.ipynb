{
 "cells": [
  {
   "cell_type": "markdown",
   "id": "50f0b3f5",
   "metadata": {
    "ExecuteTime": {
     "end_time": "2024-09-28T18:11:52.195307Z",
     "start_time": "2024-09-28T18:11:48.434176Z"
    },
    "scrolled": true
   },
   "source": [
    "## Импорты"
   ]
  },
  {
   "cell_type": "code",
   "execution_count": 1,
   "id": "9660fec2",
   "metadata": {
    "ExecuteTime": {
     "end_time": "2024-09-28T20:26:42.588782Z",
     "start_time": "2024-09-28T20:26:39.037332Z"
    }
   },
   "outputs": [
    {
     "name": "stdout",
     "output_type": "stream",
     "text": [
      "Looking in indexes: https://pypi.org/simple, https://pypi.ngc.nvidia.com\n",
      "Requirement already satisfied: nltk in /opt/homebrew/lib/python3.11/site-packages (3.9.1)\n",
      "Requirement already satisfied: click in /opt/homebrew/lib/python3.11/site-packages (from nltk) (8.1.6)\n",
      "Requirement already satisfied: joblib in /opt/homebrew/lib/python3.11/site-packages (from nltk) (1.3.2)\n",
      "Requirement already satisfied: regex>=2021.8.3 in /opt/homebrew/lib/python3.11/site-packages (from nltk) (2024.9.11)\n",
      "Requirement already satisfied: tqdm in /opt/homebrew/lib/python3.11/site-packages (from nltk) (4.66.1)\n"
     ]
    }
   ],
   "source": [
    "!pip install nltk"
   ]
  },
  {
   "cell_type": "code",
   "execution_count": 2,
   "id": "29e8ba32",
   "metadata": {
    "ExecuteTime": {
     "end_time": "2024-09-28T20:26:45.249264Z",
     "start_time": "2024-09-28T20:26:42.591405Z"
    }
   },
   "outputs": [
    {
     "name": "stdout",
     "output_type": "stream",
     "text": [
      "Looking in indexes: https://pypi.org/simple, https://pypi.ngc.nvidia.com\n",
      "Requirement already satisfied: pyLDAvis in /opt/homebrew/lib/python3.11/site-packages (3.4.1)\n",
      "Requirement already satisfied: numpy>=1.24.2 in /opt/homebrew/lib/python3.11/site-packages (from pyLDAvis) (1.24.3)\n",
      "Requirement already satisfied: scipy in /opt/homebrew/lib/python3.11/site-packages (from pyLDAvis) (1.11.1)\n",
      "Requirement already satisfied: pandas>=2.0.0 in /opt/homebrew/lib/python3.11/site-packages (from pyLDAvis) (2.0.1)\n",
      "Requirement already satisfied: joblib>=1.2.0 in /opt/homebrew/lib/python3.11/site-packages (from pyLDAvis) (1.3.2)\n",
      "Requirement already satisfied: jinja2 in /opt/homebrew/lib/python3.11/site-packages (from pyLDAvis) (3.1.2)\n",
      "Requirement already satisfied: numexpr in /opt/homebrew/lib/python3.11/site-packages (from pyLDAvis) (2.10.1)\n",
      "Requirement already satisfied: funcy in /opt/homebrew/lib/python3.11/site-packages (from pyLDAvis) (2.0)\n",
      "Requirement already satisfied: scikit-learn>=1.0.0 in /opt/homebrew/lib/python3.11/site-packages (from pyLDAvis) (1.3.1)\n",
      "Requirement already satisfied: gensim in /opt/homebrew/lib/python3.11/site-packages (from pyLDAvis) (4.3.2)\n",
      "Requirement already satisfied: setuptools in /opt/homebrew/lib/python3.11/site-packages (from pyLDAvis) (74.1.2)\n",
      "Requirement already satisfied: python-dateutil>=2.8.2 in /opt/homebrew/lib/python3.11/site-packages (from pandas>=2.0.0->pyLDAvis) (2.8.2)\n",
      "Requirement already satisfied: pytz>=2020.1 in /opt/homebrew/lib/python3.11/site-packages (from pandas>=2.0.0->pyLDAvis) (2023.3)\n",
      "Requirement already satisfied: tzdata>=2022.1 in /opt/homebrew/lib/python3.11/site-packages (from pandas>=2.0.0->pyLDAvis) (2023.3)\n",
      "Requirement already satisfied: threadpoolctl>=2.0.0 in /opt/homebrew/lib/python3.11/site-packages (from scikit-learn>=1.0.0->pyLDAvis) (3.2.0)\n",
      "Requirement already satisfied: smart-open>=1.8.1 in /opt/homebrew/lib/python3.11/site-packages (from gensim->pyLDAvis) (6.4.0)\n",
      "Requirement already satisfied: MarkupSafe>=2.0 in /opt/homebrew/lib/python3.11/site-packages (from jinja2->pyLDAvis) (2.1.3)\n",
      "Requirement already satisfied: six>=1.5 in /opt/homebrew/lib/python3.11/site-packages (from python-dateutil>=2.8.2->pandas>=2.0.0->pyLDAvis) (1.16.0)\n"
     ]
    }
   ],
   "source": [
    "!pip install pyLDAvis"
   ]
  },
  {
   "cell_type": "code",
   "execution_count": 3,
   "id": "00473401",
   "metadata": {
    "ExecuteTime": {
     "end_time": "2024-09-28T20:26:47.516717Z",
     "start_time": "2024-09-28T20:26:45.251028Z"
    }
   },
   "outputs": [
    {
     "name": "stdout",
     "output_type": "stream",
     "text": [
      "Looking in indexes: https://pypi.org/simple, https://pypi.ngc.nvidia.com\n",
      "Requirement already satisfied: plotly.express in /opt/homebrew/lib/python3.11/site-packages (0.4.1)\n",
      "Requirement already satisfied: pandas>=0.20.0 in /opt/homebrew/lib/python3.11/site-packages (from plotly.express) (2.0.1)\n",
      "Requirement already satisfied: plotly>=4.1.0 in /opt/homebrew/lib/python3.11/site-packages (from plotly.express) (5.24.1)\n",
      "Requirement already satisfied: statsmodels>=0.9.0 in /opt/homebrew/lib/python3.11/site-packages (from plotly.express) (0.14.0)\n",
      "Requirement already satisfied: scipy>=0.18 in /opt/homebrew/lib/python3.11/site-packages (from plotly.express) (1.11.1)\n",
      "Requirement already satisfied: patsy>=0.5 in /opt/homebrew/lib/python3.11/site-packages (from plotly.express) (0.5.3)\n",
      "Requirement already satisfied: numpy>=1.11 in /opt/homebrew/lib/python3.11/site-packages (from plotly.express) (1.24.3)\n",
      "Requirement already satisfied: python-dateutil>=2.8.2 in /opt/homebrew/lib/python3.11/site-packages (from pandas>=0.20.0->plotly.express) (2.8.2)\n",
      "Requirement already satisfied: pytz>=2020.1 in /opt/homebrew/lib/python3.11/site-packages (from pandas>=0.20.0->plotly.express) (2023.3)\n",
      "Requirement already satisfied: tzdata>=2022.1 in /opt/homebrew/lib/python3.11/site-packages (from pandas>=0.20.0->plotly.express) (2023.3)\n",
      "Requirement already satisfied: six in /opt/homebrew/lib/python3.11/site-packages (from patsy>=0.5->plotly.express) (1.16.0)\n",
      "Requirement already satisfied: tenacity>=6.2.0 in /opt/homebrew/lib/python3.11/site-packages (from plotly>=4.1.0->plotly.express) (9.0.0)\n",
      "Requirement already satisfied: packaging in /opt/homebrew/lib/python3.11/site-packages (from plotly>=4.1.0->plotly.express) (23.1)\n"
     ]
    }
   ],
   "source": [
    "!pip install plotly.express"
   ]
  },
  {
   "cell_type": "code",
   "execution_count": 4,
   "id": "1c00264b",
   "metadata": {
    "ExecuteTime": {
     "end_time": "2024-09-28T20:26:49.850449Z",
     "start_time": "2024-09-28T20:26:47.519755Z"
    }
   },
   "outputs": [
    {
     "name": "stdout",
     "output_type": "stream",
     "text": [
      "Looking in indexes: https://pypi.org/simple, https://pypi.ngc.nvidia.com\r\n",
      "Requirement already satisfied: pymorphy3 in /opt/homebrew/lib/python3.11/site-packages (2.0.2)\r\n",
      "Requirement already satisfied: dawg-python>=0.7.1 in /opt/homebrew/lib/python3.11/site-packages (from pymorphy3) (0.7.2)\r\n",
      "Requirement already satisfied: pymorphy3-dicts-ru in /opt/homebrew/lib/python3.11/site-packages (from pymorphy3) (2.4.417150.4580142)\r\n"
     ]
    }
   ],
   "source": [
    "!pip install pymorphy3"
   ]
  },
  {
   "cell_type": "code",
   "execution_count": 5,
   "id": "76a0ad4f",
   "metadata": {
    "ExecuteTime": {
     "end_time": "2024-09-28T20:26:51.788644Z",
     "start_time": "2024-09-28T20:26:49.852920Z"
    }
   },
   "outputs": [
    {
     "name": "stderr",
     "output_type": "stream",
     "text": [
      "[nltk_data] Downloading package punkt_tab to\n",
      "[nltk_data]     /Users/lldckv/nltk_data...\n",
      "[nltk_data]   Package punkt_tab is already up-to-date!\n",
      "[nltk_data] Downloading package stopwords to\n",
      "[nltk_data]     /Users/lldckv/nltk_data...\n",
      "[nltk_data]   Package stopwords is already up-to-date!\n",
      "[nltk_data] Downloading package punkt to /Users/lldckv/nltk_data...\n",
      "[nltk_data]   Package punkt is already up-to-date!\n"
     ]
    }
   ],
   "source": [
    "import pandas as pd\n",
    "import typing as tp\n",
    "import numpy as np\n",
    "import matplotlib.pyplot as plt\n",
    "import pytz\n",
    "import gensim\n",
    "import pyLDAvis.gensim_models\n",
    "from gensim import corpora\n",
    "from sklearn.feature_extraction.text import CountVectorizer\n",
    "import pymorphy3\n",
    "import inspect\n",
    "import re\n",
    "import nltk\n",
    "from nltk.corpus import stopwords\n",
    "from nltk.tokenize import word_tokenize\n",
    "nltk.download('punkt_tab')\n",
    "nltk.download('stopwords')\n",
    "russian_stopwords = stopwords.words(\"russian\")\n",
    "nltk.download('punkt')\n",
    "from tqdm import tqdm\n",
    "from gensim.models import LdaMulticore, CoherenceModel\n",
    "from gensim.models import Phrases"
   ]
  },
  {
   "cell_type": "markdown",
   "id": "1a45ca79",
   "metadata": {},
   "source": [
    "## Обработка данных"
   ]
  },
  {
   "cell_type": "code",
   "execution_count": 11,
   "id": "cb98757c",
   "metadata": {
    "ExecuteTime": {
     "end_time": "2024-09-28T20:28:27.790924Z",
     "start_time": "2024-09-28T20:28:22.299903Z"
    }
   },
   "outputs": [
    {
     "data": {
      "text/html": [
       "<div>\n",
       "<style scoped>\n",
       "    .dataframe tbody tr th:only-of-type {\n",
       "        vertical-align: middle;\n",
       "    }\n",
       "\n",
       "    .dataframe tbody tr th {\n",
       "        vertical-align: top;\n",
       "    }\n",
       "\n",
       "    .dataframe thead th {\n",
       "        text-align: right;\n",
       "    }\n",
       "</style>\n",
       "<table border=\"1\" class=\"dataframe\">\n",
       "  <thead>\n",
       "    <tr style=\"text-align: right;\">\n",
       "      <th></th>\n",
       "      <th>rutube_video_id</th>\n",
       "      <th>title</th>\n",
       "    </tr>\n",
       "  </thead>\n",
       "  <tbody>\n",
       "    <tr>\n",
       "      <th>0</th>\n",
       "      <td>video_133074</td>\n",
       "      <td>Папа с особенностями. Мужское / Женское. Выпус...</td>\n",
       "    </tr>\n",
       "    <tr>\n",
       "      <th>1</th>\n",
       "      <td>video_61152</td>\n",
       "      <td>День защиты детей. Мужское / Женское. Выпуск о...</td>\n",
       "    </tr>\n",
       "    <tr>\n",
       "      <th>2</th>\n",
       "      <td>video_96775</td>\n",
       "      <td>Новая Битва экстрасенсов, 24 сезон, 11 выпуск</td>\n",
       "    </tr>\n",
       "    <tr>\n",
       "      <th>3</th>\n",
       "      <td>video_402535</td>\n",
       "      <td>Свадьба башкирских стиляг VS Свадьба в стиле бохо</td>\n",
       "    </tr>\n",
       "    <tr>\n",
       "      <th>4</th>\n",
       "      <td>video_180483</td>\n",
       "      <td>Мультфильм История игрушек: Большой побег I To...</td>\n",
       "    </tr>\n",
       "  </tbody>\n",
       "</table>\n",
       "</div>"
      ],
      "text/plain": [
       "  rutube_video_id                                              title\n",
       "0    video_133074  Папа с особенностями. Мужское / Женское. Выпус...\n",
       "1     video_61152  День защиты детей. Мужское / Женское. Выпуск о...\n",
       "2     video_96775      Новая Битва экстрасенсов, 24 сезон, 11 выпуск\n",
       "3    video_402535  Свадьба башкирских стиляг VS Свадьба в стиле бохо\n",
       "4    video_180483  Мультфильм История игрушек: Большой побег I To..."
      ]
     },
     "execution_count": 11,
     "metadata": {},
     "output_type": "execute_result"
    }
   ],
   "source": [
    "video_info = pd.read_csv('video_info_v2.csv')\n",
    "train_events_df = pd.read_csv('train_events.csv')\n",
    "train_targets_df = pd.read_csv('train_targets.csv')\n",
    "\n",
    "video_info = video_info[['title', 'rutube_video_id']]\n",
    "train_events_df = train_events_df[['viewer_uid', 'rutube_video_id']]\n",
    "train_targets_df = train_targets_df[['viewer_uid']]\n",
    "\n",
    "merged_df_v1 = pd.merge(train_events_df, train_targets_df, on='viewer_uid', how='outer')\n",
    "\n",
    "merged_df_v2 = pd.merge(merged_df_v1, video_info, on='rutube_video_id', how='left')\n",
    "\n",
    "video_data = merged_df_v2[['rutube_video_id', 'title']].drop_duplicates()\n",
    "\n",
    "video_data.head()"
   ]
  },
  {
   "cell_type": "code",
   "execution_count": null,
   "id": "9b2dda00",
   "metadata": {
    "ExecuteTime": {
     "end_time": "2024-09-28T20:26:58.499535Z",
     "start_time": "2024-09-28T20:26:58.499528Z"
    }
   },
   "outputs": [],
   "source": [
    "analyzer = pymorphy3.MorphAnalyzer()"
   ]
  },
  {
   "cell_type": "code",
   "execution_count": null,
   "id": "ce4055b4",
   "metadata": {
    "ExecuteTime": {
     "end_time": "2024-09-28T20:26:58.500187Z",
     "start_time": "2024-09-28T20:26:58.500180Z"
    }
   },
   "outputs": [],
   "source": [
    "def text_to_wordlist(text: tp.List[str], remove_stopwords: bool=False, bi: bool=False) -> tp.List[str]:\n",
    "    text = re.sub(r'[^а-яА-ЯёЁa-zA-Z]', \" \", text)\n",
    "    words = word_tokenize(text)\n",
    "    words = [w.lower() for w in words]\n",
    "    norm_words = [analyzer.parse(word)[0].normal_form for word in words]\n",
    "    if remove_stopwords:\n",
    "        stops = stopwords.words(\"russian\") + [\"серия\", \"сезон\", \"смотреть\", \"бесплатно\", \"фильм\",\n",
    "                                              \"новый\", \"часть\", \"мульсериал\", \"кино\", \"последний\",\n",
    "                                              \"озвучка\", \"шоу\", \"выпуск\", \"сериал\"]\n",
    "        if not bi:\n",
    "            stops = stops + ['and', 'the']\n",
    "        norm_words = [w for w in norm_words if w not in stops]\n",
    "    norm_words = [w for w in norm_words if len(w) >= 3]\n",
    "\n",
    "    return norm_words"
   ]
  },
  {
   "cell_type": "code",
   "execution_count": null,
   "id": "6d8db490",
   "metadata": {
    "ExecuteTime": {
     "end_time": "2024-09-28T20:26:58.500900Z",
     "start_time": "2024-09-28T20:26:58.500893Z"
    }
   },
   "outputs": [],
   "source": [
    "video_data[\"content\"] = video_data.apply(lambda row: text_to_wordlist(row[\"title\"], remove_stopwords=True), axis=1)\n",
    "video_data.head()"
   ]
  },
  {
   "cell_type": "markdown",
   "id": "948b6417",
   "metadata": {},
   "source": [
    "### LDA с униграммами"
   ]
  },
  {
   "cell_type": "code",
   "execution_count": null,
   "id": "39d6cacd",
   "metadata": {
    "ExecuteTime": {
     "end_time": "2024-09-28T20:26:58.501440Z",
     "start_time": "2024-09-28T20:26:58.501433Z"
    }
   },
   "outputs": [],
   "source": [
    "id2word_uni = corpora.Dictionary(video_data[\"content\"].tolist())\n",
    "texts = video_data[\"content\"].tolist()\n",
    "corpus_uni = [id2word_uni.doc2bow(text) for text in texts]"
   ]
  },
  {
   "cell_type": "code",
   "execution_count": null,
   "id": "fcdbc8c2",
   "metadata": {
    "ExecuteTime": {
     "end_time": "2024-09-28T20:26:58.501933Z",
     "start_time": "2024-09-28T20:26:58.501927Z"
    }
   },
   "outputs": [],
   "source": [
    "st=2\n",
    "lim=20\n",
    "stp=2\n",
    "\n",
    "\n",
    "def compute_coherence_values(dictionary, corp, texts, start:int=st, limit:int = lim, step:int=stp):\n",
    "    \"\"\"\n",
    "\tПодсчет c_v когерентности для различного количества тем\n",
    "\tdictionary : Gensim словарь\n",
    "\tcorpus : Gensim корпус\n",
    "\ttexts : Список текста\n",
    "\tlimit : Максимальное количество тем\n",
    "\n",
    "\tmodel_list : Список LDA моделей\n",
    "\tcoherence_values :Когерентности, соответствующие модели LDA с количеством тем\n",
    "    \"\"\"\n",
    "    coherence_values = []\n",
    "    model_list = []\n",
    "    for num_topics in tqdm(range(start, limit, step)):\n",
    "        model=LdaMulticore(corpus=corp,id2word=dictionary, num_topics=num_topics, random_state=np.random.RandomState(42))\n",
    "        model_list.append(model)\n",
    "        coherencemodel = CoherenceModel(model=model, texts=texts, dictionary=dictionary, coherence='c_v')\n",
    "        coherence_values.append(coherencemodel.get_coherence())\n",
    "    return model_list, coherence_values\n"
   ]
  },
  {
   "cell_type": "code",
   "execution_count": null,
   "id": "53f17985",
   "metadata": {
    "ExecuteTime": {
     "end_time": "2024-09-28T20:26:58.502689Z",
     "start_time": "2024-09-28T20:26:58.502683Z"
    }
   },
   "outputs": [],
   "source": [
    "model_list_uni, coherence_values_uni = compute_coherence_values(dictionary=id2word_uni, corp=corpus_uni, texts=texts)"
   ]
  },
  {
   "cell_type": "code",
   "execution_count": null,
   "id": "ca5bead4",
   "metadata": {
    "ExecuteTime": {
     "end_time": "2024-09-28T20:26:58.503130Z",
     "start_time": "2024-09-28T20:26:58.503124Z"
    }
   },
   "outputs": [],
   "source": [
    "def plot_coherence_values(coherence_values: np.array, start:int=st, limit:int = lim, step:int=stp, bi:bool=False):\n",
    "    x = range(start, limit, step)\n",
    "    plt.plot(x, coherence_values)\n",
    "    if bi:\n",
    "        name = 'Биграммы'\n",
    "    else:\n",
    "        name = 'Униграммы'\n",
    "    plt.xlabel(f\"Количество тем: {name}\")\n",
    "    plt.ylabel(\"Согласованность\")\n",
    "    plt.legend((\"coherence_values\"), loc='best')\n",
    "    plt.show()\n",
    "    return x[coherence_values_uni.index(max(coherence_values_uni))]\n"
   ]
  },
  {
   "cell_type": "code",
   "execution_count": null,
   "id": "594c2ae6",
   "metadata": {
    "ExecuteTime": {
     "end_time": "2024-09-28T20:26:58.503691Z",
     "start_time": "2024-09-28T20:26:58.503685Z"
    }
   },
   "outputs": [],
   "source": [
    "n_topics_uni = plot_coherence_values(coherence_values=coherence_values_uni)"
   ]
  },
  {
   "cell_type": "code",
   "execution_count": null,
   "id": "c95d8267",
   "metadata": {
    "ExecuteTime": {
     "end_time": "2024-09-28T20:26:58.504921Z",
     "start_time": "2024-09-28T20:26:58.504915Z"
    }
   },
   "outputs": [],
   "source": [
    "lda_model_uni = LdaMulticore(corpus=corpus_uni, id2word=id2word_uni, num_topics=n_topics_uni)\n",
    "lda_model_uni.print_topics()[:3]"
   ]
  },
  {
   "cell_type": "code",
   "execution_count": null,
   "id": "26d06b3b",
   "metadata": {
    "ExecuteTime": {
     "end_time": "2024-09-28T20:26:58.506465Z",
     "start_time": "2024-09-28T20:26:58.506458Z"
    }
   },
   "outputs": [],
   "source": [
    "pyLDAvis.enable_notebook()\n",
    "LDAvis_prepared_uni = pyLDAvis.gensim_models.prepare(lda_model_uni, corpus_uni, id2word_uni)"
   ]
  },
  {
   "cell_type": "code",
   "execution_count": null,
   "id": "79b999df",
   "metadata": {
    "ExecuteTime": {
     "end_time": "2024-09-28T20:26:58.507186Z",
     "start_time": "2024-09-28T20:26:58.507179Z"
    }
   },
   "outputs": [],
   "source": [
    "pyLDAvis.save_html(LDAvis_prepared_uni, 'lda_visualization_unigram.html')"
   ]
  },
  {
   "cell_type": "code",
   "execution_count": null,
   "id": "77161cd2",
   "metadata": {
    "ExecuteTime": {
     "end_time": "2024-09-28T20:26:58.508115Z",
     "start_time": "2024-09-28T20:26:58.508108Z"
    }
   },
   "outputs": [],
   "source": [
    "LDAvis_prepared_uni"
   ]
  },
  {
   "cell_type": "markdown",
   "id": "06bf7c2d",
   "metadata": {},
   "source": [
    "### LDA с биграммами"
   ]
  },
  {
   "cell_type": "code",
   "execution_count": null,
   "id": "3ad5e0a7",
   "metadata": {
    "ExecuteTime": {
     "end_time": "2024-09-28T20:26:58.508845Z",
     "start_time": "2024-09-28T20:26:58.508840Z"
    }
   },
   "outputs": [],
   "source": [
    "bigram = Phrases(texts, min_count=2, threshold=1)\n",
    "bigram_mod = gensim.models.phrases.Phraser(bigram)\n",
    "\n",
    "texts_with_bigrams = [bigram_mod[text] for text in texts]\n",
    "\n",
    "id2word_b = corpora.Dictionary(texts_with_bigrams)\n",
    "corpus_b = [id2word_b.doc2bow(text) for text in texts_with_bigrams]\n",
    "model_list_b, coherence_values_b = compute_coherence_values(dictionary=id2word_b, corp=corpus_b, texts=texts_with_bigrams, start=2, limit=20, step=2)"
   ]
  },
  {
   "cell_type": "code",
   "execution_count": null,
   "id": "d417861a",
   "metadata": {
    "ExecuteTime": {
     "end_time": "2024-09-28T20:26:58.509647Z",
     "start_time": "2024-09-28T20:26:58.509640Z"
    }
   },
   "outputs": [],
   "source": [
    "n_topics_b = plot_coherence_values(coherence_values=coherence_values_b)"
   ]
  },
  {
   "cell_type": "code",
   "execution_count": null,
   "id": "cf6bc3c6",
   "metadata": {
    "ExecuteTime": {
     "end_time": "2024-09-28T20:26:58.510593Z",
     "start_time": "2024-09-28T20:26:58.510584Z"
    }
   },
   "outputs": [],
   "source": [
    "lda_model_b = LdaMulticore(corpus=corpus_b, id2word=id2word_b, num_topics=n_topics_b)\n",
    "lda_model_b.print_topics()[:3]"
   ]
  },
  {
   "cell_type": "code",
   "execution_count": null,
   "id": "c4214961",
   "metadata": {
    "ExecuteTime": {
     "end_time": "2024-09-28T20:26:58.511450Z",
     "start_time": "2024-09-28T20:26:58.511443Z"
    }
   },
   "outputs": [],
   "source": [
    "pyLDAvis.enable_notebook()\n",
    "LDAvis_prepared_b = pyLDAvis.gensim_models.prepare(lda_model_b, corpus_b, id2word_b)"
   ]
  },
  {
   "cell_type": "code",
   "execution_count": null,
   "id": "0ba6c989",
   "metadata": {
    "ExecuteTime": {
     "end_time": "2024-09-28T20:26:58.512518Z",
     "start_time": "2024-09-28T20:26:58.512511Z"
    }
   },
   "outputs": [],
   "source": [
    "# pyLDAvis.save_html(LDAvis_prepared_b, 'lda_visualization_bigram.html')"
   ]
  },
  {
   "cell_type": "code",
   "execution_count": null,
   "id": "00ee1bcc",
   "metadata": {
    "ExecuteTime": {
     "end_time": "2024-09-28T20:26:58.513118Z",
     "start_time": "2024-09-28T20:26:58.513112Z"
    }
   },
   "outputs": [],
   "source": [
    "LDAvis_prepared_b"
   ]
  }
 ],
 "metadata": {
  "hide_input": false,
  "kernelspec": {
   "display_name": "Python 3 (ipykernel)",
   "language": "python",
   "name": "python3"
  },
  "language_info": {
   "codemirror_mode": {
    "name": "ipython",
    "version": 3
   },
   "file_extension": ".py",
   "mimetype": "text/x-python",
   "name": "python",
   "nbconvert_exporter": "python",
   "pygments_lexer": "ipython3",
   "version": "3.11.10"
  },
  "toc": {
   "base_numbering": 1,
   "nav_menu": {},
   "number_sections": true,
   "sideBar": true,
   "skip_h1_title": false,
   "title_cell": "Table of Contents",
   "title_sidebar": "Contents",
   "toc_cell": false,
   "toc_position": {},
   "toc_section_display": true,
   "toc_window_display": false
  }
 },
 "nbformat": 4,
 "nbformat_minor": 5
}
